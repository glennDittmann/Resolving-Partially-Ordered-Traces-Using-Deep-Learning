{
 "cells": [
  {
   "cell_type": "code",
   "execution_count": 2,
   "metadata": {
    "id": "KrqQct3vwNfY"
   },
   "outputs": [
    {
     "ename": "ModuleNotFoundError",
     "evalue": "No module named 'pm4py'",
     "output_type": "error",
     "traceback": [
      "\u001b[0;31m---------------------------------------------------------------------------\u001b[0m",
      "\u001b[0;31mModuleNotFoundError\u001b[0m                       Traceback (most recent call last)",
      "\u001b[0;32m<ipython-input-2-0400d13822bf>\u001b[0m in \u001b[0;36m<module>\u001b[0;34m\u001b[0m\n\u001b[0;32m----> 1\u001b[0;31m \u001b[0;32mfrom\u001b[0m \u001b[0mpm4py\u001b[0m\u001b[0;34m.\u001b[0m\u001b[0mobjects\u001b[0m\u001b[0;34m.\u001b[0m\u001b[0mlog\u001b[0m\u001b[0;34m.\u001b[0m\u001b[0mimporter\u001b[0m\u001b[0;34m.\u001b[0m\u001b[0mxes\u001b[0m \u001b[0;32mimport\u001b[0m \u001b[0mimporter\u001b[0m \u001b[0;32mas\u001b[0m \u001b[0mxes_importer\u001b[0m\u001b[0;34m\u001b[0m\u001b[0;34m\u001b[0m\u001b[0m\n\u001b[0m",
      "\u001b[0;31mModuleNotFoundError\u001b[0m: No module named 'pm4py'"
     ]
    }
   ],
   "source": [
    "from pm4py.objects.log.importer.xes import importer as xes_importer"
   ]
  },
  {
   "cell_type": "markdown",
   "metadata": {
    "id": "rAdvLOQ65mm2"
   },
   "source": [
    "## Visualization\n",
    "Plot creating for usage in the bachelor thesis"
   ]
  },
  {
   "cell_type": "code",
   "execution_count": 7,
   "metadata": {
    "id": "FmL6nMuM7kxg"
   },
   "outputs": [],
   "source": [
    "import matplotlib.pyplot as plt\n",
    "import pandas as pd\n",
    "import seaborn as sns\n",
    "import pickle\n",
    "import itertools\n",
    "import numpy as np\n",
    "import statistics"
   ]
  },
  {
   "cell_type": "code",
   "execution_count": 2,
   "metadata": {},
   "outputs": [],
   "source": [
    "width = 'thesis' # 448.13095\n",
    "def set_size(width, fraction=1, subplots=(1, 1)):\n",
    "    \"\"\"Set figure dimensions to avoid scaling in LaTeX.\n",
    "\n",
    "    Parameters\n",
    "    ----------\n",
    "    width: float or string\n",
    "            Document width in points, or string of predined document type\n",
    "    fraction: float, optional\n",
    "            Fraction of the width which you wish the figure to occupy\n",
    "    subplots: array-like, optional\n",
    "            The number of rows and columns of subplots.\n",
    "    Returns\n",
    "    -------\n",
    "    fig_dim: tuple\n",
    "            Dimensions of figure in inches\n",
    "    \"\"\"\n",
    "    if width == 'thesis':\n",
    "        width_pt = 448.13095\n",
    "    elif width == 'beamer':\n",
    "        width_pt = 307.28987\n",
    "    else:\n",
    "        width_pt = width\n",
    "\n",
    "    # Width of figure (in pts)\n",
    "    fig_width_pt = width_pt * fraction\n",
    "    # Convert from pt to inches\n",
    "    inches_per_pt = 1 / 72.27\n",
    "\n",
    "    # Golden ratio to set aesthetic figure height\n",
    "    # https://disq.us/p/2940ij3\n",
    "    golden_ratio = (5**.5 - 1) / 2\n",
    "\n",
    "    # Figure width in inches\n",
    "    fig_width_in = fig_width_pt * inches_per_pt\n",
    "    # Figure height in inches\n",
    "    fig_height_in = fig_width_in * golden_ratio * (subplots[0] / subplots[1])\n",
    "\n",
    "    return (fig_width_in, fig_height_in)"
   ]
  },
  {
   "cell_type": "code",
   "execution_count": 3,
   "metadata": {},
   "outputs": [],
   "source": [
    "def bar_plot(ax, data, colors=None, total_width=0.8, single_width=1, legend=True):\n",
    "    \"\"\"Draws a bar plot with multiple bars per data point.\n",
    "\n",
    "    Parameters\n",
    "    ----------\n",
    "    ax : matplotlib.pyplot.axis\n",
    "        The axis we want to draw our plot on.\n",
    "\n",
    "    data: dictionary\n",
    "        A dictionary containing the data we want to plot. Keys are the names of the\n",
    "        data, the items is a list of the values.\n",
    "\n",
    "        Example:\n",
    "        data = {\n",
    "            \"x\":[1,2,3],\n",
    "            \"y\":[1,2,3],\n",
    "            \"z\":[1,2,3],\n",
    "        }\n",
    "\n",
    "    colors : array-like, optional\n",
    "        A list of colors which are used for the bars. If None, the colors\n",
    "        will be the standard matplotlib color cyle. (default: None)\n",
    "\n",
    "    total_width : float, optional, default: 0.8\n",
    "        The width of a bar group. 0.8 means that 80% of the x-axis is covered\n",
    "        by bars and 20% will be spaces between the bars.\n",
    "\n",
    "    single_width: float, optional, default: 1\n",
    "        The relative width of a single bar within a group. 1 means the bars\n",
    "        will touch eachother within a group, values less than 1 will make\n",
    "        these bars thinner.\n",
    "\n",
    "    legend: bool, optional, default: True\n",
    "        If this is set to true, a legend will be added to the axis.\n",
    "    \"\"\"\n",
    "\n",
    "    # Check if colors where provided, otherwhise use the default color cycle\n",
    "    if colors is None:\n",
    "        colors = plt.rcParams['axes.prop_cycle'].by_key()['color']\n",
    "\n",
    "    # Number of bars per group\n",
    "    n_bars = len(data)\n",
    "\n",
    "    # The width of a single bar\n",
    "    bar_width = total_width / n_bars\n",
    "\n",
    "    # List containing handles for the drawn bars, used for the legend\n",
    "    bars = []\n",
    "\n",
    "    # Iterate over all data\n",
    "    for i, (name, values) in enumerate(data.items()):\n",
    "        # The offset in x direction of that bar\n",
    "        x_offset = (i - n_bars / 2) * bar_width + bar_width / 2\n",
    "\n",
    "        # Draw a bar for every value of that type\n",
    "        for x, y in enumerate(values):\n",
    "            bar = ax.bar(x + x_offset, y, width=bar_width * single_width, color=colors[i % len(colors)])\n",
    "\n",
    "        # Add a handle to the last drawn bar, which we'll need for the legend\n",
    "        bars.append(bar[0])\n",
    "\n",
    "    # Draw legend if we need\n",
    "    if legend:\n",
    "        ax.legend(bars, data.keys(), loc='upper left')"
   ]
  },
  {
   "cell_type": "code",
   "execution_count": 4,
   "metadata": {},
   "outputs": [],
   "source": [
    "plt.style.use('seaborn')\n",
    "plt.style.use('tex')\n",
    "sns.set_style(\"whitegrid\")\n",
    "flierprops = dict(marker='o', markerfacecolor='green', markersize=1,\n",
    "                  markeredgecolor='none')\n",
    "\n",
    "save_dir = './ba_tex/figures/'"
   ]
  },
  {
   "cell_type": "code",
   "execution_count": 139,
   "metadata": {},
   "outputs": [
    {
     "data": {
      "image/png": "[encoded data removed]",
      "text/plain": [
       "<Figure size 446.457x275.925 with 2 Axes>"
      ]
     },
     "metadata": {},
     "output_type": "display_data"
    }
   ],
   "source": [
    "datasets = [\"BPIC14\", \"Traffic Fines\", \"Artificial\"]\n",
    "data_LSTM = {\n",
    "    \"Enc1\": [0.3, 1.0, 0.74],\n",
    "    \"Enc2\": [0.29, 1.0, 0.80],\n",
    "    \"Enc3\": [0.29, 1.0, 0.84],\n",
    "}\n",
    "data_Seq2Seq = {\n",
    "    \"Enc1\": [0.3, 0.99, 0.45],\n",
    "    \"Enc2\": [0.29, 1.0, 0.8],\n",
    "    \"Enc3\": [0.3, 1.0, 0.79],\n",
    "}\n",
    "\n",
    "fig, axs = plt.subplots(1, 2, figsize=set_size(width))\n",
    "\n",
    "bar_plot(axs[0], data_LSTM, total_width=.8, single_width=.9)\n",
    "axs[0].set_xticks(range(3)) \n",
    "axs[0].set_xticklabels(datasets)\n",
    "axs[0].set_title('LSTM Model')\n",
    "\n",
    "bar_plot(axs[1], data_Seq2Seq, total_width=.8, single_width=.9)\n",
    "axs[1].set_xticks(range(3)) \n",
    "axs[1].set_xticklabels(datasets)\n",
    "axs[1].set_title('Seq2Seq Model')\n",
    "\n",
    "#fig.suptitle('Accuracy results for the given configurations')\n",
    "#plt.savefig(save_dir+\"double_accuracy.pdf\", format='pdf', bbox_inches='tight')\n",
    "plt.show()"
   ]
  },
  {
   "cell_type": "code",
   "execution_count": 137,
   "metadata": {},
   "outputs": [
    {
     "data": {
      "image/png": "[encoded data removed]",
      "text/plain": [
       "<Figure size 446.457x275.925 with 1 Axes>"
      ]
     },
     "metadata": {},
     "output_type": "display_data"
    }
   ],
   "source": [
    "fig, axs = plt.subplots(1, 1, figsize=set_size(width))\n",
    "bar_plot(axs, data_LSTM, total_width=.8, single_width=.9)\n",
    "axs.set_xticks(range(3)) \n",
    "axs.set_xticklabels(datasets)\n",
    "#plt.savefig(save_dir+\"LSTM_accuracy.pdf\", format='pdf', bbox_inches='tight')\n",
    "plt.show()"
   ]
  },
  {
   "cell_type": "code",
   "execution_count": 138,
   "metadata": {},
   "outputs": [
    {
     "data": {
      "image/png": "[encoded data removed]",
      "text/plain": [
       "<Figure size 446.457x275.925 with 1 Axes>"
      ]
     },
     "metadata": {},
     "output_type": "display_data"
    }
   ],
   "source": [
    "fig, axs = plt.subplots(1, 1, figsize=set_size(width))\n",
    "bar_plot(axs, data_Seq2Seq, total_width=.8, single_width=.9)\n",
    "axs.set_xticks(range(3)) \n",
    "axs.set_xticklabels(datasets)\n",
    "#plt.savefig(save_dir+\"Seq2Seq_accuracy.pdf\", format='pdf', bbox_inches='tight')\n",
    "plt.show()"
   ]
  },
  {
   "cell_type": "markdown",
   "metadata": {
    "id": "I4Bn-hwNY6ck"
   },
   "source": [
    "### Plotting the Boxplots"
   ]
  },
  {
   "cell_type": "markdown",
   "metadata": {
    "id": "UlKauWpeY-Cl"
   },
   "source": [
    "probability distibution of the predicted possible resolutions"
   ]
  },
  {
   "cell_type": "code",
   "execution_count": 5,
   "metadata": {
    "id": "t8PfSJ-evrBs"
   },
   "outputs": [],
   "source": [
    "def load_dict(path: str):\n",
    "  a_file = open(path, \"rb\")\n",
    "  output2d = pickle.load(a_file)\n",
    "  a_file.close()\n",
    "\n",
    "  merged = list(itertools.chain(*list(output2d.values())))\n",
    "  merged = [float(val) for val in merged]\n",
    "\n",
    "  return merged\n",
    "\n",
    "def split_boxplot_data(path: str):\n",
    "  id_maps = []\n",
    "  mult_maps = []\n",
    "\n",
    "  a_file = open(path, \"rb\")\n",
    "  output = pickle.load(a_file)\n",
    "  a_file.close()\n",
    "\n",
    "  for key in output:\n",
    "    if type(key) == str or len(key) == 1:\n",
    "      id_maps.append(output[key])\n",
    "    else:\n",
    "      mult_maps.append(output[key])\n",
    "\n",
    "  id_maps = list(itertools.chain(*id_maps))\n",
    "  mult_maps = list(itertools.chain(*mult_maps))\n",
    "\n",
    "  return id_maps, mult_maps\n",
    "\n",
    "def draw_boxplot(data):\n",
    "  fig, axs = plt.subplots(1, 1, figsize=set_size(width)) \n",
    "  ax = sns.boxplot(y=data, palette=[\"m\", \"g\"], showmeans=True, meanprops={\"marker\":\"o\",\n",
    "                       \"markerfacecolor\":\"white\", \n",
    "                       \"markeredgecolor\":\"black\",\n",
    "                       \"markersize\":\"10\"})\n",
    "  ax.set_ylim([-0.2, 1.2])   \n",
    "  sns.despine(offset=10, trim=True)"
   ]
  },
  {
   "cell_type": "code",
   "execution_count": 11,
   "metadata": {
    "id": "zgLvMrT8duN0"
   },
   "outputs": [],
   "source": [
    "prob_dir = \"./prediction_probabilities/\"\n",
    "\n",
    "### LSTM ###\n",
    "# Enc1\n",
    "path_L1_BPIC14_a  = prob_dir + \"LSTM_ENC1_BPIC14_pred_prob.pkl\"\n",
    "path_L1_BPIC14_b  = prob_dir + \"LSTM_ENC1_BPIC14_target_prob.pkl\"\n",
    "path_L1_TRAFFIC_a = prob_dir + \"LSTM_ENC1_TRAFFIC_pred_prob.pkl\"\n",
    "path_L1_TRAFFIC_b = prob_dir + \"LSTM_ENC1_TRAFFIC_target_prob.pkl\"\n",
    "path_L1_ART1_a    = prob_dir + \"LSTM_ENC1_ART1_pred_prob.pkl\"\n",
    "path_L1_ART1_b    = prob_dir + \"LSTM_ENC1_ART1_target_prob.pkl\"\n",
    "\n",
    "# Enc2\n",
    "path_L2_BPIC14_a  = prob_dir + \"LSTM_ENC2_BPIC14_pred_prob.pkl\"\n",
    "path_L2_BPIC14_b  = prob_dir + \"LSTM_ENC2_BPIC14_target_prob.pkl\"\n",
    "path_L2_TRAFFIC_a = prob_dir + \"LSTM_ENC2_TRAFFIC_pred_prob.pkl\"\n",
    "path_L2_TRAFFIC_b = prob_dir + \"LSTM_ENC2_TRAFFIC_target_prob.pkl\"\n",
    "path_L2_ART1_a    = prob_dir + \"LSTM_ENC2_ART1_pred_prob.pkl\"\n",
    "path_L2_ART1_b    = prob_dir + \"LSTM_ENC2_ART1_target_prob.pkl\"\n",
    "\n",
    "# Enc2\n",
    "path_L3_BPIC14_a  = prob_dir + \"LSTM_ENC3_BPIC14_pred_prob.pkl\"\n",
    "path_L3_BPIC14_b  = prob_dir + \"LSTM_ENC3_BPIC14_target_prob.pkl\"\n",
    "path_L3_TRAFFIC_a = prob_dir + \"LSTM_ENC3_TRAFFIC_pred_prob.pkl\"\n",
    "path_L3_TRAFFIC_b = prob_dir + \"LSTM_ENC3_TRAFFIC_target_prob.pkl\"\n",
    "path_L3_ART1_a    = prob_dir + \"LSTM_ENC3_ART1_pred_prob.pkl\"\n",
    "path_L3_ART1_b    = prob_dir + \"LSTM_ENC3_ART1_target_prob.pkl\"\n",
    "\n",
    "\n",
    "### Seq2Seq ###\n",
    "# Enc1\n",
    "\n",
    "# Enc2\n",
    "path_S2_BPIC14_a  = prob_dir + \"Seq2Seq_Enc2_BPIC14_pred_prob.pkl\"\n",
    "path_S2_BPIC14_b  = prob_dir + \"Seq2Seq_Enc2_BPIC14_target_prob.pkl\"\n",
    "path_S2_TRAFFIC_a = prob_dir + \"Seq2Seq_Enc2_TRAFFIC_pred_prob.pkl\"\n",
    "path_S2_TRAFFIC_b = prob_dir + \"Seq2Seq_Enc2_TRAFFIC_target_prob.pkl\"\n",
    "path_S2_ART1_a    = prob_dir + \"Seq2Seq_Enc2_ART1_pred_prob.pkl\"\n",
    "path_S2_ART1_b    = prob_dir + \"Seq2Seq_Enc2_ART1_target_prob.pkl\"\n",
    "\n",
    "# Enc3\n",
    "path_S3_BPIC14_a  = prob_dir + \"Seq2Seq_Enc3_BPIC14_pred_prob.pkl\"\n",
    "path_S3_BPIC14_b  = prob_dir + \"Seq2Seq_Enc3_BPIC14_target_prob.pkl\"\n",
    "path_S3_TRAFFIC_a = prob_dir + \"Seq2Seq_Enc3_TRAFFIC_pred_prob.pkl\"\n",
    "path_S3_TRAFFIC_b = prob_dir + \"Seq2Seq_Enc3_TRAFFIC_target_prob.pkl\"\n",
    "path_S3_ART1_a    = prob_dir + \"Seq2Seq_Enc3_ART1_pred_prob.pkl\"\n",
    "path_S3_ART1_b    = prob_dir + \"Seq2Seq_Enc3_ART1_target_prob.pkl\""
   ]
  },
  {
   "cell_type": "code",
   "execution_count": 12,
   "metadata": {
    "id": "_-F6w2l02Suv"
   },
   "outputs": [],
   "source": [
    "all_paths = [path_L1_BPIC14_a, path_L1_BPIC14_b, path_L1_TRAFFIC_a, path_L1_TRAFFIC_b, path_L1_ART1_a,\n",
    "             path_L1_ART1_b, \n",
    "             \n",
    "             path_L2_BPIC14_a, path_L2_BPIC14_b,path_L2_TRAFFIC_a, path_L2_TRAFFIC_b,\n",
    "             path_L2_ART1_a, path_L2_ART1_b,\n",
    "             \n",
    "             path_L3_BPIC14_a, path_L3_BPIC14_b, path_L3_TRAFFIC_a, path_L3_TRAFFIC_b, path_L3_ART1_a,  \n",
    "             path_L3_ART1_b,\n",
    "             \n",
    "             path_S2_BPIC14_a, path_S2_BPIC14_b, path_S2_TRAFFIC_a, path_S2_TRAFFIC_b, path_S2_ART1_a,   \n",
    "             path_S2_ART1_b,\n",
    "             \n",
    "             path_S3_BPIC14_a, path_S3_BPIC14_b, path_S3_TRAFFIC_a, path_S3_TRAFFIC_b, path_S3_ART1_a,\n",
    "             path_S3_ART1_b   \n",
    "]"
   ]
  },
  {
   "cell_type": "code",
   "execution_count": 102,
   "metadata": {
    "id": "XkLbJ-gjKkJS"
   },
   "outputs": [],
   "source": [
    "path1 = path_L1_TRAFFIC_a\n",
    "path2 = path_L1_TRAFFIC_a\n",
    "\n",
    "pred_probs = load_dict(path1)\n",
    "actual_probs = load_dict(path2)\n",
    "\n",
    "# split data into probs for identity predictions and for predictions with len>1\n",
    "pred_id, pred_mult = split_boxplot_data(path1)\n",
    "actual_id, actual_mult = split_boxplot_data(path2)"
   ]
  },
  {
   "cell_type": "code",
   "execution_count": 107,
   "metadata": {},
   "outputs": [
    {
     "data": {
      "image/png": "[encoded data removed]",
      "text/plain": [
       "<Figure size 446.457x275.925 with 2 Axes>"
      ]
     },
     "metadata": {},
     "output_type": "display_data"
    }
   ],
   "source": [
    "# sample boxplot\n",
    "labels = ['total','id', 'mult']\n",
    "\n",
    "fig, axs = plt.subplots(1, 2, figsize=set_size(width))\n",
    "\n",
    "axs[0].boxplot([pred_probs, pred_id, pred_mult], labels=labels,\n",
    "             showmeans=True, flierprops=flierprops)\n",
    "axs[0].set_title('Prediction probabilities')\n",
    "\n",
    "axs[1].boxplot([actual_probs, actual_id, actual_mult], labels=labels,\n",
    "             showmeans=True, flierprops=flierprops)\n",
    "axs[1].set_title('Truth probabilities')\n",
    "\n",
    "plt.savefig(save_dir+\"/boxplots/LSTM_accuracy.pdf\", format='pdf', bbox_inches='tight')\n",
    "plt.show()"
   ]
  },
  {
   "cell_type": "markdown",
   "metadata": {},
   "source": [
    "Collect for all dataset the prediction and the true probabilities."
   ]
  },
  {
   "cell_type": "code",
   "execution_count": 135,
   "metadata": {},
   "outputs": [
    {
     "data": {
      "image/png": "[encoded data removed]",
      "text/plain": [
       "<Figure size 446.457x275.925 with 2 Axes>"
      ]
     },
     "metadata": {},
     "output_type": "display_data"
    },
    {
     "data": {
      "image/png": "[encoded data removed]",
      "text/plain": [
       "<Figure size 446.457x275.925 with 2 Axes>"
      ]
     },
     "metadata": {},
     "output_type": "display_data"
    },
    {
     "data": {
      "image/png": "[encoded data removed]",
      "text/plain": [
       "<Figure size 446.457x275.925 with 2 Axes>"
      ]
     },
     "metadata": {},
     "output_type": "display_data"
    },
    {
     "data": {
      "image/png": "[encoded data removed]",
      "text/plain": [
       "<Figure size 446.457x275.925 with 2 Axes>"
      ]
     },
     "metadata": {},
     "output_type": "display_data"
    },
    {
     "data": {
      "image/png": "[encoded data removed]",
      "text/plain": [
       "<Figure size 446.457x275.925 with 2 Axes>"
      ]
     },
     "metadata": {},
     "output_type": "display_data"
    },
    {
     "data": {
      "image/png": "[encoded data removed]",
      "text/plain": [
       "<Figure size 446.457x275.925 with 2 Axes>"
      ]
     },
     "metadata": {},
     "output_type": "display_data"
    },
    {
     "data": {
      "image/png": "[encoded data removed]",
      "text/plain": [
       "<Figure size 446.457x275.925 with 2 Axes>"
      ]
     },
     "metadata": {},
     "output_type": "display_data"
    },
    {
     "data": {
      "image/png": "[encoded data removed]",
      "text/plain": [
       "<Figure size 446.457x275.925 with 2 Axes>"
      ]
     },
     "metadata": {},
     "output_type": "display_data"
    },
    {
     "data": {
      "image/png": "[encoded data removed]",
      "text/plain": [
       "<Figure size 446.457x275.925 with 2 Axes>"
      ]
     },
     "metadata": {},
     "output_type": "display_data"
    },
    {
     "data": {
      "image/png": "[encoded data removed]",
      "text/plain": [
       "<Figure size 446.457x275.925 with 2 Axes>"
      ]
     },
     "metadata": {},
     "output_type": "display_data"
    },
    {
     "data": {
      "image/png": "[encoded data removed]",
      "text/plain": [
       "<Figure size 446.457x275.925 with 2 Axes>"
      ]
     },
     "metadata": {},
     "output_type": "display_data"
    },
    {
     "data": {
      "image/png": "[encoded data removed]",
      "text/plain": [
       "<Figure size 446.457x275.925 with 2 Axes>"
      ]
     },
     "metadata": {},
     "output_type": "display_data"
    },
    {
     "data": {
      "image/png": "[encoded data removed]",
      "text/plain": [
       "<Figure size 446.457x275.925 with 2 Axes>"
      ]
     },
     "metadata": {},
     "output_type": "display_data"
    },
    {
     "data": {
      "image/png": "[encoded data removed]",
      "text/plain": [
       "<Figure size 446.457x275.925 with 2 Axes>"
      ]
     },
     "metadata": {},
     "output_type": "display_data"
    },
    {
     "data": {
      "image/png": "[encoded data removed]",
      "text/plain": [
       "<Figure size 446.457x275.925 with 2 Axes>"
      ]
     },
     "metadata": {},
     "output_type": "display_data"
    }
   ],
   "source": [
    "labels = ['total','id', 'mult']\n",
    "savepaths = ['LSTM_ENC1_BPIC14', 'LSTM_ENC1_TRAFFIC', 'LSTM_ENC1_ART1',\n",
    "             'LSTM_ENC2_BPIC14', 'LSTM_ENC2_TRAFFIC', 'LSTM_ENC2_ART1',\n",
    "             'LSTM_ENC3_BPIC14', 'LSTM_ENC3_TRAFFIC', 'LSTM_ENC3_ART1',\n",
    "             'Seq2Seq_ENC2_BPIC14', 'Seq2Seq_ENC2_TRAFFIC', 'Seq2Seq_ENC2_ART1',\n",
    "             'Seq2Seq_ENC3_BPIC14', 'Seq2Seq_ENC3_TRAFFIC', 'Seq2Seq_ENC3_ART1',\n",
    "            ]\n",
    "for i in range(0, len(all_paths)-1, 2):\n",
    "    patha = all_paths[i]\n",
    "    pathb = all_paths[i+1]\n",
    "    \n",
    "    pred_probs   = load_dict(patha)\n",
    "    actual_probs = load_dict(pathb)\n",
    "    \n",
    "    pred_id, pred_mult     = split_boxplot_data(patha)\n",
    "    actual_id, actual_mult = split_boxplot_data(pathb)\n",
    "    \n",
    "    \n",
    "    fig, axs = plt.subplots(1, 2, figsize=set_size(width))\n",
    "\n",
    "    axs[0].boxplot([pred_probs, pred_id, pred_mult], labels=labels,\n",
    "             showmeans=True, flierprops=flierprops)\n",
    "    axs[0].set_title('Prediction probabilities')\n",
    "\n",
    "    axs[1].boxplot([actual_probs, actual_id, actual_mult], labels=labels,\n",
    "             showmeans=True, flierprops=flierprops)\n",
    "    axs[1].set_title('Truth probabilities')\n",
    "\n",
    "    plt.savefig(save_dir+\"/boxplots/\"+savepaths[i//2]+\".pdf\", format='pdf', bbox_inches='tight')"
   ]
  },
  {
   "cell_type": "markdown",
   "metadata": {},
   "source": [
    "Collect for all models and datasets the id mapping plots and mult mapping plots"
   ]
  },
  {
   "cell_type": "code",
   "execution_count": 52,
   "metadata": {},
   "outputs": [],
   "source": [
    "labels = ['L1B', 'L1T', 'L1A', 'L2B', 'L2T', 'L2A', 'L3B', 'L3T', 'L3A',\n",
    "          'S2B', 'S2T', 'S2A', 'S3B', 'S3T', 'S3A']\n",
    "\n",
    "total_mappings = []\n",
    "id_mappings, mult_mappings = [], []\n",
    "\n",
    "true_total_mappings = []\n",
    "true_id_mappings, true_mult_mappings = [], []\n",
    "\n",
    "for result_path in all_paths:\n",
    "\n",
    "    if result_path.endswith('pred_prob.pkl'):\n",
    "        pred_total = load_dict(result_path)\n",
    "        pred_id, pred_mult = split_boxplot_data(result_path)\n",
    "\n",
    "        total_mappings.append(pred_total)\n",
    "        id_mappings.append(pred_id)\n",
    "        mult_mappings.append(pred_mult)\n",
    "   \n",
    "    else:\n",
    "        true_total = load_dict(result_path)\n",
    "        true_id, true_mult = split_boxplot_data(result_path)\n",
    "        \n",
    "        true_total_mappings.append(true_total)\n",
    "        true_id_mappings.append(true_id)\n",
    "        true_mult_mappings.append(true_mult)"
   ]
  },
  {
   "cell_type": "markdown",
   "metadata": {},
   "source": [
    "#### Boxplots for the total probabilites (predicted and true)"
   ]
  },
  {
   "cell_type": "code",
   "execution_count": 30,
   "metadata": {},
   "outputs": [
    {
     "data": {
      "image/png": "[encoded data removed]",
      "text/plain": [
       "<Figure size 446.457x275.925 with 1 Axes>"
      ]
     },
     "metadata": {},
     "output_type": "display_data"
    }
   ],
   "source": [
    "fig, axs = plt.subplots(1, 1, figsize=set_size(width))\n",
    "bp_total = plt.boxplot(total_mappings, labels=labels,\n",
    "             showmeans=True, flierprops=flierprops)\n",
    "#plt.savefig(save_dir+\"/boxplots/all_total.pdf\", format='pdf', bbox_inches='tight')\n",
    "plt.show()"
   ]
  },
  {
   "cell_type": "code",
   "execution_count": 33,
   "metadata": {},
   "outputs": [
    {
     "data": {
      "image/png": "[encoded data removed]",
      "text/plain": [
       "<Figure size 446.457x275.925 with 1 Axes>"
      ]
     },
     "metadata": {},
     "output_type": "display_data"
    }
   ],
   "source": [
    "fig, axs = plt.subplots(1, 1, figsize=set_size(width))\n",
    "true_bp_total = plt.boxplot(true_total_mappings, labels=labels,\n",
    "             showmeans=True, flierprops=flierprops)\n",
    "#plt.savefig(save_dir+\"/boxplots/all_total.pdf\", format='pdf', bbox_inches='tight')\n",
    "plt.show()"
   ]
  },
  {
   "cell_type": "markdown",
   "metadata": {},
   "source": [
    "#### Boxplots for the id probabilites (predicted and true)"
   ]
  },
  {
   "cell_type": "code",
   "execution_count": 14,
   "metadata": {},
   "outputs": [
    {
     "data": {
      "image/png": "[encoded data removed]",
      "text/plain": [
       "<Figure size 446.457x275.925 with 1 Axes>"
      ]
     },
     "metadata": {},
     "output_type": "display_data"
    }
   ],
   "source": [
    "fig, axs = plt.subplots(1, 1, figsize=set_size(width))\n",
    "bp_ids = plt.boxplot(id_mappings, labels=labels,\n",
    "             showmeans=True, flierprops=flierprops)\n",
    "#plt.savefig(save_dir+\"/boxplots/all_ids.pdf\", format='pdf', bbox_inches='tight')\n",
    "plt.show()"
   ]
  },
  {
   "cell_type": "code",
   "execution_count": 40,
   "metadata": {},
   "outputs": [
    {
     "data": {
      "image/png": "[encoded data removed]",
      "text/plain": [
       "<Figure size 446.457x275.925 with 1 Axes>"
      ]
     },
     "metadata": {},
     "output_type": "display_data"
    }
   ],
   "source": [
    "fig, axs = plt.subplots(1, 1, figsize=set_size(width))\n",
    "true_bp_ids = plt.boxplot(true_id_mappings, labels=labels,\n",
    "             showmeans=True, flierprops=flierprops)\n",
    "#plt.savefig(save_dir+\"/boxplots/all_ids.pdf\", format='pdf', bbox_inches='tight')\n",
    "plt.show()"
   ]
  },
  {
   "cell_type": "markdown",
   "metadata": {},
   "source": [
    "#### Boxplots for the mult probabilites (predicted and true)"
   ]
  },
  {
   "cell_type": "code",
   "execution_count": 17,
   "metadata": {},
   "outputs": [
    {
     "data": {
      "image/png": "[encoded data removed]",
      "text/plain": [
       "<Figure size 446.457x275.925 with 1 Axes>"
      ]
     },
     "metadata": {},
     "output_type": "display_data"
    }
   ],
   "source": [
    "fig, axs = plt.subplots(1, 1, figsize=set_size(width))\n",
    "bp_mult = plt.boxplot(mult_mappings, labels=labels,\n",
    "             showmeans=True, flierprops=flierprops)\n",
    "#plt.savefig(save_dir+\"/boxplots/all_mults.pdf\", format='pdf', bbox_inches='tight')\n",
    "plt.show()"
   ]
  },
  {
   "cell_type": "code",
   "execution_count": 41,
   "metadata": {},
   "outputs": [
    {
     "data": {
      "image/png": "[encoded data removed]",
      "text/plain": [
       "<Figure size 446.457x275.925 with 1 Axes>"
      ]
     },
     "metadata": {},
     "output_type": "display_data"
    }
   ],
   "source": [
    "fig, axs = plt.subplots(1, 1, figsize=set_size(width))\n",
    "true_bp_mult = plt.boxplot(true_mult_mappings, labels=labels,\n",
    "             showmeans=True, flierprops=flierprops)\n",
    "#plt.savefig(save_dir+\"/boxplots/all_mults.pdf\", format='pdf', bbox_inches='tight')\n",
    "plt.show()"
   ]
  },
  {
   "cell_type": "markdown",
   "metadata": {
    "id": "u7a5OlkWXH6j"
   },
   "source": [
    "### Making good thesis plots ([by this guide](https://jwalton.info/Embed-Publication-Matplotlib-Latex/))"
   ]
  },
  {
   "cell_type": "markdown",
   "metadata": {},
   "source": [
    "Extracting mean, median, min, max, IQR for all the boxplots"
   ]
  },
  {
   "cell_type": "code",
   "execution_count": 42,
   "metadata": {},
   "outputs": [],
   "source": [
    "def get_box_plot_data(labels, bp):\n",
    "    rows_list = []\n",
    "\n",
    "    for i in range(len(labels)):\n",
    "        dict1 = {}\n",
    "        dict1['label'] = labels[i]\n",
    "        dict1['low_whisker'] = bp['whiskers'][i*2].get_ydata()[1]\n",
    "        dict1['low_quartile'] = bp['boxes'][i].get_ydata()[1]\n",
    "        dict1['median'] = bp['medians'][i].get_ydata()[1]\n",
    "        dict1['mean'] = bp['means'][i].get_ydata()[0]\n",
    "        dict1['up_quartile'] = bp['boxes'][i].get_ydata()[2]\n",
    "        dict1['up_whisker'] = bp['whiskers'][(i*2)+1].get_ydata()[1]\n",
    "        rows_list.append(dict1)\n",
    "\n",
    "    return pd.DataFrame(rows_list)"
   ]
  },
  {
   "cell_type": "markdown",
   "metadata": {},
   "source": [
    "#### Boxplot values for the total probabilities (predicted and true)"
   ]
  },
  {
   "cell_type": "code",
   "execution_count": 49,
   "metadata": {},
   "outputs": [
    {
     "name": "stdout",
     "output_type": "stream",
     "text": [
      "   label  low_whisker  low_quartile  median  mean  up_quartile  up_whisker\n",
      "0    L1B         0.00          0.32    1.00  0.72         1.00        1.00\n",
      "1    L1T         1.00          1.00    1.00  1.00         1.00        1.00\n",
      "2    L1A         0.00          0.12    0.22  0.21         0.31        0.38\n",
      "3    L2B         0.10          0.60    1.00  0.80         1.00        1.00\n",
      "4    L2T         0.98          0.99    1.00  0.98         1.00        1.00\n",
      "5    L2A         0.00          0.01    0.04  0.03         0.05        0.06\n",
      "6    L3B         0.12          0.54    1.00  0.79         1.00        1.00\n",
      "7    L3T         0.99          0.99    1.00  0.99         1.00        1.00\n",
      "8    L3A         0.00          0.01    0.04  0.03         0.05        0.05\n",
      "9    S2B         0.00          0.06    0.29  0.40         0.65        1.00\n",
      "10   S2T         1.00          1.00    1.00  0.97         1.00        1.00\n",
      "11   S2A         0.00          0.05    0.16  0.17         0.21        0.32\n",
      "12   S3B         0.00          0.06    0.24  0.38         0.67        1.00\n",
      "13   S3T         1.00          1.00    1.00  0.97         1.00        1.00\n",
      "14   S3A         0.00          0.04    0.16  0.17         0.21        0.31\n"
     ]
    }
   ],
   "source": [
    "# showing the boxplot characteristics for true_total mappings\n",
    "total_bp_chars = get_box_plot_data(labels, bp_total)\n",
    "print(round(total_bp_chars,2))"
   ]
  },
  {
   "cell_type": "code",
   "execution_count": 48,
   "metadata": {},
   "outputs": [
    {
     "name": "stdout",
     "output_type": "stream",
     "text": [
      "   label  low_whisker  low_quartile  median  mean  up_quartile  up_whisker\n",
      "0    L1B         0.00          0.26    1.00  0.69         1.00        1.00\n",
      "1    L1T         1.00          1.00    1.00  1.00         1.00        1.00\n",
      "2    L1A         0.00          0.12    0.22  0.21         0.31        0.38\n",
      "3    L2B         0.00          0.50    1.00  0.77         1.00        1.00\n",
      "4    L2T         0.98          0.99    1.00  0.98         1.00        1.00\n",
      "5    L2A         0.00          0.01    0.04  0.03         0.05        0.06\n",
      "6    L3B         0.01          0.51    1.00  0.77         1.00        1.00\n",
      "7    L3T         0.99          0.99    1.00  0.99         1.00        1.00\n",
      "8    L3A         0.00          0.01    0.04  0.03         0.05        0.05\n",
      "9    S2B         0.00          0.05    0.28  0.39         0.64        1.00\n",
      "10   S2T         1.00          1.00    1.00  0.97         1.00        1.00\n",
      "11   S2A         0.00          0.05    0.16  0.17         0.21        0.32\n",
      "12   S3B         0.00          0.05    0.22  0.36         0.63        1.00\n",
      "13   S3T         1.00          1.00    1.00  0.97         1.00        1.00\n",
      "14   S3A         0.00          0.04    0.16  0.17         0.21        0.31\n"
     ]
    }
   ],
   "source": [
    "# showing the boxplot characteristics for total mappings\n",
    "true_total_bp_chars = get_box_plot_data(labels, true_bp_total)\n",
    "print(round(true_total_bp_chars,2))"
   ]
  },
  {
   "cell_type": "code",
   "execution_count": 59,
   "metadata": {},
   "outputs": [
    {
     "name": "stdout",
     "output_type": "stream",
     "text": [
      "0     0.00\n",
      "1     0.00\n",
      "2     0.00\n",
      "3     0.10\n",
      "4     0.00\n",
      "5     0.00\n",
      "6     0.12\n",
      "7     0.00\n",
      "8     0.00\n",
      "9     0.00\n",
      "10    0.00\n",
      "11    0.00\n",
      "12    0.00\n",
      "13    0.00\n",
      "14    0.00\n",
      "Name: low_whisker, dtype: float64\n",
      "0     0.06\n",
      "1     0.00\n",
      "2     0.00\n",
      "3     0.09\n",
      "4     0.00\n",
      "5     0.00\n",
      "6     0.03\n",
      "7     0.00\n",
      "8     0.00\n",
      "9     0.01\n",
      "10    0.00\n",
      "11    0.00\n",
      "12    0.01\n",
      "13    0.00\n",
      "14    0.00\n",
      "Name: low_quartile, dtype: float64\n",
      "0     0.00\n",
      "1     0.00\n",
      "2     0.00\n",
      "3     0.00\n",
      "4     0.00\n",
      "5     0.00\n",
      "6     0.00\n",
      "7     0.00\n",
      "8     0.00\n",
      "9     0.01\n",
      "10    0.00\n",
      "11    0.00\n",
      "12    0.02\n",
      "13    0.00\n",
      "14    0.00\n",
      "Name: median, dtype: float64\n",
      "0     0.04\n",
      "1     0.00\n",
      "2     0.00\n",
      "3     0.04\n",
      "4     0.00\n",
      "5     0.00\n",
      "6     0.03\n",
      "7     0.00\n",
      "8     0.00\n",
      "9     0.01\n",
      "10    0.00\n",
      "11    0.00\n",
      "12    0.01\n",
      "13    0.00\n",
      "14    0.00\n",
      "Name: mean, dtype: float64\n",
      "0     0.00\n",
      "1     0.00\n",
      "2     0.00\n",
      "3     0.00\n",
      "4     0.00\n",
      "5     0.00\n",
      "6     0.00\n",
      "7     0.00\n",
      "8     0.00\n",
      "9     0.01\n",
      "10    0.00\n",
      "11    0.00\n",
      "12    0.04\n",
      "13    0.00\n",
      "14    0.00\n",
      "Name: up_quartile, dtype: float64\n",
      "0     0.0\n",
      "1     0.0\n",
      "2     0.0\n",
      "3     0.0\n",
      "4     0.0\n",
      "5     0.0\n",
      "6     0.0\n",
      "7     0.0\n",
      "8     0.0\n",
      "9     0.0\n",
      "10    0.0\n",
      "11    0.0\n",
      "12    0.0\n",
      "13    0.0\n",
      "14    0.0\n",
      "Name: up_whisker, dtype: float64\n"
     ]
    }
   ],
   "source": [
    "# show differences\n",
    "columns = ['low_whisker', 'low_quartile', 'median', 'mean', 'up_quartile', 'up_whisker']\n",
    "val = 'mean'\n",
    "for c in columns:\n",
    "    print(round(total_bp_chars[c] - true_total_bp_chars[c], 2))"
   ]
  },
  {
   "cell_type": "markdown",
   "metadata": {},
   "source": [
    "#### Boxplot values for the id probabilities (predicted and true)"
   ]
  },
  {
   "cell_type": "code",
   "execution_count": 47,
   "metadata": {},
   "outputs": [
    {
     "name": "stdout",
     "output_type": "stream",
     "text": [
      "   label  low_whisker  low_quartile  median  mean  up_quartile  up_whisker\n",
      "0    L1B         0.99          1.00    1.00  1.00         1.00        1.00\n",
      "1    L1T         1.00          1.00    1.00  1.00         1.00        1.00\n",
      "2    L1A         0.03          0.16    0.26  0.24         0.33        0.38\n",
      "3    L2B         1.00          1.00    1.00  1.00         1.00        1.00\n",
      "4    L2T         0.98          0.99    0.99  0.98         1.00        1.00\n",
      "5    L2A         0.00          0.02    0.04  0.03         0.05        0.06\n",
      "6    L3B         1.00          1.00    1.00  1.00         1.00        1.00\n",
      "7    L3T         0.99          0.99    1.00  0.99         1.00        1.00\n",
      "8    L3A         0.00          0.03    0.04  0.03         0.05        0.05\n",
      "9    S2B         0.00          0.18    0.43  0.54         1.00        1.00\n",
      "10   S2T         0.99          1.00    1.00  0.97         1.00        1.00\n",
      "11   S2A         0.00          0.12    0.17  0.20         0.22        0.32\n",
      "12   S3B         0.00          0.14    0.40  0.51         1.00        1.00\n",
      "13   S3T         0.99          1.00    1.00  0.96         1.00        1.00\n",
      "14   S3A         0.00          0.12    0.18  0.20         0.22        0.31\n"
     ]
    }
   ],
   "source": [
    "# showing the boxplot characteristics for id mappings\n",
    "id_bp_chars = get_box_plot_data(labels, bp_ids)\n",
    "print(round(id_bp_chars,2))"
   ]
  },
  {
   "cell_type": "code",
   "execution_count": 46,
   "metadata": {},
   "outputs": [
    {
     "name": "stdout",
     "output_type": "stream",
     "text": [
      "   label  low_whisker  low_quartile  median  mean  up_quartile  up_whisker\n",
      "0    L1B         0.99          1.00    1.00  1.00         1.00        1.00\n",
      "1    L1T         1.00          1.00    1.00  1.00         1.00        1.00\n",
      "2    L1A         0.03          0.16    0.26  0.24         0.33        0.38\n",
      "3    L2B         1.00          1.00    1.00  1.00         1.00        1.00\n",
      "4    L2T         0.98          0.99    0.99  0.98         1.00        1.00\n",
      "5    L2A         0.00          0.02    0.04  0.03         0.05        0.06\n",
      "6    L3B         1.00          1.00    1.00  1.00         1.00        1.00\n",
      "7    L3T         0.99          0.99    1.00  0.99         1.00        1.00\n",
      "8    L3A         0.00          0.03    0.04  0.03         0.05        0.05\n",
      "9    S2B         0.00          0.18    0.43  0.54         1.00        1.00\n",
      "10   S2T         0.99          1.00    1.00  0.97         1.00        1.00\n",
      "11   S2A         0.00          0.12    0.17  0.20         0.22        0.32\n",
      "12   S3B         0.00          0.14    0.40  0.51         1.00        1.00\n",
      "13   S3T         0.99          1.00    1.00  0.96         1.00        1.00\n",
      "14   S3A         0.00          0.12    0.18  0.20         0.22        0.31\n"
     ]
    }
   ],
   "source": [
    "# showing the boxplot characteristics for id mappings\n",
    "true_id_bp_chars = get_box_plot_data(labels, true_bp_ids)\n",
    "print(round(true_id_bp_chars,2))"
   ]
  },
  {
   "cell_type": "code",
   "execution_count": 61,
   "metadata": {},
   "outputs": [
    {
     "name": "stdout",
     "output_type": "stream",
     "text": [
      "0     0.0\n",
      "1     0.0\n",
      "2     0.0\n",
      "3     0.0\n",
      "4     0.0\n",
      "5     0.0\n",
      "6     0.0\n",
      "7     0.0\n",
      "8     0.0\n",
      "9     0.0\n",
      "10    0.0\n",
      "11    0.0\n",
      "12    0.0\n",
      "13    0.0\n",
      "14    0.0\n",
      "Name: low_whisker, dtype: float64\n",
      "0     0.0\n",
      "1     0.0\n",
      "2     0.0\n",
      "3     0.0\n",
      "4     0.0\n",
      "5     0.0\n",
      "6     0.0\n",
      "7     0.0\n",
      "8     0.0\n",
      "9     0.0\n",
      "10    0.0\n",
      "11    0.0\n",
      "12    0.0\n",
      "13    0.0\n",
      "14    0.0\n",
      "Name: low_quartile, dtype: float64\n",
      "0     0.0\n",
      "1     0.0\n",
      "2     0.0\n",
      "3     0.0\n",
      "4     0.0\n",
      "5     0.0\n",
      "6     0.0\n",
      "7     0.0\n",
      "8     0.0\n",
      "9     0.0\n",
      "10    0.0\n",
      "11    0.0\n",
      "12    0.0\n",
      "13    0.0\n",
      "14    0.0\n",
      "Name: median, dtype: float64\n",
      "0     0.0\n",
      "1     0.0\n",
      "2     0.0\n",
      "3     0.0\n",
      "4     0.0\n",
      "5     0.0\n",
      "6     0.0\n",
      "7     0.0\n",
      "8     0.0\n",
      "9     0.0\n",
      "10    0.0\n",
      "11    0.0\n",
      "12    0.0\n",
      "13    0.0\n",
      "14    0.0\n",
      "Name: mean, dtype: float64\n",
      "0     0.0\n",
      "1     0.0\n",
      "2     0.0\n",
      "3     0.0\n",
      "4     0.0\n",
      "5     0.0\n",
      "6     0.0\n",
      "7     0.0\n",
      "8     0.0\n",
      "9     0.0\n",
      "10    0.0\n",
      "11    0.0\n",
      "12    0.0\n",
      "13    0.0\n",
      "14    0.0\n",
      "Name: up_quartile, dtype: float64\n",
      "0     0.0\n",
      "1     0.0\n",
      "2     0.0\n",
      "3     0.0\n",
      "4     0.0\n",
      "5     0.0\n",
      "6     0.0\n",
      "7     0.0\n",
      "8     0.0\n",
      "9     0.0\n",
      "10    0.0\n",
      "11    0.0\n",
      "12    0.0\n",
      "13    0.0\n",
      "14    0.0\n",
      "Name: up_whisker, dtype: float64\n"
     ]
    }
   ],
   "source": [
    "# show differences\n",
    "val = 'mean'\n",
    "#print(round(id_bp_chars[val] - true_id_bp_chars[val], 2))\n",
    "for c in columns:\n",
    "    print(round(id_bp_chars[c] - true_id_bp_chars[c], 2))"
   ]
  },
  {
   "cell_type": "markdown",
   "metadata": {},
   "source": [
    "#### Boxplot values for the mult probabilities (predicted and true)"
   ]
  },
  {
   "cell_type": "code",
   "execution_count": 53,
   "metadata": {},
   "outputs": [
    {
     "name": "stdout",
     "output_type": "stream",
     "text": [
      "   label  low_whisker  low_quartile  median  mean  up_quartile  up_whisker\n",
      "0    L1B         0.01          0.26    0.30  0.35         0.42        0.66\n",
      "1    L1T         1.00          1.00    1.00  1.00         1.00        1.00\n",
      "2    L1A         0.00          0.02    0.05  0.06         0.09        0.14\n",
      "3    L2B         0.27          0.50    0.55  0.54         0.65        0.88\n",
      "4    L2T         1.00          1.00    1.00  0.98         1.00        1.00\n",
      "5    L2A         0.00          0.00    0.00  0.00         0.01        0.01\n",
      "6    L3B         0.35          0.50    0.53  0.52         0.60        0.76\n",
      "7    L3T         1.00          1.00    1.00  0.99         1.00        1.00\n",
      "8    L3A         0.00          0.00    0.00  0.00         0.01        0.01\n",
      "9    S2B         0.00          0.02    0.06  0.22         0.49        0.95\n",
      "10   S2T         1.00          1.00    1.00  0.97         1.00        1.00\n",
      "11   S2A         0.00          0.00    0.01  0.01         0.02        0.05\n",
      "12   S3B         0.00          0.02    0.07  0.20         0.42        0.97\n",
      "13   S3T         1.00          1.00    1.00  0.97         1.00        1.00\n",
      "14   S3A         0.00          0.00    0.01  0.02         0.02        0.04\n"
     ]
    }
   ],
   "source": [
    "# showing the boxplot characteristics for mult mappings\n",
    "mult_bp_chars = get_box_plot_data(labels, bp_mult)\n",
    "print(round(mult_bp_chars,2))"
   ]
  },
  {
   "cell_type": "code",
   "execution_count": 54,
   "metadata": {},
   "outputs": [
    {
     "name": "stdout",
     "output_type": "stream",
     "text": [
      "   label  low_whisker  low_quartile  median  mean  up_quartile  up_whisker\n",
      "0    L1B         0.00          0.06    0.21  0.27         0.33        0.72\n",
      "1    L1T         1.00          1.00    1.00  1.00         1.00        1.00\n",
      "2    L1A         0.00          0.02    0.05  0.06         0.09        0.14\n",
      "3    L2B         0.00          0.30    0.48  0.45         0.60        1.00\n",
      "4    L2T         1.00          1.00    1.00  0.98         1.00        1.00\n",
      "5    L2A         0.00          0.00    0.00  0.00         0.01        0.01\n",
      "6    L3B         0.01          0.30    0.49  0.46         0.55        0.94\n",
      "7    L3T         1.00          1.00    1.00  0.99         1.00        1.00\n",
      "8    L3A         0.00          0.00    0.00  0.00         0.01        0.01\n",
      "9    S2B         0.00          0.02    0.05  0.19         0.42        0.95\n",
      "10   S2T         1.00          1.00    1.00  0.97         1.00        1.00\n",
      "11   S2A         0.00          0.00    0.01  0.01         0.02        0.05\n",
      "12   S3B         0.00          0.02    0.05  0.17         0.28        0.68\n",
      "13   S3T         1.00          1.00    1.00  0.97         1.00        1.00\n",
      "14   S3A         0.00          0.00    0.01  0.01         0.02        0.04\n"
     ]
    }
   ],
   "source": [
    "# showing the boxplot characteristics for mult mappings\n",
    "true_mult_bp_chars = get_box_plot_data(labels, true_bp_mult)\n",
    "print(round(true_mult_bp_chars,2))"
   ]
  },
  {
   "cell_type": "code",
   "execution_count": 62,
   "metadata": {},
   "outputs": [
    {
     "name": "stdout",
     "output_type": "stream",
     "text": [
      "0     0.01\n",
      "1     0.00\n",
      "2     0.00\n",
      "3     0.27\n",
      "4     0.00\n",
      "5     0.00\n",
      "6     0.34\n",
      "7     0.00\n",
      "8     0.00\n",
      "9     0.00\n",
      "10    0.00\n",
      "11    0.00\n",
      "12    0.00\n",
      "13    0.00\n",
      "14    0.00\n",
      "Name: low_whisker, dtype: float64\n",
      "0     0.19\n",
      "1     0.00\n",
      "2     0.00\n",
      "3     0.20\n",
      "4     0.00\n",
      "5     0.00\n",
      "6     0.21\n",
      "7     0.00\n",
      "8     0.00\n",
      "9     0.01\n",
      "10    0.00\n",
      "11    0.00\n",
      "12    0.01\n",
      "13    0.00\n",
      "14    0.00\n",
      "Name: low_quartile, dtype: float64\n",
      "0     0.09\n",
      "1     0.00\n",
      "2     0.00\n",
      "3     0.08\n",
      "4     0.00\n",
      "5     0.00\n",
      "6     0.04\n",
      "7     0.00\n",
      "8     0.00\n",
      "9     0.01\n",
      "10    0.00\n",
      "11    0.00\n",
      "12    0.01\n",
      "13    0.00\n",
      "14    0.00\n",
      "Name: median, dtype: float64\n",
      "0     0.08\n",
      "1     0.00\n",
      "2     0.00\n",
      "3     0.08\n",
      "4     0.00\n",
      "5     0.00\n",
      "6     0.06\n",
      "7     0.00\n",
      "8     0.00\n",
      "9     0.02\n",
      "10    0.00\n",
      "11    0.00\n",
      "12    0.03\n",
      "13    0.00\n",
      "14    0.00\n",
      "Name: mean, dtype: float64\n",
      "0     0.09\n",
      "1     0.00\n",
      "2     0.00\n",
      "3     0.05\n",
      "4     0.00\n",
      "5     0.00\n",
      "6     0.05\n",
      "7     0.00\n",
      "8     0.00\n",
      "9     0.07\n",
      "10    0.00\n",
      "11    0.00\n",
      "12    0.13\n",
      "13    0.00\n",
      "14    0.00\n",
      "Name: up_quartile, dtype: float64\n",
      "0    -0.06\n",
      "1     0.00\n",
      "2     0.00\n",
      "3    -0.12\n",
      "4     0.00\n",
      "5     0.00\n",
      "6    -0.18\n",
      "7     0.00\n",
      "8     0.00\n",
      "9     0.00\n",
      "10    0.00\n",
      "11    0.00\n",
      "12    0.29\n",
      "13    0.00\n",
      "14    0.00\n",
      "Name: up_whisker, dtype: float64\n"
     ]
    }
   ],
   "source": [
    "# show differences\n",
    "val = 'mean'\n",
    "#print(round(id_bp_chars[val] - true_id_bp_chars[val], 2))\n",
    "for c in columns:\n",
    "    print(round(mult_bp_chars[c] - true_mult_bp_chars[c], 2))"
   ]
  }
 ],
 "metadata": {
  "colab": {
   "collapsed_sections": [
    "kVZsKiFL5tNx"
   ],
   "name": "Brainstorming.ipynb",
   "provenance": [],
   "toc_visible": true
  },
  "kernelspec": {
   "display_name": "Python 3",
   "language": "python",
   "name": "python3"
  },
  "language_info": {
   "codemirror_mode": {
    "name": "ipython",
    "version": 3
   },
   "file_extension": ".py",
   "mimetype": "text/x-python",
   "name": "python",
   "nbconvert_exporter": "python",
   "pygments_lexer": "ipython3",
   "version": "3.8.5"
  },
  "widgets": {
   "application/vnd.jupyter.widget-state+json": {
    "09f60155783040fb94d471106c5d0bd2": {
     "model_module": "@jupyter-widgets/controls",
     "model_name": "FloatProgressModel",
     "state": {
      "_dom_classes": [],
      "_model_module": "@jupyter-widgets/controls",
      "_model_module_version": "1.5.0",
      "_model_name": "FloatProgressModel",
      "_view_count": null,
      "_view_module": "@jupyter-widgets/controls",
      "_view_module_version": "1.5.0",
      "_view_name": "ProgressView",
      "bar_style": "success",
      "description": "parsing log, completed traces :: 100%",
      "description_tooltip": null,
      "layout": "IPY_MODEL_f23fe9176c00431fb19df655f8c3fde7",
      "max": 41353,
      "min": 0,
      "orientation": "horizontal",
      "style": "IPY_MODEL_6f158d14867445989868a2060ed78115",
      "value": 41353
     }
    },
    "30aa313c54d34ea3b13ffff32d69bb67": {
     "model_module": "@jupyter-widgets/controls",
     "model_name": "ProgressStyleModel",
     "state": {
      "_model_module": "@jupyter-widgets/controls",
      "_model_module_version": "1.5.0",
      "_model_name": "ProgressStyleModel",
      "_view_count": null,
      "_view_module": "@jupyter-widgets/base",
      "_view_module_version": "1.2.0",
      "_view_name": "StyleView",
      "bar_color": null,
      "description_width": "initial"
     }
    },
    "314d8106a59345df9b42508833fac143": {
     "model_module": "@jupyter-widgets/controls",
     "model_name": "FloatProgressModel",
     "state": {
      "_dom_classes": [],
      "_model_module": "@jupyter-widgets/controls",
      "_model_module_version": "1.5.0",
      "_model_name": "FloatProgressModel",
      "_view_count": null,
      "_view_module": "@jupyter-widgets/controls",
      "_view_module_version": "1.5.0",
      "_view_name": "ProgressView",
      "bar_style": "success",
      "description": "parsing log, completed traces :: 100%",
      "description_tooltip": null,
      "layout": "IPY_MODEL_ffb11f574ae34c9bbbd632a1959a7a4d",
      "max": 13087,
      "min": 0,
      "orientation": "horizontal",
      "style": "IPY_MODEL_30aa313c54d34ea3b13ffff32d69bb67",
      "value": 13087
     }
    },
    "3355878477864807bcd8e3b7a792b37b": {
     "model_module": "@jupyter-widgets/base",
     "model_name": "LayoutModel",
     "state": {
      "_model_module": "@jupyter-widgets/base",
      "_model_module_version": "1.2.0",
      "_model_name": "LayoutModel",
      "_view_count": null,
      "_view_module": "@jupyter-widgets/base",
      "_view_module_version": "1.2.0",
      "_view_name": "LayoutView",
      "align_content": null,
      "align_items": null,
      "align_self": null,
      "border": null,
      "bottom": null,
      "display": null,
      "flex": null,
      "flex_flow": null,
      "grid_area": null,
      "grid_auto_columns": null,
      "grid_auto_flow": null,
      "grid_auto_rows": null,
      "grid_column": null,
      "grid_gap": null,
      "grid_row": null,
      "grid_template_areas": null,
      "grid_template_columns": null,
      "grid_template_rows": null,
      "height": null,
      "justify_content": null,
      "justify_items": null,
      "left": null,
      "margin": null,
      "max_height": null,
      "max_width": null,
      "min_height": null,
      "min_width": null,
      "object_fit": null,
      "object_position": null,
      "order": null,
      "overflow": null,
      "overflow_x": null,
      "overflow_y": null,
      "padding": null,
      "right": null,
      "top": null,
      "visibility": null,
      "width": null
     }
    },
    "3d9a1f7aec6646b095022c134ef6ae65": {
     "model_module": "@jupyter-widgets/controls",
     "model_name": "DescriptionStyleModel",
     "state": {
      "_model_module": "@jupyter-widgets/controls",
      "_model_module_version": "1.5.0",
      "_model_name": "DescriptionStyleModel",
      "_view_count": null,
      "_view_module": "@jupyter-widgets/base",
      "_view_module_version": "1.2.0",
      "_view_name": "StyleView",
      "description_width": ""
     }
    },
    "4bf2b88133ff4599bffeb6d138fec493": {
     "model_module": "@jupyter-widgets/controls",
     "model_name": "FloatProgressModel",
     "state": {
      "_dom_classes": [],
      "_model_module": "@jupyter-widgets/controls",
      "_model_module_version": "1.5.0",
      "_model_name": "FloatProgressModel",
      "_view_count": null,
      "_view_module": "@jupyter-widgets/controls",
      "_view_module_version": "1.5.0",
      "_view_name": "ProgressView",
      "bar_style": "success",
      "description": "parsing log, completed traces :: 100%",
      "description_tooltip": null,
      "layout": "IPY_MODEL_ba89f26bf29143df9b5a90cb390e092b",
      "max": 1000,
      "min": 0,
      "orientation": "horizontal",
      "style": "IPY_MODEL_b894fed067cb4cfb890d4cab936bb1b6",
      "value": 1000
     }
    },
    "53fa271c2fc5486481be793b1b7bc546": {
     "model_module": "@jupyter-widgets/base",
     "model_name": "LayoutModel",
     "state": {
      "_model_module": "@jupyter-widgets/base",
      "_model_module_version": "1.2.0",
      "_model_name": "LayoutModel",
      "_view_count": null,
      "_view_module": "@jupyter-widgets/base",
      "_view_module_version": "1.2.0",
      "_view_name": "LayoutView",
      "align_content": null,
      "align_items": null,
      "align_self": null,
      "border": null,
      "bottom": null,
      "display": null,
      "flex": null,
      "flex_flow": null,
      "grid_area": null,
      "grid_auto_columns": null,
      "grid_auto_flow": null,
      "grid_auto_rows": null,
      "grid_column": null,
      "grid_gap": null,
      "grid_row": null,
      "grid_template_areas": null,
      "grid_template_columns": null,
      "grid_template_rows": null,
      "height": null,
      "justify_content": null,
      "justify_items": null,
      "left": null,
      "margin": null,
      "max_height": null,
      "max_width": null,
      "min_height": null,
      "min_width": null,
      "object_fit": null,
      "object_position": null,
      "order": null,
      "overflow": null,
      "overflow_x": null,
      "overflow_y": null,
      "padding": null,
      "right": null,
      "top": null,
      "visibility": null,
      "width": null
     }
    },
    "58a72bc648484071a8c7a8bb56c2fb51": {
     "model_module": "@jupyter-widgets/base",
     "model_name": "LayoutModel",
     "state": {
      "_model_module": "@jupyter-widgets/base",
      "_model_module_version": "1.2.0",
      "_model_name": "LayoutModel",
      "_view_count": null,
      "_view_module": "@jupyter-widgets/base",
      "_view_module_version": "1.2.0",
      "_view_name": "LayoutView",
      "align_content": null,
      "align_items": null,
      "align_self": null,
      "border": null,
      "bottom": null,
      "display": null,
      "flex": null,
      "flex_flow": null,
      "grid_area": null,
      "grid_auto_columns": null,
      "grid_auto_flow": null,
      "grid_auto_rows": null,
      "grid_column": null,
      "grid_gap": null,
      "grid_row": null,
      "grid_template_areas": null,
      "grid_template_columns": null,
      "grid_template_rows": null,
      "height": null,
      "justify_content": null,
      "justify_items": null,
      "left": null,
      "margin": null,
      "max_height": null,
      "max_width": null,
      "min_height": null,
      "min_width": null,
      "object_fit": null,
      "object_position": null,
      "order": null,
      "overflow": null,
      "overflow_x": null,
      "overflow_y": null,
      "padding": null,
      "right": null,
      "top": null,
      "visibility": null,
      "width": null
     }
    },
    "5e0540c4e54c43d8893919d05508dc5c": {
     "model_module": "@jupyter-widgets/controls",
     "model_name": "HBoxModel",
     "state": {
      "_dom_classes": [],
      "_model_module": "@jupyter-widgets/controls",
      "_model_module_version": "1.5.0",
      "_model_name": "HBoxModel",
      "_view_count": null,
      "_view_module": "@jupyter-widgets/controls",
      "_view_module_version": "1.5.0",
      "_view_name": "HBoxView",
      "box_style": "",
      "children": [
       "IPY_MODEL_09f60155783040fb94d471106c5d0bd2",
       "IPY_MODEL_689034eeea9c467d8f94f8086c6aa2a8"
      ],
      "layout": "IPY_MODEL_82b8d79af90a40b994e1f6c0d18ebd40"
     }
    },
    "63147ff9ecdc4a939882eaefa45fd4d1": {
     "model_module": "@jupyter-widgets/base",
     "model_name": "LayoutModel",
     "state": {
      "_model_module": "@jupyter-widgets/base",
      "_model_module_version": "1.2.0",
      "_model_name": "LayoutModel",
      "_view_count": null,
      "_view_module": "@jupyter-widgets/base",
      "_view_module_version": "1.2.0",
      "_view_name": "LayoutView",
      "align_content": null,
      "align_items": null,
      "align_self": null,
      "border": null,
      "bottom": null,
      "display": null,
      "flex": null,
      "flex_flow": null,
      "grid_area": null,
      "grid_auto_columns": null,
      "grid_auto_flow": null,
      "grid_auto_rows": null,
      "grid_column": null,
      "grid_gap": null,
      "grid_row": null,
      "grid_template_areas": null,
      "grid_template_columns": null,
      "grid_template_rows": null,
      "height": null,
      "justify_content": null,
      "justify_items": null,
      "left": null,
      "margin": null,
      "max_height": null,
      "max_width": null,
      "min_height": null,
      "min_width": null,
      "object_fit": null,
      "object_position": null,
      "order": null,
      "overflow": null,
      "overflow_x": null,
      "overflow_y": null,
      "padding": null,
      "right": null,
      "top": null,
      "visibility": null,
      "width": null
     }
    },
    "689034eeea9c467d8f94f8086c6aa2a8": {
     "model_module": "@jupyter-widgets/controls",
     "model_name": "HTMLModel",
     "state": {
      "_dom_classes": [],
      "_model_module": "@jupyter-widgets/controls",
      "_model_module_version": "1.5.0",
      "_model_name": "HTMLModel",
      "_view_count": null,
      "_view_module": "@jupyter-widgets/controls",
      "_view_module_version": "1.5.0",
      "_view_name": "HTMLView",
      "description": "",
      "description_tooltip": null,
      "layout": "IPY_MODEL_92b85e44c93141c5a44f6cf78408eb55",
      "placeholder": "​",
      "style": "IPY_MODEL_a5a4b726e29a4806a570b7506fe6510e",
      "value": " 41353/41353 [00:21&lt;00:00, 1949.28it/s]"
     }
    },
    "6cd2f740177d4af598f295bedc7de768": {
     "model_module": "@jupyter-widgets/controls",
     "model_name": "HBoxModel",
     "state": {
      "_dom_classes": [],
      "_model_module": "@jupyter-widgets/controls",
      "_model_module_version": "1.5.0",
      "_model_name": "HBoxModel",
      "_view_count": null,
      "_view_module": "@jupyter-widgets/controls",
      "_view_module_version": "1.5.0",
      "_view_name": "HBoxView",
      "box_style": "",
      "children": [
       "IPY_MODEL_4bf2b88133ff4599bffeb6d138fec493",
       "IPY_MODEL_be28a3b50ec34f24b41aeffaa19d9a95"
      ],
      "layout": "IPY_MODEL_dc8d4516ff974909b9355d65c5ab62e0"
     }
    },
    "6f158d14867445989868a2060ed78115": {
     "model_module": "@jupyter-widgets/controls",
     "model_name": "ProgressStyleModel",
     "state": {
      "_model_module": "@jupyter-widgets/controls",
      "_model_module_version": "1.5.0",
      "_model_name": "ProgressStyleModel",
      "_view_count": null,
      "_view_module": "@jupyter-widgets/base",
      "_view_module_version": "1.2.0",
      "_view_name": "StyleView",
      "bar_color": null,
      "description_width": "initial"
     }
    },
    "72ff902830ec48a2b280654c3c3db5c5": {
     "model_module": "@jupyter-widgets/controls",
     "model_name": "ProgressStyleModel",
     "state": {
      "_model_module": "@jupyter-widgets/controls",
      "_model_module_version": "1.5.0",
      "_model_name": "ProgressStyleModel",
      "_view_count": null,
      "_view_module": "@jupyter-widgets/base",
      "_view_module_version": "1.2.0",
      "_view_name": "StyleView",
      "bar_color": null,
      "description_width": "initial"
     }
    },
    "7b40c9f77f8646b598eafb574683c226": {
     "model_module": "@jupyter-widgets/base",
     "model_name": "LayoutModel",
     "state": {
      "_model_module": "@jupyter-widgets/base",
      "_model_module_version": "1.2.0",
      "_model_name": "LayoutModel",
      "_view_count": null,
      "_view_module": "@jupyter-widgets/base",
      "_view_module_version": "1.2.0",
      "_view_name": "LayoutView",
      "align_content": null,
      "align_items": null,
      "align_self": null,
      "border": null,
      "bottom": null,
      "display": null,
      "flex": null,
      "flex_flow": null,
      "grid_area": null,
      "grid_auto_columns": null,
      "grid_auto_flow": null,
      "grid_auto_rows": null,
      "grid_column": null,
      "grid_gap": null,
      "grid_row": null,
      "grid_template_areas": null,
      "grid_template_columns": null,
      "grid_template_rows": null,
      "height": null,
      "justify_content": null,
      "justify_items": null,
      "left": null,
      "margin": null,
      "max_height": null,
      "max_width": null,
      "min_height": null,
      "min_width": null,
      "object_fit": null,
      "object_position": null,
      "order": null,
      "overflow": null,
      "overflow_x": null,
      "overflow_y": null,
      "padding": null,
      "right": null,
      "top": null,
      "visibility": null,
      "width": null
     }
    },
    "82b8d79af90a40b994e1f6c0d18ebd40": {
     "model_module": "@jupyter-widgets/base",
     "model_name": "LayoutModel",
     "state": {
      "_model_module": "@jupyter-widgets/base",
      "_model_module_version": "1.2.0",
      "_model_name": "LayoutModel",
      "_view_count": null,
      "_view_module": "@jupyter-widgets/base",
      "_view_module_version": "1.2.0",
      "_view_name": "LayoutView",
      "align_content": null,
      "align_items": null,
      "align_self": null,
      "border": null,
      "bottom": null,
      "display": null,
      "flex": null,
      "flex_flow": null,
      "grid_area": null,
      "grid_auto_columns": null,
      "grid_auto_flow": null,
      "grid_auto_rows": null,
      "grid_column": null,
      "grid_gap": null,
      "grid_row": null,
      "grid_template_areas": null,
      "grid_template_columns": null,
      "grid_template_rows": null,
      "height": null,
      "justify_content": null,
      "justify_items": null,
      "left": null,
      "margin": null,
      "max_height": null,
      "max_width": null,
      "min_height": null,
      "min_width": null,
      "object_fit": null,
      "object_position": null,
      "order": null,
      "overflow": null,
      "overflow_x": null,
      "overflow_y": null,
      "padding": null,
      "right": null,
      "top": null,
      "visibility": null,
      "width": null
     }
    },
    "8351ab39332447bf8082de3ac179e53e": {
     "model_module": "@jupyter-widgets/controls",
     "model_name": "HBoxModel",
     "state": {
      "_dom_classes": [],
      "_model_module": "@jupyter-widgets/controls",
      "_model_module_version": "1.5.0",
      "_model_name": "HBoxModel",
      "_view_count": null,
      "_view_module": "@jupyter-widgets/controls",
      "_view_module_version": "1.5.0",
      "_view_name": "HBoxView",
      "box_style": "",
      "children": [
       "IPY_MODEL_9b76235339fb489b937a5b4f7a88fb42",
       "IPY_MODEL_e520f2bffeb9475188a54d61a7ae1eaf"
      ],
      "layout": "IPY_MODEL_63147ff9ecdc4a939882eaefa45fd4d1"
     }
    },
    "8a59e53cc8f14852aefce2fae1cdd874": {
     "model_module": "@jupyter-widgets/controls",
     "model_name": "HTMLModel",
     "state": {
      "_dom_classes": [],
      "_model_module": "@jupyter-widgets/controls",
      "_model_module_version": "1.5.0",
      "_model_name": "HTMLModel",
      "_view_count": null,
      "_view_module": "@jupyter-widgets/controls",
      "_view_module_version": "1.5.0",
      "_view_name": "HTMLView",
      "description": "",
      "description_tooltip": null,
      "layout": "IPY_MODEL_58a72bc648484071a8c7a8bb56c2fb51",
      "placeholder": "​",
      "style": "IPY_MODEL_c25210949d6d49b089e9b3204496a73a",
      "value": " 13087/13087 [00:24&lt;00:00, 528.14it/s]"
     }
    },
    "92b85e44c93141c5a44f6cf78408eb55": {
     "model_module": "@jupyter-widgets/base",
     "model_name": "LayoutModel",
     "state": {
      "_model_module": "@jupyter-widgets/base",
      "_model_module_version": "1.2.0",
      "_model_name": "LayoutModel",
      "_view_count": null,
      "_view_module": "@jupyter-widgets/base",
      "_view_module_version": "1.2.0",
      "_view_name": "LayoutView",
      "align_content": null,
      "align_items": null,
      "align_self": null,
      "border": null,
      "bottom": null,
      "display": null,
      "flex": null,
      "flex_flow": null,
      "grid_area": null,
      "grid_auto_columns": null,
      "grid_auto_flow": null,
      "grid_auto_rows": null,
      "grid_column": null,
      "grid_gap": null,
      "grid_row": null,
      "grid_template_areas": null,
      "grid_template_columns": null,
      "grid_template_rows": null,
      "height": null,
      "justify_content": null,
      "justify_items": null,
      "left": null,
      "margin": null,
      "max_height": null,
      "max_width": null,
      "min_height": null,
      "min_width": null,
      "object_fit": null,
      "object_position": null,
      "order": null,
      "overflow": null,
      "overflow_x": null,
      "overflow_y": null,
      "padding": null,
      "right": null,
      "top": null,
      "visibility": null,
      "width": null
     }
    },
    "9b76235339fb489b937a5b4f7a88fb42": {
     "model_module": "@jupyter-widgets/controls",
     "model_name": "FloatProgressModel",
     "state": {
      "_dom_classes": [],
      "_model_module": "@jupyter-widgets/controls",
      "_model_module_version": "1.5.0",
      "_model_name": "FloatProgressModel",
      "_view_count": null,
      "_view_module": "@jupyter-widgets/controls",
      "_view_module_version": "1.5.0",
      "_view_name": "ProgressView",
      "bar_style": "success",
      "description": "parsing log, completed traces :: 100%",
      "description_tooltip": null,
      "layout": "IPY_MODEL_7b40c9f77f8646b598eafb574683c226",
      "max": 150370,
      "min": 0,
      "orientation": "horizontal",
      "style": "IPY_MODEL_72ff902830ec48a2b280654c3c3db5c5",
      "value": 150370
     }
    },
    "9ced713c62da43278e5f4ad15a6b5310": {
     "model_module": "@jupyter-widgets/base",
     "model_name": "LayoutModel",
     "state": {
      "_model_module": "@jupyter-widgets/base",
      "_model_module_version": "1.2.0",
      "_model_name": "LayoutModel",
      "_view_count": null,
      "_view_module": "@jupyter-widgets/base",
      "_view_module_version": "1.2.0",
      "_view_name": "LayoutView",
      "align_content": null,
      "align_items": null,
      "align_self": null,
      "border": null,
      "bottom": null,
      "display": null,
      "flex": null,
      "flex_flow": null,
      "grid_area": null,
      "grid_auto_columns": null,
      "grid_auto_flow": null,
      "grid_auto_rows": null,
      "grid_column": null,
      "grid_gap": null,
      "grid_row": null,
      "grid_template_areas": null,
      "grid_template_columns": null,
      "grid_template_rows": null,
      "height": null,
      "justify_content": null,
      "justify_items": null,
      "left": null,
      "margin": null,
      "max_height": null,
      "max_width": null,
      "min_height": null,
      "min_width": null,
      "object_fit": null,
      "object_position": null,
      "order": null,
      "overflow": null,
      "overflow_x": null,
      "overflow_y": null,
      "padding": null,
      "right": null,
      "top": null,
      "visibility": null,
      "width": null
     }
    },
    "a5a4b726e29a4806a570b7506fe6510e": {
     "model_module": "@jupyter-widgets/controls",
     "model_name": "DescriptionStyleModel",
     "state": {
      "_model_module": "@jupyter-widgets/controls",
      "_model_module_version": "1.5.0",
      "_model_name": "DescriptionStyleModel",
      "_view_count": null,
      "_view_module": "@jupyter-widgets/base",
      "_view_module_version": "1.2.0",
      "_view_name": "StyleView",
      "description_width": ""
     }
    },
    "b894fed067cb4cfb890d4cab936bb1b6": {
     "model_module": "@jupyter-widgets/controls",
     "model_name": "ProgressStyleModel",
     "state": {
      "_model_module": "@jupyter-widgets/controls",
      "_model_module_version": "1.5.0",
      "_model_name": "ProgressStyleModel",
      "_view_count": null,
      "_view_module": "@jupyter-widgets/base",
      "_view_module_version": "1.2.0",
      "_view_name": "StyleView",
      "bar_color": null,
      "description_width": "initial"
     }
    },
    "ba89f26bf29143df9b5a90cb390e092b": {
     "model_module": "@jupyter-widgets/base",
     "model_name": "LayoutModel",
     "state": {
      "_model_module": "@jupyter-widgets/base",
      "_model_module_version": "1.2.0",
      "_model_name": "LayoutModel",
      "_view_count": null,
      "_view_module": "@jupyter-widgets/base",
      "_view_module_version": "1.2.0",
      "_view_name": "LayoutView",
      "align_content": null,
      "align_items": null,
      "align_self": null,
      "border": null,
      "bottom": null,
      "display": null,
      "flex": null,
      "flex_flow": null,
      "grid_area": null,
      "grid_auto_columns": null,
      "grid_auto_flow": null,
      "grid_auto_rows": null,
      "grid_column": null,
      "grid_gap": null,
      "grid_row": null,
      "grid_template_areas": null,
      "grid_template_columns": null,
      "grid_template_rows": null,
      "height": null,
      "justify_content": null,
      "justify_items": null,
      "left": null,
      "margin": null,
      "max_height": null,
      "max_width": null,
      "min_height": null,
      "min_width": null,
      "object_fit": null,
      "object_position": null,
      "order": null,
      "overflow": null,
      "overflow_x": null,
      "overflow_y": null,
      "padding": null,
      "right": null,
      "top": null,
      "visibility": null,
      "width": null
     }
    },
    "be28a3b50ec34f24b41aeffaa19d9a95": {
     "model_module": "@jupyter-widgets/controls",
     "model_name": "HTMLModel",
     "state": {
      "_dom_classes": [],
      "_model_module": "@jupyter-widgets/controls",
      "_model_module_version": "1.5.0",
      "_model_name": "HTMLModel",
      "_view_count": null,
      "_view_module": "@jupyter-widgets/controls",
      "_view_module_version": "1.5.0",
      "_view_name": "HTMLView",
      "description": "",
      "description_tooltip": null,
      "layout": "IPY_MODEL_3355878477864807bcd8e3b7a792b37b",
      "placeholder": "​",
      "style": "IPY_MODEL_3d9a1f7aec6646b095022c134ef6ae65",
      "value": " 1000/1000 [00:00&lt;00:00, 1678.47it/s]"
     }
    },
    "c1d589077e9a43e18d68f15683174e4a": {
     "model_module": "@jupyter-widgets/controls",
     "model_name": "DescriptionStyleModel",
     "state": {
      "_model_module": "@jupyter-widgets/controls",
      "_model_module_version": "1.5.0",
      "_model_name": "DescriptionStyleModel",
      "_view_count": null,
      "_view_module": "@jupyter-widgets/base",
      "_view_module_version": "1.2.0",
      "_view_name": "StyleView",
      "description_width": ""
     }
    },
    "c25210949d6d49b089e9b3204496a73a": {
     "model_module": "@jupyter-widgets/controls",
     "model_name": "DescriptionStyleModel",
     "state": {
      "_model_module": "@jupyter-widgets/controls",
      "_model_module_version": "1.5.0",
      "_model_name": "DescriptionStyleModel",
      "_view_count": null,
      "_view_module": "@jupyter-widgets/base",
      "_view_module_version": "1.2.0",
      "_view_name": "StyleView",
      "description_width": ""
     }
    },
    "db372b1feca046208ed37e385c6ffba9": {
     "model_module": "@jupyter-widgets/controls",
     "model_name": "HBoxModel",
     "state": {
      "_dom_classes": [],
      "_model_module": "@jupyter-widgets/controls",
      "_model_module_version": "1.5.0",
      "_model_name": "HBoxModel",
      "_view_count": null,
      "_view_module": "@jupyter-widgets/controls",
      "_view_module_version": "1.5.0",
      "_view_name": "HBoxView",
      "box_style": "",
      "children": [
       "IPY_MODEL_314d8106a59345df9b42508833fac143",
       "IPY_MODEL_8a59e53cc8f14852aefce2fae1cdd874"
      ],
      "layout": "IPY_MODEL_9ced713c62da43278e5f4ad15a6b5310"
     }
    },
    "dc8d4516ff974909b9355d65c5ab62e0": {
     "model_module": "@jupyter-widgets/base",
     "model_name": "LayoutModel",
     "state": {
      "_model_module": "@jupyter-widgets/base",
      "_model_module_version": "1.2.0",
      "_model_name": "LayoutModel",
      "_view_count": null,
      "_view_module": "@jupyter-widgets/base",
      "_view_module_version": "1.2.0",
      "_view_name": "LayoutView",
      "align_content": null,
      "align_items": null,
      "align_self": null,
      "border": null,
      "bottom": null,
      "display": null,
      "flex": null,
      "flex_flow": null,
      "grid_area": null,
      "grid_auto_columns": null,
      "grid_auto_flow": null,
      "grid_auto_rows": null,
      "grid_column": null,
      "grid_gap": null,
      "grid_row": null,
      "grid_template_areas": null,
      "grid_template_columns": null,
      "grid_template_rows": null,
      "height": null,
      "justify_content": null,
      "justify_items": null,
      "left": null,
      "margin": null,
      "max_height": null,
      "max_width": null,
      "min_height": null,
      "min_width": null,
      "object_fit": null,
      "object_position": null,
      "order": null,
      "overflow": null,
      "overflow_x": null,
      "overflow_y": null,
      "padding": null,
      "right": null,
      "top": null,
      "visibility": null,
      "width": null
     }
    },
    "e520f2bffeb9475188a54d61a7ae1eaf": {
     "model_module": "@jupyter-widgets/controls",
     "model_name": "HTMLModel",
     "state": {
      "_dom_classes": [],
      "_model_module": "@jupyter-widgets/controls",
      "_model_module_version": "1.5.0",
      "_model_name": "HTMLModel",
      "_view_count": null,
      "_view_module": "@jupyter-widgets/controls",
      "_view_module_version": "1.5.0",
      "_view_name": "HTMLView",
      "description": "",
      "description_tooltip": null,
      "layout": "IPY_MODEL_53fa271c2fc5486481be793b1b7bc546",
      "placeholder": "​",
      "style": "IPY_MODEL_c1d589077e9a43e18d68f15683174e4a",
      "value": " 150370/150370 [00:31&lt;00:00, 4708.57it/s]"
     }
    },
    "f23fe9176c00431fb19df655f8c3fde7": {
     "model_module": "@jupyter-widgets/base",
     "model_name": "LayoutModel",
     "state": {
      "_model_module": "@jupyter-widgets/base",
      "_model_module_version": "1.2.0",
      "_model_name": "LayoutModel",
      "_view_count": null,
      "_view_module": "@jupyter-widgets/base",
      "_view_module_version": "1.2.0",
      "_view_name": "LayoutView",
      "align_content": null,
      "align_items": null,
      "align_self": null,
      "border": null,
      "bottom": null,
      "display": null,
      "flex": null,
      "flex_flow": null,
      "grid_area": null,
      "grid_auto_columns": null,
      "grid_auto_flow": null,
      "grid_auto_rows": null,
      "grid_column": null,
      "grid_gap": null,
      "grid_row": null,
      "grid_template_areas": null,
      "grid_template_columns": null,
      "grid_template_rows": null,
      "height": null,
      "justify_content": null,
      "justify_items": null,
      "left": null,
      "margin": null,
      "max_height": null,
      "max_width": null,
      "min_height": null,
      "min_width": null,
      "object_fit": null,
      "object_position": null,
      "order": null,
      "overflow": null,
      "overflow_x": null,
      "overflow_y": null,
      "padding": null,
      "right": null,
      "top": null,
      "visibility": null,
      "width": null
     }
    },
    "ffb11f574ae34c9bbbd632a1959a7a4d": {
     "model_module": "@jupyter-widgets/base",
     "model_name": "LayoutModel",
     "state": {
      "_model_module": "@jupyter-widgets/base",
      "_model_module_version": "1.2.0",
      "_model_name": "LayoutModel",
      "_view_count": null,
      "_view_module": "@jupyter-widgets/base",
      "_view_module_version": "1.2.0",
      "_view_name": "LayoutView",
      "align_content": null,
      "align_items": null,
      "align_self": null,
      "border": null,
      "bottom": null,
      "display": null,
      "flex": null,
      "flex_flow": null,
      "grid_area": null,
      "grid_auto_columns": null,
      "grid_auto_flow": null,
      "grid_auto_rows": null,
      "grid_column": null,
      "grid_gap": null,
      "grid_row": null,
      "grid_template_areas": null,
      "grid_template_columns": null,
      "grid_template_rows": null,
      "height": null,
      "justify_content": null,
      "justify_items": null,
      "left": null,
      "margin": null,
      "max_height": null,
      "max_width": null,
      "min_height": null,
      "min_width": null,
      "object_fit": null,
      "object_position": null,
      "order": null,
      "overflow": null,
      "overflow_x": null,
      "overflow_y": null,
      "padding": null,
      "right": null,
      "top": null,
      "visibility": null,
      "width": null
     }
    }
   }
  }
 },
 "nbformat": 4,
 "nbformat_minor": 4
}
