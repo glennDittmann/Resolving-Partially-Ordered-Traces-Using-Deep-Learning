{
  "nbformat": 4,
  "nbformat_minor": 0,
  "metadata": {
    "colab": {
      "name": "testANN.ipynb",
      "provenance": [],
      "collapsed_sections": [
        "CJ0g22UAwxfS",
        "X5UgwtjUwJwc",
        "rd7YpZEe1r9a",
        "3qcgPUplVsGM",
        "lRb2yb8r8XXX",
        "iZaxz82zrmbo",
        "NqkOoYIsw8ER",
        "vKHWkBsKxI_F",
        "QuB4e0InT5D2",
        "sYcXI_W_NR_q",
        "z5bAwsSv4bH6",
        "DSayZIsc4kGM",
        "ZoWxRlVrvGMr"
      ]
    },
    "kernelspec": {
      "name": "python3",
      "display_name": "Python 3"
    },
    "widgets": {
      "application/vnd.jupyter.widget-state+json": {
        "e817b455451442478a77be5e1be1ef49": {
          "model_module": "@jupyter-widgets/controls",
          "model_name": "HBoxModel",
          "state": {
            "_view_name": "HBoxView",
            "_dom_classes": [],
            "_model_name": "HBoxModel",
            "_view_module": "@jupyter-widgets/controls",
            "_model_module_version": "1.5.0",
            "_view_count": null,
            "_view_module_version": "1.5.0",
            "box_style": "",
            "layout": "IPY_MODEL_ecce35ecb2484d2abdedf5cc06f091f4",
            "_model_module": "@jupyter-widgets/controls",
            "children": [
              "IPY_MODEL_01e39c190d8840539596a3c20c79c940",
              "IPY_MODEL_a0df608263ea45f183a85209a82bc85d"
            ]
          }
        },
        "ecce35ecb2484d2abdedf5cc06f091f4": {
          "model_module": "@jupyter-widgets/base",
          "model_name": "LayoutModel",
          "state": {
            "_view_name": "LayoutView",
            "grid_template_rows": null,
            "right": null,
            "justify_content": null,
            "_view_module": "@jupyter-widgets/base",
            "overflow": null,
            "_model_module_version": "1.2.0",
            "_view_count": null,
            "flex_flow": null,
            "width": null,
            "min_width": null,
            "border": null,
            "align_items": null,
            "bottom": null,
            "_model_module": "@jupyter-widgets/base",
            "top": null,
            "grid_column": null,
            "overflow_y": null,
            "overflow_x": null,
            "grid_auto_flow": null,
            "grid_area": null,
            "grid_template_columns": null,
            "flex": null,
            "_model_name": "LayoutModel",
            "justify_items": null,
            "grid_row": null,
            "max_height": null,
            "align_content": null,
            "visibility": null,
            "align_self": null,
            "height": null,
            "min_height": null,
            "padding": null,
            "grid_auto_rows": null,
            "grid_gap": null,
            "max_width": null,
            "order": null,
            "_view_module_version": "1.2.0",
            "grid_template_areas": null,
            "object_position": null,
            "object_fit": null,
            "grid_auto_columns": null,
            "margin": null,
            "display": null,
            "left": null
          }
        },
        "01e39c190d8840539596a3c20c79c940": {
          "model_module": "@jupyter-widgets/controls",
          "model_name": "FloatProgressModel",
          "state": {
            "_view_name": "ProgressView",
            "style": "IPY_MODEL_b492671cc9ef48ee9aef6952ee732701",
            "_dom_classes": [],
            "description": "parsing log, completed traces :: 100%",
            "_model_name": "FloatProgressModel",
            "bar_style": "success",
            "max": 1050,
            "_view_module": "@jupyter-widgets/controls",
            "_model_module_version": "1.5.0",
            "value": 1050,
            "_view_count": null,
            "_view_module_version": "1.5.0",
            "orientation": "horizontal",
            "min": 0,
            "description_tooltip": null,
            "_model_module": "@jupyter-widgets/controls",
            "layout": "IPY_MODEL_60cff711b682467ba3184afaec82e863"
          }
        },
        "a0df608263ea45f183a85209a82bc85d": {
          "model_module": "@jupyter-widgets/controls",
          "model_name": "HTMLModel",
          "state": {
            "_view_name": "HTMLView",
            "style": "IPY_MODEL_023cc7b894f84b2abc5495d8813aa223",
            "_dom_classes": [],
            "description": "",
            "_model_name": "HTMLModel",
            "placeholder": "​",
            "_view_module": "@jupyter-widgets/controls",
            "_model_module_version": "1.5.0",
            "value": " 1050/1050 [00:04&lt;00:00, 261.33it/s]",
            "_view_count": null,
            "_view_module_version": "1.5.0",
            "description_tooltip": null,
            "_model_module": "@jupyter-widgets/controls",
            "layout": "IPY_MODEL_57bedac405814d6bb9385ac69f61e33a"
          }
        },
        "b492671cc9ef48ee9aef6952ee732701": {
          "model_module": "@jupyter-widgets/controls",
          "model_name": "ProgressStyleModel",
          "state": {
            "_view_name": "StyleView",
            "_model_name": "ProgressStyleModel",
            "description_width": "initial",
            "_view_module": "@jupyter-widgets/base",
            "_model_module_version": "1.5.0",
            "_view_count": null,
            "_view_module_version": "1.2.0",
            "bar_color": null,
            "_model_module": "@jupyter-widgets/controls"
          }
        },
        "60cff711b682467ba3184afaec82e863": {
          "model_module": "@jupyter-widgets/base",
          "model_name": "LayoutModel",
          "state": {
            "_view_name": "LayoutView",
            "grid_template_rows": null,
            "right": null,
            "justify_content": null,
            "_view_module": "@jupyter-widgets/base",
            "overflow": null,
            "_model_module_version": "1.2.0",
            "_view_count": null,
            "flex_flow": null,
            "width": null,
            "min_width": null,
            "border": null,
            "align_items": null,
            "bottom": null,
            "_model_module": "@jupyter-widgets/base",
            "top": null,
            "grid_column": null,
            "overflow_y": null,
            "overflow_x": null,
            "grid_auto_flow": null,
            "grid_area": null,
            "grid_template_columns": null,
            "flex": null,
            "_model_name": "LayoutModel",
            "justify_items": null,
            "grid_row": null,
            "max_height": null,
            "align_content": null,
            "visibility": null,
            "align_self": null,
            "height": null,
            "min_height": null,
            "padding": null,
            "grid_auto_rows": null,
            "grid_gap": null,
            "max_width": null,
            "order": null,
            "_view_module_version": "1.2.0",
            "grid_template_areas": null,
            "object_position": null,
            "object_fit": null,
            "grid_auto_columns": null,
            "margin": null,
            "display": null,
            "left": null
          }
        },
        "023cc7b894f84b2abc5495d8813aa223": {
          "model_module": "@jupyter-widgets/controls",
          "model_name": "DescriptionStyleModel",
          "state": {
            "_view_name": "StyleView",
            "_model_name": "DescriptionStyleModel",
            "description_width": "",
            "_view_module": "@jupyter-widgets/base",
            "_model_module_version": "1.5.0",
            "_view_count": null,
            "_view_module_version": "1.2.0",
            "_model_module": "@jupyter-widgets/controls"
          }
        },
        "57bedac405814d6bb9385ac69f61e33a": {
          "model_module": "@jupyter-widgets/base",
          "model_name": "LayoutModel",
          "state": {
            "_view_name": "LayoutView",
            "grid_template_rows": null,
            "right": null,
            "justify_content": null,
            "_view_module": "@jupyter-widgets/base",
            "overflow": null,
            "_model_module_version": "1.2.0",
            "_view_count": null,
            "flex_flow": null,
            "width": null,
            "min_width": null,
            "border": null,
            "align_items": null,
            "bottom": null,
            "_model_module": "@jupyter-widgets/base",
            "top": null,
            "grid_column": null,
            "overflow_y": null,
            "overflow_x": null,
            "grid_auto_flow": null,
            "grid_area": null,
            "grid_template_columns": null,
            "flex": null,
            "_model_name": "LayoutModel",
            "justify_items": null,
            "grid_row": null,
            "max_height": null,
            "align_content": null,
            "visibility": null,
            "align_self": null,
            "height": null,
            "min_height": null,
            "padding": null,
            "grid_auto_rows": null,
            "grid_gap": null,
            "max_width": null,
            "order": null,
            "_view_module_version": "1.2.0",
            "grid_template_areas": null,
            "object_position": null,
            "object_fit": null,
            "grid_auto_columns": null,
            "margin": null,
            "display": null,
            "left": null
          }
        },
        "2b9e3f5f0884428199962b3c9bd4875e": {
          "model_module": "@jupyter-widgets/controls",
          "model_name": "HBoxModel",
          "state": {
            "_view_name": "HBoxView",
            "_dom_classes": [],
            "_model_name": "HBoxModel",
            "_view_module": "@jupyter-widgets/controls",
            "_model_module_version": "1.5.0",
            "_view_count": null,
            "_view_module_version": "1.5.0",
            "box_style": "",
            "layout": "IPY_MODEL_67ce6f7aaf5c4714b6b7f204267729f0",
            "_model_module": "@jupyter-widgets/controls",
            "children": [
              "IPY_MODEL_c906acb39015428695b2e1599dd0414d",
              "IPY_MODEL_b4c9d6c2c754413ba2289a2af6c1c88a"
            ]
          }
        },
        "67ce6f7aaf5c4714b6b7f204267729f0": {
          "model_module": "@jupyter-widgets/base",
          "model_name": "LayoutModel",
          "state": {
            "_view_name": "LayoutView",
            "grid_template_rows": null,
            "right": null,
            "justify_content": null,
            "_view_module": "@jupyter-widgets/base",
            "overflow": null,
            "_model_module_version": "1.2.0",
            "_view_count": null,
            "flex_flow": null,
            "width": null,
            "min_width": null,
            "border": null,
            "align_items": null,
            "bottom": null,
            "_model_module": "@jupyter-widgets/base",
            "top": null,
            "grid_column": null,
            "overflow_y": null,
            "overflow_x": null,
            "grid_auto_flow": null,
            "grid_area": null,
            "grid_template_columns": null,
            "flex": null,
            "_model_name": "LayoutModel",
            "justify_items": null,
            "grid_row": null,
            "max_height": null,
            "align_content": null,
            "visibility": null,
            "align_self": null,
            "height": null,
            "min_height": null,
            "padding": null,
            "grid_auto_rows": null,
            "grid_gap": null,
            "max_width": null,
            "order": null,
            "_view_module_version": "1.2.0",
            "grid_template_areas": null,
            "object_position": null,
            "object_fit": null,
            "grid_auto_columns": null,
            "margin": null,
            "display": null,
            "left": null
          }
        },
        "c906acb39015428695b2e1599dd0414d": {
          "model_module": "@jupyter-widgets/controls",
          "model_name": "FloatProgressModel",
          "state": {
            "_view_name": "ProgressView",
            "style": "IPY_MODEL_a3ca9bb0fbc04819b1c7d68ffabeb5c8",
            "_dom_classes": [],
            "description": "parsing log, completed traces :: 100%",
            "_model_name": "FloatProgressModel",
            "bar_style": "success",
            "max": 7065,
            "_view_module": "@jupyter-widgets/controls",
            "_model_module_version": "1.5.0",
            "value": 7065,
            "_view_count": null,
            "_view_module_version": "1.5.0",
            "orientation": "horizontal",
            "min": 0,
            "description_tooltip": null,
            "_model_module": "@jupyter-widgets/controls",
            "layout": "IPY_MODEL_806f8063e98c4b6490447bc6f41f38cc"
          }
        },
        "b4c9d6c2c754413ba2289a2af6c1c88a": {
          "model_module": "@jupyter-widgets/controls",
          "model_name": "HTMLModel",
          "state": {
            "_view_name": "HTMLView",
            "style": "IPY_MODEL_142a0b82cb3942768fcc6eb7d006404f",
            "_dom_classes": [],
            "description": "",
            "_model_name": "HTMLModel",
            "placeholder": "​",
            "_view_module": "@jupyter-widgets/controls",
            "_model_module_version": "1.5.0",
            "value": " 7065/7065 [00:14&lt;00:00, 475.54it/s]",
            "_view_count": null,
            "_view_module_version": "1.5.0",
            "description_tooltip": null,
            "_model_module": "@jupyter-widgets/controls",
            "layout": "IPY_MODEL_9f1147b6386d4c5c94cf48d3f4278e6e"
          }
        },
        "a3ca9bb0fbc04819b1c7d68ffabeb5c8": {
          "model_module": "@jupyter-widgets/controls",
          "model_name": "ProgressStyleModel",
          "state": {
            "_view_name": "StyleView",
            "_model_name": "ProgressStyleModel",
            "description_width": "initial",
            "_view_module": "@jupyter-widgets/base",
            "_model_module_version": "1.5.0",
            "_view_count": null,
            "_view_module_version": "1.2.0",
            "bar_color": null,
            "_model_module": "@jupyter-widgets/controls"
          }
        },
        "806f8063e98c4b6490447bc6f41f38cc": {
          "model_module": "@jupyter-widgets/base",
          "model_name": "LayoutModel",
          "state": {
            "_view_name": "LayoutView",
            "grid_template_rows": null,
            "right": null,
            "justify_content": null,
            "_view_module": "@jupyter-widgets/base",
            "overflow": null,
            "_model_module_version": "1.2.0",
            "_view_count": null,
            "flex_flow": null,
            "width": null,
            "min_width": null,
            "border": null,
            "align_items": null,
            "bottom": null,
            "_model_module": "@jupyter-widgets/base",
            "top": null,
            "grid_column": null,
            "overflow_y": null,
            "overflow_x": null,
            "grid_auto_flow": null,
            "grid_area": null,
            "grid_template_columns": null,
            "flex": null,
            "_model_name": "LayoutModel",
            "justify_items": null,
            "grid_row": null,
            "max_height": null,
            "align_content": null,
            "visibility": null,
            "align_self": null,
            "height": null,
            "min_height": null,
            "padding": null,
            "grid_auto_rows": null,
            "grid_gap": null,
            "max_width": null,
            "order": null,
            "_view_module_version": "1.2.0",
            "grid_template_areas": null,
            "object_position": null,
            "object_fit": null,
            "grid_auto_columns": null,
            "margin": null,
            "display": null,
            "left": null
          }
        },
        "142a0b82cb3942768fcc6eb7d006404f": {
          "model_module": "@jupyter-widgets/controls",
          "model_name": "DescriptionStyleModel",
          "state": {
            "_view_name": "StyleView",
            "_model_name": "DescriptionStyleModel",
            "description_width": "",
            "_view_module": "@jupyter-widgets/base",
            "_model_module_version": "1.5.0",
            "_view_count": null,
            "_view_module_version": "1.2.0",
            "_model_module": "@jupyter-widgets/controls"
          }
        },
        "9f1147b6386d4c5c94cf48d3f4278e6e": {
          "model_module": "@jupyter-widgets/base",
          "model_name": "LayoutModel",
          "state": {
            "_view_name": "LayoutView",
            "grid_template_rows": null,
            "right": null,
            "justify_content": null,
            "_view_module": "@jupyter-widgets/base",
            "overflow": null,
            "_model_module_version": "1.2.0",
            "_view_count": null,
            "flex_flow": null,
            "width": null,
            "min_width": null,
            "border": null,
            "align_items": null,
            "bottom": null,
            "_model_module": "@jupyter-widgets/base",
            "top": null,
            "grid_column": null,
            "overflow_y": null,
            "overflow_x": null,
            "grid_auto_flow": null,
            "grid_area": null,
            "grid_template_columns": null,
            "flex": null,
            "_model_name": "LayoutModel",
            "justify_items": null,
            "grid_row": null,
            "max_height": null,
            "align_content": null,
            "visibility": null,
            "align_self": null,
            "height": null,
            "min_height": null,
            "padding": null,
            "grid_auto_rows": null,
            "grid_gap": null,
            "max_width": null,
            "order": null,
            "_view_module_version": "1.2.0",
            "grid_template_areas": null,
            "object_position": null,
            "object_fit": null,
            "grid_auto_columns": null,
            "margin": null,
            "display": null,
            "left": null
          }
        },
        "1830be9c60e941b2b261e5c48ba7c8a9": {
          "model_module": "@jupyter-widgets/controls",
          "model_name": "HBoxModel",
          "state": {
            "_view_name": "HBoxView",
            "_dom_classes": [],
            "_model_name": "HBoxModel",
            "_view_module": "@jupyter-widgets/controls",
            "_model_module_version": "1.5.0",
            "_view_count": null,
            "_view_module_version": "1.5.0",
            "box_style": "",
            "layout": "IPY_MODEL_b9d1f246c77849708945a00cb3d8e6ac",
            "_model_module": "@jupyter-widgets/controls",
            "children": [
              "IPY_MODEL_c99857b89eb84b279e26f299e7a97be0",
              "IPY_MODEL_4496b024a97f429ea284d36f8af43a40"
            ]
          }
        },
        "b9d1f246c77849708945a00cb3d8e6ac": {
          "model_module": "@jupyter-widgets/base",
          "model_name": "LayoutModel",
          "state": {
            "_view_name": "LayoutView",
            "grid_template_rows": null,
            "right": null,
            "justify_content": null,
            "_view_module": "@jupyter-widgets/base",
            "overflow": null,
            "_model_module_version": "1.2.0",
            "_view_count": null,
            "flex_flow": null,
            "width": null,
            "min_width": null,
            "border": null,
            "align_items": null,
            "bottom": null,
            "_model_module": "@jupyter-widgets/base",
            "top": null,
            "grid_column": null,
            "overflow_y": null,
            "overflow_x": null,
            "grid_auto_flow": null,
            "grid_area": null,
            "grid_template_columns": null,
            "flex": null,
            "_model_name": "LayoutModel",
            "justify_items": null,
            "grid_row": null,
            "max_height": null,
            "align_content": null,
            "visibility": null,
            "align_self": null,
            "height": null,
            "min_height": null,
            "padding": null,
            "grid_auto_rows": null,
            "grid_gap": null,
            "max_width": null,
            "order": null,
            "_view_module_version": "1.2.0",
            "grid_template_areas": null,
            "object_position": null,
            "object_fit": null,
            "grid_auto_columns": null,
            "margin": null,
            "display": null,
            "left": null
          }
        },
        "c99857b89eb84b279e26f299e7a97be0": {
          "model_module": "@jupyter-widgets/controls",
          "model_name": "FloatProgressModel",
          "state": {
            "_view_name": "ProgressView",
            "style": "IPY_MODEL_a1dab2de94564a71b2511a24efaa38e2",
            "_dom_classes": [],
            "description": "parsing log, completed traces :: 100%",
            "_model_name": "FloatProgressModel",
            "bar_style": "success",
            "max": 13087,
            "_view_module": "@jupyter-widgets/controls",
            "_model_module_version": "1.5.0",
            "value": 13087,
            "_view_count": null,
            "_view_module_version": "1.5.0",
            "orientation": "horizontal",
            "min": 0,
            "description_tooltip": null,
            "_model_module": "@jupyter-widgets/controls",
            "layout": "IPY_MODEL_f06757a266114f42b499066451faddce"
          }
        },
        "4496b024a97f429ea284d36f8af43a40": {
          "model_module": "@jupyter-widgets/controls",
          "model_name": "HTMLModel",
          "state": {
            "_view_name": "HTMLView",
            "style": "IPY_MODEL_8530e2f82a334593a84272a7dae6d8db",
            "_dom_classes": [],
            "description": "",
            "_model_name": "HTMLModel",
            "placeholder": "​",
            "_view_module": "@jupyter-widgets/controls",
            "_model_module_version": "1.5.0",
            "value": " 13087/13087 [00:24&lt;00:00, 526.16it/s]",
            "_view_count": null,
            "_view_module_version": "1.5.0",
            "description_tooltip": null,
            "_model_module": "@jupyter-widgets/controls",
            "layout": "IPY_MODEL_4c031f54126d47edbec9e423bbf388ab"
          }
        },
        "a1dab2de94564a71b2511a24efaa38e2": {
          "model_module": "@jupyter-widgets/controls",
          "model_name": "ProgressStyleModel",
          "state": {
            "_view_name": "StyleView",
            "_model_name": "ProgressStyleModel",
            "description_width": "initial",
            "_view_module": "@jupyter-widgets/base",
            "_model_module_version": "1.5.0",
            "_view_count": null,
            "_view_module_version": "1.2.0",
            "bar_color": null,
            "_model_module": "@jupyter-widgets/controls"
          }
        },
        "f06757a266114f42b499066451faddce": {
          "model_module": "@jupyter-widgets/base",
          "model_name": "LayoutModel",
          "state": {
            "_view_name": "LayoutView",
            "grid_template_rows": null,
            "right": null,
            "justify_content": null,
            "_view_module": "@jupyter-widgets/base",
            "overflow": null,
            "_model_module_version": "1.2.0",
            "_view_count": null,
            "flex_flow": null,
            "width": null,
            "min_width": null,
            "border": null,
            "align_items": null,
            "bottom": null,
            "_model_module": "@jupyter-widgets/base",
            "top": null,
            "grid_column": null,
            "overflow_y": null,
            "overflow_x": null,
            "grid_auto_flow": null,
            "grid_area": null,
            "grid_template_columns": null,
            "flex": null,
            "_model_name": "LayoutModel",
            "justify_items": null,
            "grid_row": null,
            "max_height": null,
            "align_content": null,
            "visibility": null,
            "align_self": null,
            "height": null,
            "min_height": null,
            "padding": null,
            "grid_auto_rows": null,
            "grid_gap": null,
            "max_width": null,
            "order": null,
            "_view_module_version": "1.2.0",
            "grid_template_areas": null,
            "object_position": null,
            "object_fit": null,
            "grid_auto_columns": null,
            "margin": null,
            "display": null,
            "left": null
          }
        },
        "8530e2f82a334593a84272a7dae6d8db": {
          "model_module": "@jupyter-widgets/controls",
          "model_name": "DescriptionStyleModel",
          "state": {
            "_view_name": "StyleView",
            "_model_name": "DescriptionStyleModel",
            "description_width": "",
            "_view_module": "@jupyter-widgets/base",
            "_model_module_version": "1.5.0",
            "_view_count": null,
            "_view_module_version": "1.2.0",
            "_model_module": "@jupyter-widgets/controls"
          }
        },
        "4c031f54126d47edbec9e423bbf388ab": {
          "model_module": "@jupyter-widgets/base",
          "model_name": "LayoutModel",
          "state": {
            "_view_name": "LayoutView",
            "grid_template_rows": null,
            "right": null,
            "justify_content": null,
            "_view_module": "@jupyter-widgets/base",
            "overflow": null,
            "_model_module_version": "1.2.0",
            "_view_count": null,
            "flex_flow": null,
            "width": null,
            "min_width": null,
            "border": null,
            "align_items": null,
            "bottom": null,
            "_model_module": "@jupyter-widgets/base",
            "top": null,
            "grid_column": null,
            "overflow_y": null,
            "overflow_x": null,
            "grid_auto_flow": null,
            "grid_area": null,
            "grid_template_columns": null,
            "flex": null,
            "_model_name": "LayoutModel",
            "justify_items": null,
            "grid_row": null,
            "max_height": null,
            "align_content": null,
            "visibility": null,
            "align_self": null,
            "height": null,
            "min_height": null,
            "padding": null,
            "grid_auto_rows": null,
            "grid_gap": null,
            "max_width": null,
            "order": null,
            "_view_module_version": "1.2.0",
            "grid_template_areas": null,
            "object_position": null,
            "object_fit": null,
            "grid_auto_columns": null,
            "margin": null,
            "display": null,
            "left": null
          }
        },
        "fa9099b2e58c48b8aedaad941b6b68b0": {
          "model_module": "@jupyter-widgets/controls",
          "model_name": "HBoxModel",
          "state": {
            "_view_name": "HBoxView",
            "_dom_classes": [],
            "_model_name": "HBoxModel",
            "_view_module": "@jupyter-widgets/controls",
            "_model_module_version": "1.5.0",
            "_view_count": null,
            "_view_module_version": "1.5.0",
            "box_style": "",
            "layout": "IPY_MODEL_122520c458e54620b64dadcdc165e87b",
            "_model_module": "@jupyter-widgets/controls",
            "children": [
              "IPY_MODEL_2e85fdec34f04e8a9eeda2796c001565",
              "IPY_MODEL_71cdeb0d71e14584b11033def7ea6ad6"
            ]
          }
        },
        "122520c458e54620b64dadcdc165e87b": {
          "model_module": "@jupyter-widgets/base",
          "model_name": "LayoutModel",
          "state": {
            "_view_name": "LayoutView",
            "grid_template_rows": null,
            "right": null,
            "justify_content": null,
            "_view_module": "@jupyter-widgets/base",
            "overflow": null,
            "_model_module_version": "1.2.0",
            "_view_count": null,
            "flex_flow": null,
            "width": null,
            "min_width": null,
            "border": null,
            "align_items": null,
            "bottom": null,
            "_model_module": "@jupyter-widgets/base",
            "top": null,
            "grid_column": null,
            "overflow_y": null,
            "overflow_x": null,
            "grid_auto_flow": null,
            "grid_area": null,
            "grid_template_columns": null,
            "flex": null,
            "_model_name": "LayoutModel",
            "justify_items": null,
            "grid_row": null,
            "max_height": null,
            "align_content": null,
            "visibility": null,
            "align_self": null,
            "height": null,
            "min_height": null,
            "padding": null,
            "grid_auto_rows": null,
            "grid_gap": null,
            "max_width": null,
            "order": null,
            "_view_module_version": "1.2.0",
            "grid_template_areas": null,
            "object_position": null,
            "object_fit": null,
            "grid_auto_columns": null,
            "margin": null,
            "display": null,
            "left": null
          }
        },
        "2e85fdec34f04e8a9eeda2796c001565": {
          "model_module": "@jupyter-widgets/controls",
          "model_name": "FloatProgressModel",
          "state": {
            "_view_name": "ProgressView",
            "style": "IPY_MODEL_c6113f3a2a6648cc8653cf86502870fc",
            "_dom_classes": [],
            "description": "parsing log, completed traces :: 100%",
            "_model_name": "FloatProgressModel",
            "bar_style": "success",
            "max": 41353,
            "_view_module": "@jupyter-widgets/controls",
            "_model_module_version": "1.5.0",
            "value": 41353,
            "_view_count": null,
            "_view_module_version": "1.5.0",
            "orientation": "horizontal",
            "min": 0,
            "description_tooltip": null,
            "_model_module": "@jupyter-widgets/controls",
            "layout": "IPY_MODEL_6b0996065a414c53b6ee133357d3a30f"
          }
        },
        "71cdeb0d71e14584b11033def7ea6ad6": {
          "model_module": "@jupyter-widgets/controls",
          "model_name": "HTMLModel",
          "state": {
            "_view_name": "HTMLView",
            "style": "IPY_MODEL_052ff29f8b554047bfd5d43e283e37de",
            "_dom_classes": [],
            "description": "",
            "_model_name": "HTMLModel",
            "placeholder": "​",
            "_view_module": "@jupyter-widgets/controls",
            "_model_module_version": "1.5.0",
            "value": " 41353/41353 [00:32&lt;00:00, 1285.72it/s]",
            "_view_count": null,
            "_view_module_version": "1.5.0",
            "description_tooltip": null,
            "_model_module": "@jupyter-widgets/controls",
            "layout": "IPY_MODEL_d6eb30a82f9a4e94a62f11a4a10fe10c"
          }
        },
        "c6113f3a2a6648cc8653cf86502870fc": {
          "model_module": "@jupyter-widgets/controls",
          "model_name": "ProgressStyleModel",
          "state": {
            "_view_name": "StyleView",
            "_model_name": "ProgressStyleModel",
            "description_width": "initial",
            "_view_module": "@jupyter-widgets/base",
            "_model_module_version": "1.5.0",
            "_view_count": null,
            "_view_module_version": "1.2.0",
            "bar_color": null,
            "_model_module": "@jupyter-widgets/controls"
          }
        },
        "6b0996065a414c53b6ee133357d3a30f": {
          "model_module": "@jupyter-widgets/base",
          "model_name": "LayoutModel",
          "state": {
            "_view_name": "LayoutView",
            "grid_template_rows": null,
            "right": null,
            "justify_content": null,
            "_view_module": "@jupyter-widgets/base",
            "overflow": null,
            "_model_module_version": "1.2.0",
            "_view_count": null,
            "flex_flow": null,
            "width": null,
            "min_width": null,
            "border": null,
            "align_items": null,
            "bottom": null,
            "_model_module": "@jupyter-widgets/base",
            "top": null,
            "grid_column": null,
            "overflow_y": null,
            "overflow_x": null,
            "grid_auto_flow": null,
            "grid_area": null,
            "grid_template_columns": null,
            "flex": null,
            "_model_name": "LayoutModel",
            "justify_items": null,
            "grid_row": null,
            "max_height": null,
            "align_content": null,
            "visibility": null,
            "align_self": null,
            "height": null,
            "min_height": null,
            "padding": null,
            "grid_auto_rows": null,
            "grid_gap": null,
            "max_width": null,
            "order": null,
            "_view_module_version": "1.2.0",
            "grid_template_areas": null,
            "object_position": null,
            "object_fit": null,
            "grid_auto_columns": null,
            "margin": null,
            "display": null,
            "left": null
          }
        },
        "052ff29f8b554047bfd5d43e283e37de": {
          "model_module": "@jupyter-widgets/controls",
          "model_name": "DescriptionStyleModel",
          "state": {
            "_view_name": "StyleView",
            "_model_name": "DescriptionStyleModel",
            "description_width": "",
            "_view_module": "@jupyter-widgets/base",
            "_model_module_version": "1.5.0",
            "_view_count": null,
            "_view_module_version": "1.2.0",
            "_model_module": "@jupyter-widgets/controls"
          }
        },
        "d6eb30a82f9a4e94a62f11a4a10fe10c": {
          "model_module": "@jupyter-widgets/base",
          "model_name": "LayoutModel",
          "state": {
            "_view_name": "LayoutView",
            "grid_template_rows": null,
            "right": null,
            "justify_content": null,
            "_view_module": "@jupyter-widgets/base",
            "overflow": null,
            "_model_module_version": "1.2.0",
            "_view_count": null,
            "flex_flow": null,
            "width": null,
            "min_width": null,
            "border": null,
            "align_items": null,
            "bottom": null,
            "_model_module": "@jupyter-widgets/base",
            "top": null,
            "grid_column": null,
            "overflow_y": null,
            "overflow_x": null,
            "grid_auto_flow": null,
            "grid_area": null,
            "grid_template_columns": null,
            "flex": null,
            "_model_name": "LayoutModel",
            "justify_items": null,
            "grid_row": null,
            "max_height": null,
            "align_content": null,
            "visibility": null,
            "align_self": null,
            "height": null,
            "min_height": null,
            "padding": null,
            "grid_auto_rows": null,
            "grid_gap": null,
            "max_width": null,
            "order": null,
            "_view_module_version": "1.2.0",
            "grid_template_areas": null,
            "object_position": null,
            "object_fit": null,
            "grid_auto_columns": null,
            "margin": null,
            "display": null,
            "left": null
          }
        },
        "50018412902f4fc391dd2488a4490195": {
          "model_module": "@jupyter-widgets/controls",
          "model_name": "HBoxModel",
          "state": {
            "_view_name": "HBoxView",
            "_dom_classes": [],
            "_model_name": "HBoxModel",
            "_view_module": "@jupyter-widgets/controls",
            "_model_module_version": "1.5.0",
            "_view_count": null,
            "_view_module_version": "1.5.0",
            "box_style": "",
            "layout": "IPY_MODEL_2fa6b38e24f44c9ca47e9f35ad137ca8",
            "_model_module": "@jupyter-widgets/controls",
            "children": [
              "IPY_MODEL_0bda795aca194391ad7b075246234d15",
              "IPY_MODEL_d9042ceb806545daa47e07f371cb2fb4"
            ]
          }
        },
        "2fa6b38e24f44c9ca47e9f35ad137ca8": {
          "model_module": "@jupyter-widgets/base",
          "model_name": "LayoutModel",
          "state": {
            "_view_name": "LayoutView",
            "grid_template_rows": null,
            "right": null,
            "justify_content": null,
            "_view_module": "@jupyter-widgets/base",
            "overflow": null,
            "_model_module_version": "1.2.0",
            "_view_count": null,
            "flex_flow": null,
            "width": null,
            "min_width": null,
            "border": null,
            "align_items": null,
            "bottom": null,
            "_model_module": "@jupyter-widgets/base",
            "top": null,
            "grid_column": null,
            "overflow_y": null,
            "overflow_x": null,
            "grid_auto_flow": null,
            "grid_area": null,
            "grid_template_columns": null,
            "flex": null,
            "_model_name": "LayoutModel",
            "justify_items": null,
            "grid_row": null,
            "max_height": null,
            "align_content": null,
            "visibility": null,
            "align_self": null,
            "height": null,
            "min_height": null,
            "padding": null,
            "grid_auto_rows": null,
            "grid_gap": null,
            "max_width": null,
            "order": null,
            "_view_module_version": "1.2.0",
            "grid_template_areas": null,
            "object_position": null,
            "object_fit": null,
            "grid_auto_columns": null,
            "margin": null,
            "display": null,
            "left": null
          }
        },
        "0bda795aca194391ad7b075246234d15": {
          "model_module": "@jupyter-widgets/controls",
          "model_name": "FloatProgressModel",
          "state": {
            "_view_name": "ProgressView",
            "style": "IPY_MODEL_52de01163094433bb33c1702359d02ee",
            "_dom_classes": [],
            "description": "parsing log, completed traces :: 100%",
            "_model_name": "FloatProgressModel",
            "bar_style": "success",
            "max": 150370,
            "_view_module": "@jupyter-widgets/controls",
            "_model_module_version": "1.5.0",
            "value": 150370,
            "_view_count": null,
            "_view_module_version": "1.5.0",
            "orientation": "horizontal",
            "min": 0,
            "description_tooltip": null,
            "_model_module": "@jupyter-widgets/controls",
            "layout": "IPY_MODEL_6088d2c874db4949b587ea85e0895d5a"
          }
        },
        "d9042ceb806545daa47e07f371cb2fb4": {
          "model_module": "@jupyter-widgets/controls",
          "model_name": "HTMLModel",
          "state": {
            "_view_name": "HTMLView",
            "style": "IPY_MODEL_0b3ea012151d49148aa3f4a59e991b69",
            "_dom_classes": [],
            "description": "",
            "_model_name": "HTMLModel",
            "placeholder": "​",
            "_view_module": "@jupyter-widgets/controls",
            "_model_module_version": "1.5.0",
            "value": " 150370/150370 [00:31&lt;00:00, 4845.54it/s]",
            "_view_count": null,
            "_view_module_version": "1.5.0",
            "description_tooltip": null,
            "_model_module": "@jupyter-widgets/controls",
            "layout": "IPY_MODEL_4ff477887c124c2190529d062bee32de"
          }
        },
        "52de01163094433bb33c1702359d02ee": {
          "model_module": "@jupyter-widgets/controls",
          "model_name": "ProgressStyleModel",
          "state": {
            "_view_name": "StyleView",
            "_model_name": "ProgressStyleModel",
            "description_width": "initial",
            "_view_module": "@jupyter-widgets/base",
            "_model_module_version": "1.5.0",
            "_view_count": null,
            "_view_module_version": "1.2.0",
            "bar_color": null,
            "_model_module": "@jupyter-widgets/controls"
          }
        },
        "6088d2c874db4949b587ea85e0895d5a": {
          "model_module": "@jupyter-widgets/base",
          "model_name": "LayoutModel",
          "state": {
            "_view_name": "LayoutView",
            "grid_template_rows": null,
            "right": null,
            "justify_content": null,
            "_view_module": "@jupyter-widgets/base",
            "overflow": null,
            "_model_module_version": "1.2.0",
            "_view_count": null,
            "flex_flow": null,
            "width": null,
            "min_width": null,
            "border": null,
            "align_items": null,
            "bottom": null,
            "_model_module": "@jupyter-widgets/base",
            "top": null,
            "grid_column": null,
            "overflow_y": null,
            "overflow_x": null,
            "grid_auto_flow": null,
            "grid_area": null,
            "grid_template_columns": null,
            "flex": null,
            "_model_name": "LayoutModel",
            "justify_items": null,
            "grid_row": null,
            "max_height": null,
            "align_content": null,
            "visibility": null,
            "align_self": null,
            "height": null,
            "min_height": null,
            "padding": null,
            "grid_auto_rows": null,
            "grid_gap": null,
            "max_width": null,
            "order": null,
            "_view_module_version": "1.2.0",
            "grid_template_areas": null,
            "object_position": null,
            "object_fit": null,
            "grid_auto_columns": null,
            "margin": null,
            "display": null,
            "left": null
          }
        },
        "0b3ea012151d49148aa3f4a59e991b69": {
          "model_module": "@jupyter-widgets/controls",
          "model_name": "DescriptionStyleModel",
          "state": {
            "_view_name": "StyleView",
            "_model_name": "DescriptionStyleModel",
            "description_width": "",
            "_view_module": "@jupyter-widgets/base",
            "_model_module_version": "1.5.0",
            "_view_count": null,
            "_view_module_version": "1.2.0",
            "_model_module": "@jupyter-widgets/controls"
          }
        },
        "4ff477887c124c2190529d062bee32de": {
          "model_module": "@jupyter-widgets/base",
          "model_name": "LayoutModel",
          "state": {
            "_view_name": "LayoutView",
            "grid_template_rows": null,
            "right": null,
            "justify_content": null,
            "_view_module": "@jupyter-widgets/base",
            "overflow": null,
            "_model_module_version": "1.2.0",
            "_view_count": null,
            "flex_flow": null,
            "width": null,
            "min_width": null,
            "border": null,
            "align_items": null,
            "bottom": null,
            "_model_module": "@jupyter-widgets/base",
            "top": null,
            "grid_column": null,
            "overflow_y": null,
            "overflow_x": null,
            "grid_auto_flow": null,
            "grid_area": null,
            "grid_template_columns": null,
            "flex": null,
            "_model_name": "LayoutModel",
            "justify_items": null,
            "grid_row": null,
            "max_height": null,
            "align_content": null,
            "visibility": null,
            "align_self": null,
            "height": null,
            "min_height": null,
            "padding": null,
            "grid_auto_rows": null,
            "grid_gap": null,
            "max_width": null,
            "order": null,
            "_view_module_version": "1.2.0",
            "grid_template_areas": null,
            "object_position": null,
            "object_fit": null,
            "grid_auto_columns": null,
            "margin": null,
            "display": null,
            "left": null
          }
        }
      }
    }
  },
  "cells": [
    {
      "cell_type": "markdown",
      "metadata": {
        "id": "56IPjIXNyT5o"
      },
      "source": [
        "## **Log Overview**\n",
        "---\n",
        "|                        | Sepsis  | Permit | BPI 2012| BPI 2014 | Traffic |\n",
        "|------------------------|--------:|-------:|--------:|---------:|--------:|\n",
        "| #Traces                | 1050    | 7065   | 13087   | 41353    | 150370  |\n",
        "| Trace Uncertainty      | 96%     | 13%    | 38%     | 93%      |  6%     |\n",
        "| #Events                | 15214   | 86581  | 262200  | 369485   | 561470  |\n",
        "| #Event Sets            | 10767   | 85456  | 248205  | 243186   | 549452  |\n",
        "| Event Uncertainty      | 29%     |  1%    |  5%     | 40%      |  2%     |\n",
        "| #unique events         | 16      | 51     | 24      |  9       | 11      |\n",
        "| #uncertain Seq's       | 15      | 39     | 14      | 24       | 25      |\n",
        "| max(len(unc.seq))      |  4      |  7     |  4      |  4       |  3      |\n",
        "| avg(len(unc.seq))      |  3.0    |  2.7   |  2.4    |  2.6     |  2.0"
      ]
    },
    {
      "cell_type": "markdown",
      "metadata": {
        "id": "YbypGFm8FSdC"
      },
      "source": [
        "### PIP installs and imports\n",
        "---\n"
      ]
    },
    {
      "cell_type": "code",
      "metadata": {
        "id": "tRNbpU6gFIlE",
        "outputId": "20efbc65-a49e-418c-8711-7e86094be302",
        "colab": {
          "base_uri": "https://localhost:8080/",
          "height": 1000
        }
      },
      "source": [
        "!pip install pm4py"
      ],
      "execution_count": null,
      "outputs": [
        {
          "output_type": "stream",
          "text": [
            "Collecting pm4py\n",
            "\u001b[?25l  Downloading https://files.pythonhosted.org/packages/f0/f7/07103799be87ea22174b5d69099597f7afa952457fc870d78198393c11e9/pm4py-1.5.2.3-py3-none-any.whl (691kB)\n",
            "\u001b[K     |████████████████████████████████| 696kB 2.6MB/s \n",
            "\u001b[?25hRequirement already satisfied: numpy in /usr/local/lib/python3.6/dist-packages (from pm4py) (1.18.5)\n",
            "Requirement already satisfied: pandas in /usr/local/lib/python3.6/dist-packages (from pm4py) (1.1.2)\n",
            "Requirement already satisfied: pytz in /usr/local/lib/python3.6/dist-packages (from pm4py) (2018.9)\n",
            "Requirement already satisfied: tqdm in /usr/local/lib/python3.6/dist-packages (from pm4py) (4.41.1)\n",
            "Collecting pm4pycvxopt>=0.0.10; python_version < \"3.8\"\n",
            "  Downloading https://files.pythonhosted.org/packages/02/55/94d4543809dd37de3e49449917d24fd4114316f6e952b32c5705e7f12a3c/pm4pycvxopt-0.0.10-py3-none-any.whl\n",
            "Collecting stringdist\n",
            "  Downloading https://files.pythonhosted.org/packages/85/f0/c56cbe92b4b06fbc7adaa81917ad34d7027834e166fff2d2db73961c67fa/StringDist-1.0.9.tar.gz\n",
            "Requirement already satisfied: lxml in /usr/local/lib/python3.6/dist-packages (from pm4py) (4.2.6)\n",
            "Collecting pyvis\n",
            "  Downloading https://files.pythonhosted.org/packages/77/e1/bee44bc4ec826bb7ed1f1ff52244bca3745b1a7d72033fc84ffeed61725b/pyvis-0.1.8.2-py3-none-any.whl\n",
            "Requirement already satisfied: scipy in /usr/local/lib/python3.6/dist-packages (from pm4py) (1.4.1)\n",
            "Requirement already satisfied: matplotlib in /usr/local/lib/python3.6/dist-packages (from pm4py) (3.2.2)\n",
            "Requirement already satisfied: scikit-learn in /usr/local/lib/python3.6/dist-packages (from pm4py) (0.22.2.post1)\n",
            "Collecting pulp<=2.1\n",
            "\u001b[?25l  Downloading https://files.pythonhosted.org/packages/41/34/757c88c320f80ce602199603afe63aed1e0bc11180b9a9fb6018fb2ce7ef/PuLP-2.1-py3-none-any.whl (40.6MB)\n",
            "\u001b[K     |████████████████████████████████| 40.6MB 101kB/s \n",
            "\u001b[?25hRequirement already satisfied: networkx in /usr/local/lib/python3.6/dist-packages (from pm4py) (2.5)\n",
            "Requirement already satisfied: graphviz in /usr/local/lib/python3.6/dist-packages (from pm4py) (0.10.1)\n",
            "Collecting ciso8601; python_version < \"3.7\"\n",
            "  Downloading https://files.pythonhosted.org/packages/2c/da/626910cf8aca7ed2d5b34355eee8aeaaeb6ddd4e16f98d00a9e2ddad3a08/ciso8601-2.1.3.tar.gz\n",
            "Collecting jsonpickle\n",
            "  Downloading https://files.pythonhosted.org/packages/af/ca/4fee219cc4113a5635e348ad951cf8a2e47fed2e3342312493f5b73d0007/jsonpickle-1.4.1-py2.py3-none-any.whl\n",
            "Requirement already satisfied: intervaltree in /usr/local/lib/python3.6/dist-packages (from pm4py) (2.1.0)\n",
            "Requirement already satisfied: sympy in /usr/local/lib/python3.6/dist-packages (from pm4py) (1.1.1)\n",
            "Collecting deprecation\n",
            "  Downloading https://files.pythonhosted.org/packages/02/c3/253a89ee03fc9b9682f1541728eb66db7db22148cd94f89ab22528cd1e1b/deprecation-2.1.0-py2.py3-none-any.whl\n",
            "Requirement already satisfied: pydotplus in /usr/local/lib/python3.6/dist-packages (from pm4py) (2.0.2)\n",
            "Requirement already satisfied: python-dateutil>=2.7.3 in /usr/local/lib/python3.6/dist-packages (from pandas->pm4py) (2.8.1)\n",
            "Requirement already satisfied: cvxopt in /usr/local/lib/python3.6/dist-packages (from pm4pycvxopt>=0.0.10; python_version < \"3.8\"->pm4py) (1.2.5)\n",
            "Requirement already satisfied: jinja2>=2.9.6 in /usr/local/lib/python3.6/dist-packages (from pyvis->pm4py) (2.11.2)\n",
            "Requirement already satisfied: ipython>=5.3.0 in /usr/local/lib/python3.6/dist-packages (from pyvis->pm4py) (5.5.0)\n",
            "Requirement already satisfied: pyparsing!=2.0.4,!=2.1.2,!=2.1.6,>=2.0.1 in /usr/local/lib/python3.6/dist-packages (from matplotlib->pm4py) (2.4.7)\n",
            "Requirement already satisfied: cycler>=0.10 in /usr/local/lib/python3.6/dist-packages (from matplotlib->pm4py) (0.10.0)\n",
            "Requirement already satisfied: kiwisolver>=1.0.1 in /usr/local/lib/python3.6/dist-packages (from matplotlib->pm4py) (1.2.0)\n",
            "Requirement already satisfied: joblib>=0.11 in /usr/local/lib/python3.6/dist-packages (from scikit-learn->pm4py) (0.16.0)\n",
            "Requirement already satisfied: decorator>=4.3.0 in /usr/local/lib/python3.6/dist-packages (from networkx->pm4py) (4.4.2)\n",
            "Requirement already satisfied: importlib-metadata in /usr/local/lib/python3.6/dist-packages (from jsonpickle->pm4py) (2.0.0)\n",
            "Requirement already satisfied: sortedcontainers in /usr/local/lib/python3.6/dist-packages (from intervaltree->pm4py) (2.2.2)\n",
            "Requirement already satisfied: mpmath>=0.19 in /usr/local/lib/python3.6/dist-packages (from sympy->pm4py) (1.1.0)\n",
            "Requirement already satisfied: packaging in /usr/local/lib/python3.6/dist-packages (from deprecation->pm4py) (20.4)\n",
            "Requirement already satisfied: six>=1.5 in /usr/local/lib/python3.6/dist-packages (from python-dateutil>=2.7.3->pandas->pm4py) (1.15.0)\n",
            "Requirement already satisfied: MarkupSafe>=0.23 in /usr/local/lib/python3.6/dist-packages (from jinja2>=2.9.6->pyvis->pm4py) (1.1.1)\n",
            "Requirement already satisfied: pickleshare in /usr/local/lib/python3.6/dist-packages (from ipython>=5.3.0->pyvis->pm4py) (0.7.5)\n",
            "Requirement already satisfied: setuptools>=18.5 in /usr/local/lib/python3.6/dist-packages (from ipython>=5.3.0->pyvis->pm4py) (50.3.0)\n",
            "Requirement already satisfied: traitlets>=4.2 in /usr/local/lib/python3.6/dist-packages (from ipython>=5.3.0->pyvis->pm4py) (4.3.3)\n",
            "Requirement already satisfied: pygments in /usr/local/lib/python3.6/dist-packages (from ipython>=5.3.0->pyvis->pm4py) (2.6.1)\n",
            "Requirement already satisfied: prompt-toolkit<2.0.0,>=1.0.4 in /usr/local/lib/python3.6/dist-packages (from ipython>=5.3.0->pyvis->pm4py) (1.0.18)\n",
            "Requirement already satisfied: simplegeneric>0.8 in /usr/local/lib/python3.6/dist-packages (from ipython>=5.3.0->pyvis->pm4py) (0.8.1)\n",
            "Requirement already satisfied: pexpect; sys_platform != \"win32\" in /usr/local/lib/python3.6/dist-packages (from ipython>=5.3.0->pyvis->pm4py) (4.8.0)\n",
            "Requirement already satisfied: zipp>=0.5 in /usr/local/lib/python3.6/dist-packages (from importlib-metadata->jsonpickle->pm4py) (3.2.0)\n",
            "Requirement already satisfied: ipython-genutils in /usr/local/lib/python3.6/dist-packages (from traitlets>=4.2->ipython>=5.3.0->pyvis->pm4py) (0.2.0)\n",
            "Requirement already satisfied: wcwidth in /usr/local/lib/python3.6/dist-packages (from prompt-toolkit<2.0.0,>=1.0.4->ipython>=5.3.0->pyvis->pm4py) (0.2.5)\n",
            "Requirement already satisfied: ptyprocess>=0.5 in /usr/local/lib/python3.6/dist-packages (from pexpect; sys_platform != \"win32\"->ipython>=5.3.0->pyvis->pm4py) (0.6.0)\n",
            "Building wheels for collected packages: stringdist, ciso8601\n",
            "  Building wheel for stringdist (setup.py) ... \u001b[?25l\u001b[?25hdone\n",
            "  Created wheel for stringdist: filename=StringDist-1.0.9-cp36-cp36m-linux_x86_64.whl size=24378 sha256=32dbc03a7f1953f3b962d739e3233105f958a5a7a020277a3012dac720caacf8\n",
            "  Stored in directory: /root/.cache/pip/wheels/c3/1b/bb/bf0de4d64d8ca38759811fe3353e441f12feb606fb3d1d2e11\n",
            "  Building wheel for ciso8601 (setup.py) ... \u001b[?25l\u001b[?25hdone\n",
            "  Created wheel for ciso8601: filename=ciso8601-2.1.3-cp36-cp36m-linux_x86_64.whl size=28303 sha256=32a21a421efa29ae5ef988b289ff458db16c44743e1abca4d8d6ef86cc5bc7e0\n",
            "  Stored in directory: /root/.cache/pip/wheels/eb/32/e4/13bdaf7e245f82667b21e0cfb03d21224691a47fa9f9bc80a6\n",
            "Successfully built stringdist ciso8601\n",
            "Installing collected packages: pm4pycvxopt, stringdist, jsonpickle, pyvis, pulp, ciso8601, deprecation, pm4py\n",
            "Successfully installed ciso8601-2.1.3 deprecation-2.1.0 jsonpickle-1.4.1 pm4py-1.5.2.3 pm4pycvxopt-0.0.10 pulp-2.1 pyvis-0.1.8.2 stringdist-1.0.9\n"
          ],
          "name": "stdout"
        }
      ]
    },
    {
      "cell_type": "code",
      "metadata": {
        "id": "sdWOYk7jFCI7"
      },
      "source": [
        "from pm4py.objects.log.importer.xes import factory as xes_import_factory\n",
        "from pm4py.objects.log.importer.xes import importer as xes_importer\n",
        "from pm4py.algo.filtering.log.attributes import attributes_filter\n",
        "from pm4py.algo.filtering.log.timestamp import timestamp_filter\n",
        "import xml.etree.ElementTree as et\n",
        "from pprint import pprint\n",
        "from typing import Tuple \n",
        "import random\n",
        "import pandas as pd\n",
        "import matplotlib.pyplot as plt \n",
        "import matplotlib\n",
        "matplotlib.rc('xtick', labelsize=8)\n",
        "import numpy as np\n",
        "from pathlib import Path\n",
        "from itertools import product, permutations, combinations\n",
        "\n",
        "from sklearn import model_selection\n",
        "import tensorflow as tf\n",
        "import keras"
      ],
      "execution_count": null,
      "outputs": []
    },
    {
      "cell_type": "markdown",
      "metadata": {
        "id": "96SGDIfDwvR3"
      },
      "source": [
        "# **DSS Partial Order Resolution Probabilsitic Models**\n",
        "---\n",
        "---"
      ]
    },
    {
      "cell_type": "code",
      "metadata": {
        "id": "dz4gyd9PxCLS"
      },
      "source": [
        "class FullTraceEquivalenceProbabilisticModel():\n",
        "    \n",
        "    def __init__(self, certain_log):\n",
        "        self.certain_log = certain_log\n",
        "        self.len_certain_log = len(certain_log)\n",
        "        self.trace_frequency = dict()\n",
        "        \n",
        "        self.__get_trace_frequencies()\n",
        "\n",
        "    def __get_trace_frequencies(self):\n",
        "        for trace in self.certain_log:\n",
        "            t = '|'\n",
        "            for event in trace:\n",
        "              t += event[\"concept:name\"] + '|'\n",
        "            self.trace_frequency[t] = self.trace_frequency.get(t, 0) + 1\n",
        "\n",
        "\n",
        "    def P_trace(self, possible_resolution) -> float:\n",
        "      pr = self.format_possible_resolution(possible_resolution)\n",
        "      return self.trace_frequency.get(pr,0) / self.len_certain_log\n",
        "\n",
        "    def format_possible_resolution(self, possible_resolution) -> str:\n",
        "      pr = str()\n",
        "      for event in possible_resolution:\n",
        "        pr += event.rstrip('|')\n",
        "      return pr + '|'\n",
        "\n",
        "\n",
        "class NGramProbabilisticModel():\n",
        "\n",
        "    def __init__(self, log):\n",
        "        self.log = log\n",
        "        self.log_set = self.__make_log_set()\n",
        "\n",
        "        self.certain_sequences = [self.__make_certain_sequences(trace_set) for trace_set in log_set]\n",
        "\n",
        "    def certain(self, activity_sequence: list, trace_set: dict) -> bool:\n",
        "        certain_sequences = self.__make_certain_sequences(trace_set)\n",
        "        for certain_sequence in certain_sequences:\n",
        "            if __activities_in_sequence(activity_sequence, certain_sequence):\n",
        "                return True\n",
        "        return False\n",
        "\n",
        "    def __make_log_set(self) -> list:\n",
        "        log_set = []\n",
        "        for trace in self.log:\n",
        "            log_set.append(self.__make_trace_sets(trace))\n",
        "        return log_set\n",
        "\n",
        "    def __make_trace_sets(self, trace) -> dict:\n",
        "        trace_set = dict()\n",
        "        for event in trace:\n",
        "            trace_set[str(event[\"time:timestamp\"])] = trace_set.get(str(event[\"time:timestamp\"]), []) + [event[\"concept:name\"]]\n",
        "        return trace_set\n",
        "\n",
        "    def __make_certain_sequences(self, trace_set) -> list:\n",
        "        '''\n",
        "        For each uncertain trace we cut out the certain subtraces, e.g. [{1}, {2,3}, {4}, {5}] -> [[1],[4,5]]\n",
        "        And in those we search for an activity sequence to be present\n",
        "        Because for an activity sequence to be certain in a trace it must apper in a certain sequence of a trace\n",
        "        '''\n",
        "        certain_sequences = []\n",
        "        certain_sequence = []\n",
        "        for i, timestamp in enumerate(trace_set):\n",
        "          if len(trace_set[timestamp]) == 1:\n",
        "            if i == len(trace_set)-1:\n",
        "              certain_sequence.append(trace_set[timestamp][0])\n",
        "              certain_sequences.append(certain_sequence)\n",
        "            else:\n",
        "              certain_sequence.append(trace_set[timestamp][0])\n",
        "          else:\n",
        "            if certain_sequence:\n",
        "              certain_sequences.append(certain_sequence)\n",
        "            certain_sequence = []\n",
        "        return certain_sequences \n",
        "\n",
        "    def __activities_in_sequence(self, activity_sequence: list, certain_sequence: list) -> bool:\n",
        "        for i in range(len(certain_sequence) - len(activity_sequence) + 1):\n",
        "            if certain_sequence[i:i+len(activity_sequence)] == activity_sequence:\n",
        "                return True\n",
        "        return False\n",
        "\n",
        "    def P_a_activity_sequence(self, activity: str, activity_sequence: list) -> float:\n",
        "        cnt1 = 0\n",
        "        cnt2 = 0\n",
        "        for trace_set in self.log_set:\n",
        "            if certain(activity_sequence, trace_set):\n",
        "                cnt2 += 1\n",
        "            if certain(activity_sequence + [activity], trace_set):\n",
        "                cnt1 += 1\n",
        "        if cnt2 == 0: \n",
        "          return cnt1\n",
        "        return cnt1/cnt2\n",
        "\n",
        "    def P_n_gram(self, possible_resolution: list, n: int=2):\n",
        "        #possible_resolution like [a, b, c]\n",
        "        lower_bound = 1         #2 in the paper, but indexing here starts one before\n",
        "        upper_bound = len(possible_resolution)\n",
        "        result = 1.0\n",
        "        for i in range(lower_bound,upper_bound):\n",
        "            s_index = max(i-n+1, 0)         #the gram is not n long in the beginning, its 2 long, then 3, ... until it's always n long\n",
        "            result *= self.__P_a_activitiy_sequence(possible_resolution[i], s_index)\n",
        "        return result\n",
        "\n",
        "\n",
        "class BinaryRelationsProbabilisticModel():\n",
        "\n",
        "    def __init__(self, log):\n",
        "        self.log = log\n",
        "        self.log_set = self.__make_log_set()\n",
        "\n",
        "    def order(self, a: str, b: str, trace_set) -> bool:\n",
        "        trace_list = [event_set for timestamp, event_set in trace_set.items()]\n",
        "        for i in range(len(trace_list)-1):\n",
        "            if a in trace_list[i]:\n",
        "                for j in range(i+1, len(trace_list)):\n",
        "                    if b in trace_list[j]:\n",
        "                        return True\n",
        "        return False\n",
        "\n",
        "    def contains_activities(self, a: str, b: str, trace_set) -> bool:\n",
        "        activities = [event for timestamp, event_set in log_set[6].items() for event in event_set]\n",
        "        return (a in activities and b in activities)\n",
        "\n",
        "    def __make_log_set(self) -> list:\n",
        "        log_set = []\n",
        "        for trace in self.log:\n",
        "            log_set.append(self.__make_trace_sets(trace))\n",
        "        return log_set\n",
        "\n",
        "    def __make_trace_sets(self, trace) -> dict:\n",
        "        trace_set = dict()\n",
        "        for event in trace:\n",
        "            trace_set[str(event[\"time:timestamp\"])] = trace_set.get(str(event[\"time:timestamp\"]), []) + [event[\"concept:name\"]]\n",
        "        return trace_set\n",
        "\n",
        "    def P_a_b(self, a:str, b:str) -> float:\n",
        "        cnt1 = 0\n",
        "        cnt2 = 0\n",
        "        for trace_set in self.log_set:\n",
        "            if contains_activities(a, b, trace_set):\n",
        "                cnt2 += 1\n",
        "                if order(a, b, trace_set):\n",
        "                    cnt1 += 1\n",
        "        if cnt2 == 0:\n",
        "            return cnt1\n",
        "        return cnt1 / cnt2\n",
        "\n",
        "    def P_weak_order(self, possible_resolution: list) -> float:\n",
        "        result = 1.0\n",
        "        for i in range(len(possible_resolution)-1):\n",
        "            for j in range(i+1, len(possible_resolution)):\n",
        "                result *= self.P_a_b(possible_resolution[i], possible_resolution[j])\n",
        "        return result"
      ],
      "execution_count": null,
      "outputs": []
    },
    {
      "cell_type": "markdown",
      "metadata": {
        "id": "r45E5jm5sh7d"
      },
      "source": [
        "# **Functions for working with logs**\n",
        "---\n",
        "---"
      ]
    },
    {
      "cell_type": "markdown",
      "metadata": {
        "id": "CJ0g22UAwxfS"
      },
      "source": [
        "### functions for manipulating or extracting data from the log, cases or events\n",
        "---"
      ]
    },
    {
      "cell_type": "code",
      "metadata": {
        "id": "Lz1wOvSTEyT8"
      },
      "source": [
        "#checks if a case is certain, gets called by split log\n",
        "def case_is_certain(case_time_list):\n",
        "    #doesnt take into account \n",
        "    for i in range(0, len(case_time_list)-1):\n",
        "        if case_time_list[i] == case_time_list[i+1]:\n",
        "            return False\n",
        "    return True\n",
        "\n",
        "#splits a log in two logs, the one holding only totally ordered traces and the one holding only partially ordered traces\n",
        "def split_log(log):\n",
        "    certain_log = list()\n",
        "    uncertain_log = list()\n",
        "    for case in log:\n",
        "        times = list()\n",
        "        for event in case:\n",
        "            times.append(event[\"time:timestamp\"])\n",
        "        if case_is_certain(times):\n",
        "            certain_log.append(case)\n",
        "        else:\n",
        "            uncertain_log.append(case)\n",
        "    return certain_log, uncertain_log\n",
        "\n",
        "#gets a list of the unique events as strings\n",
        "def get_events(log):\n",
        "    activities = attributes_filter.get_attribute_values(log, \"concept:name\")\n",
        "    all_events = list(activities.keys())\n",
        "    return all_events\n",
        "\n",
        "#wraps the singular events to match the uncertain event sets; for readability purposes only\n",
        "def beautify_events(all_singular_events):\n",
        "  beautified_events = []\n",
        "  for event in all_singular_events:\n",
        "    event = '|' + event + '|'\n",
        "    beautified_events.append(event)\n",
        "  return beautified_events\n",
        "\n",
        "#returns a list of the events the trace at log[index]\n",
        "def get_trace(log, index):\n",
        "    if index > len(log)-1:\n",
        "        print(\"Error: index out of range.\")\n",
        "    else:\n",
        "        trace = [event[\"concept:name\"] for event in log[index]]\n",
        "        return trace\n",
        "\n",
        "#returns a list of lists, each containing the events from the traces of the given log\n",
        "def get_traces(log):\n",
        "    trace_list = list()\n",
        "    for i in range(len(log)): \n",
        "        trace_list.append(get_trace(log, i))\n",
        "            \n",
        "    return trace_list\n",
        "\n",
        "#returns a list of dicts  for each trace, the keys for a trace are the timestamps holding all events occuring at that time for a specific trace (sorted)\n",
        "#only works for certain log\n",
        "def make_log_set(log, sort=True) -> list:\n",
        "  log_set = []\n",
        "  for trace in log:\n",
        "    log_set.append(make_trace_sets(trace, sort))\n",
        "  return log_set\n",
        "\n",
        "def make_trace_sets(trace, sort=True) -> dict:\n",
        "  trace_set = dict()\n",
        "  for event in trace:\n",
        "    trace_set[str(event[\"time:timestamp\"])] = trace_set.get(str(event[\"time:timestamp\"]), []) + [event[\"concept:name\"]]\n",
        "  if sort:\n",
        "    for key in trace_set:\n",
        "      trace_set[key].sort()\n",
        "  return trace_set\n",
        "\n",
        "#gets the occuring uncertain sequences in the log as a set of tuples (=event sets) \n",
        "def get_uncertain_sequences(uncertain_log) -> set:\n",
        "    uncertain_sequences = set()\n",
        "    for i in range(0, len(uncertain_log)):\n",
        "        j = 0\n",
        "        while j < len(uncertain_log[i])-1:\n",
        "            sequence = list()\n",
        "            if uncertain_log[i][j][\"time:timestamp\"] == uncertain_log[i][j+1][\"time:timestamp\"]:\n",
        "                time = uncertain_log[i][j][\"time:timestamp\"] \n",
        "                while j < len(uncertain_log[i]) and time == uncertain_log[i][j][\"time:timestamp\"]:\n",
        "                    sequence.append(uncertain_log[i][j][\"concept:name\"])\n",
        "                    j += 1\n",
        "            else:\n",
        "                j += 1    \n",
        "            if sequence:\n",
        "                uncertain_sequences.add(tuple(sorted(sequence)))\n",
        "    return uncertain_sequences\n",
        "\n",
        "#turns the uncertain sequence (set of tuple) into a list of concatenated strings of the uncertain sequences\n",
        "#so they can be used as features / categories for encoding\n",
        "def make_list_uncertain_sequences(uncertain_sequences):\n",
        "    list_uncertain_events = list()\n",
        "    for tup in uncertain_sequences:\n",
        "        event = str()\n",
        "        for element in tup:\n",
        "            event = event + '|' + element\n",
        "        event += '|'\n",
        "        list_uncertain_events.append(event)\n",
        "    return list_uncertain_events\n",
        "\n",
        "#turns a log, where concurrent events are in sets, into a list (=log) of lists(=traces), were concurrent events are concatenated\n",
        "#so the log / traces can be encoded\n",
        "def concat_trace_sets(set_log) -> list:\n",
        "    input_list = list()\n",
        "    for trace in set_log:\n",
        "        trace_list = list()\n",
        "        for key in trace:\n",
        "            event = str()\n",
        "            for e in trace[key]:\n",
        "                event = event + '|' + e\n",
        "            event += '|'\n",
        "            trace_list.append(event)\n",
        "        input_list.append(trace_list)\n",
        "    return input_list\n",
        "\n",
        "#builds all sequences of length 1 to k from the activity universe using itertools product\n",
        "def product_up_to_k(singular_events: list, k: int) -> list:\n",
        "  products = []\n",
        "  for i in range(1,k+1):\n",
        "    products += itertools_tuples_to_list(list(product(singular_events, repeat=i)), i)\n",
        "  \n",
        "  return products\n",
        "\n",
        "#extract those from the possible resolutions that are double, e.g. for {a,b,a} there would be 2x 'aab', which is only needed once, right?\n",
        "def make_possible_resolutions(uncertain_events_tuples):\n",
        "  possible_resolutions = list()\n",
        "  for tup in uncertain_events_tuples:\n",
        "    for p in permutations(tup):\n",
        "      word = '|'.join(p)\n",
        "      word = '|' + word + '|'          \n",
        "      if word not in possible_resolutions:\n",
        "        possible_resolutions.append(word)\n",
        "  return possible_resolutions"
      ],
      "execution_count": null,
      "outputs": []
    },
    {
      "cell_type": "markdown",
      "metadata": {
        "id": "X5UgwtjUwJwc"
      },
      "source": [
        "### printing functions\n",
        "---"
      ]
    },
    {
      "cell_type": "code",
      "metadata": {
        "id": "cNAtxqKNwhvO"
      },
      "source": [
        "#prints the trace at index = num\n",
        "def print_trace(log, num):\n",
        "  if num > len(log) - 1:\n",
        "    print(\"Error: index out of range.\")\n",
        "  else:\n",
        "    case = log[num]\n",
        "    print(\"\\n case id: %s\" % (log[num].attributes[\"concept:name\"]))\n",
        "    for event_index, event in enumerate(log[num]):\n",
        "        a = \"event index: \" + str(event_index)\n",
        "        b = \"event activity: \" + str(event[\"concept:name\"])\n",
        "        c = \"time: \" + str(event[\"time:timestamp\"])\n",
        "        print('{:20s}{:60s}{:20s}'.format(a,b,c))\n",
        "\n",
        "#prints all cases up to the given number\n",
        "def print_traces(log, num_traces):\n",
        "    if(num_traces > len(log)):\n",
        "        print(\"You want to print more traces then there are in the log!\")\n",
        "    else:\n",
        "        for i in range(num_traces):\n",
        "            print_trace(log, i)\n",
        "\n",
        "# compute the fraction from where the order in the log differs from the alphabetically sorted order (for uncertain events only)\n",
        "def print_event_information(concat_log: list, concat_log_unsorted: list):\n",
        "  events = 0\n",
        "  unc_events = 0\n",
        "  cnt = 0\n",
        "  for i in range(len(concat_log)):\n",
        "    for j in range(len(concat_log[i])):\n",
        "      events += 1\n",
        "      if concat_log[i][j] in uncertain_events:\n",
        "        unc_events +=1\n",
        "        if concat_log[i][j] != concat_log_unsorted[i][j]:\n",
        "          cnt += 1\n",
        "  print(\"Number of events\", events)\n",
        "  print(\"Uncertainty of events:\", unc_events/events)\n",
        "  print(\"Number of uncertain events:\", unc_events, \"Count of uncertain events that are not in alphabetical order in the log\", cnt)\n",
        "  print(\"Fraction of uncertain events that are (not) in alphabetical order in the log:\", 1-cnt/unc_events, \"(\",cnt/unc_events, \")\")"
      ],
      "execution_count": null,
      "outputs": []
    },
    {
      "cell_type": "markdown",
      "metadata": {
        "id": "rd7YpZEe1r9a"
      },
      "source": [
        "### numerical functions\n",
        "---\n",
        "for getting statistical (avg, mean, ...) and numerical data (number of events, frequency of events)"
      ]
    },
    {
      "cell_type": "code",
      "metadata": {
        "id": "yf9w5E2y17oj"
      },
      "source": [
        "def avg_trace_length(log):\n",
        "    avg = 0\n",
        "    for trace in log:\n",
        "        avg += len(trace)\n",
        "    return round(avg / len(log),2)\n",
        "\n",
        "def min_trace_length(log):\n",
        "    min = 10000\n",
        "    for trace in log:\n",
        "        if len(trace) < min:\n",
        "            min = len(trace)\n",
        "    return min\n",
        "\n",
        "def max_trace_length(log):\n",
        "    max = 0\n",
        "    for trace in log:\n",
        "        if len(trace) >= max:\n",
        "            max = len(trace)\n",
        "    return max\n",
        "\n",
        "#returns the amount of events in the log \n",
        "def num_events(log):\n",
        "    num_events = 0 \n",
        "    for trace in log:\n",
        "        #num_events += len(trace)\n",
        "        for event in trace:\n",
        "          num_events += 1\n",
        "    return num_events\n",
        "\n",
        "# returns for each single event its frequency in the log\n",
        "def freq_of_events(log):\n",
        "    unique_events = get_events(log)\n",
        "    frequency_of_events = dict()\n",
        "    for event in unique_events:\n",
        "        frequency_of_events[event] = 0\n",
        "    for trace in log:\n",
        "        for event in trace:\n",
        "            frequency_of_events[event[\"concept:name\"]] += 1\n",
        "\n",
        "    return frequency_of_events\n",
        "\n",
        "#gets for the occuring uncertain sequences the amount of times they come up in the (uncertain) log, as a dict data structure\n",
        "def freq_uncertain_sequences(set_log, uncertain_sequences):\n",
        "    num_uncertain_sequences = dict()\n",
        "    for trace in set_log:\n",
        "        for key in trace:\n",
        "            if len(trace[key]) > 1:\n",
        "                if tuple(trace[key]) not in num_uncertain_sequences:\n",
        "                    num_uncertain_sequences[tuple(trace[key])] = 1\n",
        "                else:\n",
        "                    num_uncertain_sequences[tuple(trace[key])] += 1\n",
        "\n",
        "    return num_uncertain_sequences"
      ],
      "execution_count": null,
      "outputs": []
    },
    {
      "cell_type": "markdown",
      "metadata": {
        "id": "3qcgPUplVsGM"
      },
      "source": [
        "### visualization functions\n",
        "---\n",
        "fdata knowledge, drawing histograms, ..."
      ]
    },
    {
      "cell_type": "code",
      "metadata": {
        "id": "jNylf_4pWC46"
      },
      "source": [
        "#lots of names inside not defined, e.g. log_avg or log_min, ...\n",
        "def visualize_log(log):\n",
        "    NUM_TRACES = len(log)\n",
        "    color_log, color_certain, color_uncertain = 'tab:blue', 'darkseagreen', 'sandybrown'\n",
        "    #visualize basic log information\n",
        "\n",
        "    fig, ax = plt.subplots(1,2)\n",
        "    #certain and uncertain log length as pie chart\n",
        "    def func(pct, allvals):\n",
        "        absolute = int(pct/100.*np.sum(allvals))\n",
        "        return \"{:.1f}%\\n({:d} Traces)\".format(pct, absolute)\n",
        "\n",
        "    labels = ['Certain Part', 'Uncertain Part']\n",
        "    sizes = [len(certain_log)/NUM_TRACES*100, len(uncertain_log)/NUM_TRACES*100]\n",
        "    wedges, texts, autotexts = ax[0].pie(sizes, startangle=90, colors = [color_certain, color_uncertain], \n",
        "\n",
        "                                            autopct=lambda pct: func(pct, [len(certain_log), len(uncertain_log)]), textprops=dict(color=\"k\"))\n",
        "    ax[0].set_title('Traces of the Log that are Certain, Uncertain Respectively')\n",
        "\n",
        "    #measures for trace length\n",
        "    X1 = ['avg', 'min', 'max', 'c_avg', 'c_min', 'c_max', 'u_avg', 'u_min', 'u_max'] \n",
        "    y1 = [log_avg, log_min, log_max, certain_avg, certain_min, certain_max, uncertain_avg, uncertain_min, uncertain_max]\n",
        "    r2 = ax[1].bar(X1, y1, color=[color_log, color_log, color_log, color_certain, color_certain, color_certain, color_uncertain, color_uncertain, color_uncertain])\n",
        "    ax[1].set_title('Trace Length Measures in the whole, certain and uncertain Log')\n",
        "    ax[1].set_ylabel('Number of Events')\n",
        "\n",
        "    #frequency of each even in the log\n",
        "    fig1, ax1 = plt.subplots(3,1)\n",
        "    ax1[0].bar(range(len(frequency_of_events_log)), frequency_of_events_log.values(), align='center')\n",
        "    ax1[0].set_title('Log')\n",
        "    ax1[0].set_ylabel('Amount of Occurance')\n",
        "    ax1[1].bar(range(len(frequency_of_events_certain)), frequency_of_events_certain.values(), align='center')\n",
        "    ax1[1].set_title('Certain Log')\n",
        "    ax1[1].set_ylabel('Amount of Occurance')\n",
        "    ax1[2].bar(range(len(frequency_of_events_uncertain)), frequency_of_events_uncertain.values(), align='center')\n",
        "    ax1[2].set_title('Uncertain Log')\n",
        "    ax1[2].set_ylabel('Amount of Occurance')\n",
        "    fig1.suptitle('Frequency of Events in the whole, certain and uncertain log', fontsize=20)\n",
        "    plt.setp(ax1, xticks=[i for i in range(len(all_events))], xticklabels = list(frequency_of_events_log.keys()))\n",
        "\n",
        "    # visualize uncertain trace frequency\n",
        "    X = list()\n",
        "    y = list()\n",
        "    for key in num_uncertain_sequences:\n",
        "        s = ''\n",
        "        for event in key:\n",
        "            s += event[:2]\n",
        "        X.append(s)\n",
        "        y.append(num_uncertain_sequences[key])\n",
        "\n",
        "    fig2, ax2 = plt.subplots()    \n",
        "    ax2.bar(X,y)\n",
        "    ax2.set_title('Uncertain Set Frequency')\n",
        "    ax2.set_xlabel('Uncertain Trace Set')\n",
        "    ax2.set_ylabel('Frequency in the Log')\n",
        "\n",
        "\n",
        "    plt.show()"
      ],
      "execution_count": null,
      "outputs": []
    },
    {
      "cell_type": "markdown",
      "metadata": {
        "id": "lRb2yb8r8XXX"
      },
      "source": [
        "# **Abstracting timestamps functions**\n",
        "---\n",
        "---"
      ]
    },
    {
      "cell_type": "code",
      "metadata": {
        "id": "0E0Ga5zx8WRG"
      },
      "source": [
        "import datetime\n",
        "\n",
        "#we could also elongate the uncertain sequence, by making 1 more timestamps before/after the unc.seq. \n",
        "# the same as the timestamp in the uncertain sequence\n",
        "\n",
        "\n",
        "def abstract_microsecond(timestamp: datetime.datetime):\n",
        "  return timestamp.replace(microsecond=0)\n",
        "\n",
        "def abstract_second(timestamp: datetime.datetime):\n",
        "  return timestamp.replace(second=0, microsecond=0)\n",
        "\n",
        "def abstract_minute(timestamp: datetime.datetime):\n",
        "  return timestamp.replace(minute=0, second=0, microsecond=0)\n",
        "\n",
        "def abstract_hour(timestamp: datetime.datetime):\n",
        "  return timestamp.replace(hour=0, minute=0, second=0, microsecond=0)\n",
        "\n",
        "def abstract_day(timestamp: datetime.datetime):\n",
        "  return timestamp.replace(day=1, hour=0, minute=0, second=0, microsecond=0)\n",
        "\n",
        "def abstract_month(timestamp: datetime.datetime):\n",
        "  return timestamp.replace(month=1, day=1, hour=0, minute=0, second=0, microsecond=0)\n",
        "\n",
        "def abstract_year(timestamp: datetime.datetime):\n",
        "  return timestamp.replace(year=1993, month=1, day=1, hour=0, minute=0, second=0, microsecond=0)\n",
        "\n",
        "def copy_timestamp(timestamp: datetime.datetime):\n",
        "  return timestamp.replace()\n",
        "\n",
        "\n",
        "#add functions for abstracting times per event, trace or log "
      ],
      "execution_count": null,
      "outputs": []
    },
    {
      "cell_type": "markdown",
      "metadata": {
        "id": "iZaxz82zrmbo"
      },
      "source": [
        "# **Encoder Classes** \n",
        "---\n",
        "---\n",
        "we consider two different approaches of encoding"
      ]
    },
    {
      "cell_type": "markdown",
      "metadata": {
        "id": "NqkOoYIsw8ER"
      },
      "source": [
        "### **1.1 Encoder Class**\n",
        "---\n",
        "\n",
        "encodes lists of traces in either \n",
        " *   one-hot-encoding \n",
        " *   embed-encoding "
      ]
    },
    {
      "cell_type": "code",
      "metadata": {
        "id": "M5zPFzxEpWQm"
      },
      "source": [
        "class BasicEncoder():\n",
        "\n",
        "    def __init__(self, activity_list, num_oov_buckets, embedding_dim=None):\n",
        "        self.activities = activity_list\n",
        "        self.num_oov_buckets = num_oov_buckets\n",
        "\n",
        "        self.all_subsets_or_subsequences #the second encoder will rather get the normal single events/all possibble resolutions and compute the table in here while also\n",
        "\n",
        "        self.indices = tf.range(len(self.activities), dtype=tf.int64)\n",
        "        self.table_init = tf.lookup.KeyValueTensorInitializer(self.activities, self.indices)\n",
        "        self.table = tf.lookup.StaticVocabularyTable(self.table_init, self.num_oov_buckets)\n",
        "\n",
        "        #only needed for embeddings\n",
        "        if embedding_dim:\n",
        "            embed_init = tf.random.uniform([len(self.activities)+self.num_oov_buckets, embedding_dim])\n",
        "            self.embedding_matrix = tf.Variable(embed_init)\n",
        "\n",
        "    def lookup_indices(self, trace):\n",
        "        categories = tf.constant(trace)\n",
        "        cat_indices = self.table.lookup(categories)\n",
        "        return cat_indices\n",
        "\n",
        "    def one_hot_encode_trace(self, trace): #trace is a list of strings, where each string = one of the possible event as in self.activities\n",
        "        cat_indices = self.lookup_indices(trace)\n",
        "        cat_one_hot = tf.one_hot(cat_indices, depth=len(self.activities) + self.num_oov_buckets)\n",
        "        return cat_one_hot\n",
        "\n",
        "    def one_hot_encode_log(self, log):\n",
        "        #log is not in the format as when loaded with pm4py, but rather a list(=log) of lists(=traces) containing the activities as strings\n",
        "        encoded_inputs = []\n",
        "        for trace in log:\n",
        "            encoded_inputs.append(self.one_hot_encode_trace(trace))\n",
        "        \n",
        "        return encoded_inputs\n",
        "\n",
        "    def embed_encode_trace(self, trace): #trace is a list of strings, where each string = one of the possible event as in self.activities\n",
        "        cat_indices = self.lookup_indices(trace)\n",
        "        cat_embed = tf.nn.embedding_lookup(self.embedding_matrix, cat_indices)\n",
        "        return cat_embed\n",
        "\n",
        "    def embed_encode_log(self, log):\n",
        "      #log is not in the format as when loaded with pm4py, but rather a list(=log) of lists(=traces) containing the activities as strings\n",
        "        encoded_inputs = []\n",
        "        for trace in log:\n",
        "            encoded_inputs.append(self.embed_encode_trace(trace))\n",
        "        \n",
        "        return encoded_inputs\n",
        "\n",
        "    def print_indice(self, activity: str):\n",
        "      tf.print(self.table.lookup(tf.constant(activity)))"
      ],
      "execution_count": null,
      "outputs": []
    },
    {
      "cell_type": "markdown",
      "metadata": {
        "id": "vKHWkBsKxI_F"
      },
      "source": [
        "### **1.2 Encoder Class**\n",
        "---\n",
        "\n",
        "1.2 encodes a lists of traces, such that for an event set, say {v,w,x}\n",
        " * in the encoding all subsequences of that event set are _marked_ with a 1, so in this case we would mark \n",
        "  * v, w, x \n",
        "  * vw, vx, wv, wx, xv, xw \n",
        "  * vwx, vxw, wvx, wxv, xvw, xwv \n",
        "\n",
        "* then we sum up all possiblities that make a logical outcome ? \n",
        "* is v + wx different then v + w + x or vwx ?  "
      ]
    },
    {
      "cell_type": "code",
      "metadata": {
        "id": "CcxICEdixMox"
      },
      "source": [
        "class SubEncoder():\n",
        "  #in init make the list of subsets/sequences in class and also btw the look up table for encoding \n",
        "  def __init__(self, activity_list, num_oov_buckets, mode: str):\n",
        "    self.activities = activity_list\n",
        "    self.num_oov_buckets = num_oov_buckets\n",
        "    self.mode = mode\n",
        "\n",
        "    self.indices = tf.range(len(self.activities), dtype=tf.int64)\n",
        "    self.table_init = tf.lookup.KeyValueTensorInitializer(self.activities, self.indices)\n",
        "    self.table = tf.lookup.StaticVocabularyTable(self.table_init, self.num_oov_buckets)\n",
        "\n",
        "    self.subset_table = {}\n",
        "    self.subsequence_table = {}\n",
        "\n",
        "  def lookup_indices(self, event_set):\n",
        "    categories = tf.constant(event_set)         #converting this into tensor data structure\n",
        "    cat_indices = self.table.lookup(categories)  #get the indices in lookup table for the subsets buildable from the input event set\n",
        "    return cat_indices\n",
        "\n",
        "  def sub_encode_event_set(self, event_set):\n",
        "    if self.mode == 'i':\n",
        "      all_subs = self.make_subsets(event_set) \n",
        "    elif self.mode == 'o':\n",
        "      all_subs = self.make_subsequences(event_set)\n",
        "    else:\n",
        "      print('Wrong mode entered:', self.mode, 'Choose between i or o.')\n",
        "\n",
        "    cat_indices = self.lookup_indices(all_subs)                                                             #make all subseqs of event set, e.g. {a,b} -> [a, b, ab, ba] #OPEN how to handle double elements like {a,b,a}                                              \n",
        "    subs_list =  [t for t in tf.one_hot(cat_indices, depth=len(self.activities) + self.num_oov_buckets)]    #one hot encode each indices and make it a list of tensors e.g [<100>,<001>]\n",
        "    return tf.math.add_n(subs_list)                                                                         #to finally sum up the tensor for getting one tensor with all the 1's, e.g <101>\n",
        "\n",
        "  def sub_encode_trace(self, trace):\n",
        "    encoded_trace = []\n",
        "    for event_set in trace:\n",
        "      encoded_trace.append(self.sub_encode_event_set(event_set))\n",
        "    return encoded_trace\n",
        "\n",
        "  def sub_encode_log(self, log):  \n",
        "    encoded_log = []\n",
        "    for trace in log:\n",
        "      encoded_log.append(self.sub_encode_trace(trace))\n",
        "    return encoded_log\n",
        "\n",
        "  #HELPER FUNCTIONS\n",
        " \n",
        "  #brakes down an event set in all possible singular events\n",
        "  #gets a list of events (used to be part of a uncertain event set) and builds all possible combinations for encoding in encoder class\n",
        "  def make_subsets (self, event_set: str, separizer: str='|'):\n",
        "    single_events = ['|' + single_event + '|' for single_event in event_set[1:-1].split(separizer)]\n",
        "    all_subsets= []\n",
        "    for i in range(1,len(single_events)+1):\n",
        "      all_subsets += itertools_tuples_to_list( list(combinations(single_events, i)), i)\n",
        "\n",
        "    return all_subsets\n",
        "  \n",
        "  #for a given subsequence omit all subsequence keeping the order!\n",
        "  def make_subsequences (self, event_set:str, separizer: str='|'):\n",
        "    all_subsequences = [event_set] + ['|' + single_event + '|' for single_event in event_set[1:-1].split(separizer)] #add subseqeuences of length 1 and the starting sequence\n",
        "    length = len([x for x in event_set.split('|')])-2\n",
        "\n",
        "    for i in range(2,length):                                   #get all subsets of length >=2 for the current possible resolution \n",
        "        left, right = '|'+event_set.split('|',i)[i], event_set.rsplit('|',i)[0]+'|'\n",
        "        if left not in all_subsequences:\n",
        "            all_subsequences.append(left)\n",
        "        if right not in all_subsequences:\n",
        "            all_subsequences.append(right)\n",
        "\n",
        "    return all_subsequences"
      ],
      "execution_count": null,
      "outputs": []
    },
    {
      "cell_type": "markdown",
      "metadata": {
        "id": "QuB4e0InT5D2"
      },
      "source": [
        "# **Helper Functions**\n",
        "---\n",
        "---"
      ]
    },
    {
      "cell_type": "code",
      "metadata": {
        "id": "Ubj9BUdKT2kR"
      },
      "source": [
        "#using itertools product or permutations returns a list of tuples\n",
        "#this converts it the string representation of events, we work with here\n",
        "def itertools_tuples_to_list(tupleList: list, k: int) -> list:\n",
        "  result = []\n",
        "  for tup in tupleList:\n",
        "    possible_resolution = '|'\n",
        "    for i in range(0,k):\n",
        "      possible_resolution += tup[i].lstrip('|')\n",
        "    if possible_resolution not in result:          # or len(tup)==1:\n",
        "      result.append(possible_resolution)\n",
        "  return result"
      ],
      "execution_count": null,
      "outputs": []
    },
    {
      "cell_type": "markdown",
      "metadata": {
        "id": "sYcXI_W_NR_q"
      },
      "source": [
        "# **Data Preprocessing**\n",
        "---\n",
        "---"
      ]
    },
    {
      "cell_type": "code",
      "metadata": {
        "id": "JoV2imK6Nd10"
      },
      "source": [
        "# function for splitting data randomly into test and train data\n",
        "def split_train_test(input_data, target_data, train_ratio=0.8) -> Tuple[list, list, list, list]:\n",
        "  if type(input_data) == type(list()):\n",
        "    train_size = int(len(input_data) * train_ratio)\n",
        "    indices = [i for i in range(len(input_data))]\n",
        "    random.shuffle(indices)\n",
        "    train_indices = indices[:train_size]\n",
        "    test_indices = indices[train_size:]\n",
        "\n",
        "    X_train_full, X_test, y_train_full, y_test = [], [], [], []\n",
        "    for index in train_indices:\n",
        "      X_train_full.append(input_data[index])\n",
        "      y_train_full.append(target_data[index])\n",
        "\n",
        "    for index in test_indices:\n",
        "      X_test.append(input_data[index])\n",
        "      y_test.append(target_data[index])\n",
        "\n",
        "    return X_train_full, X_test, y_train_full, y_test\n",
        "  else:\n",
        "    print(\"Type\", type(input_data), \"not supported yet.\")\n",
        "    "
      ],
      "execution_count": null,
      "outputs": []
    },
    {
      "cell_type": "markdown",
      "metadata": {
        "id": "92EKaN7_r0bl"
      },
      "source": [
        "# **Testing Area**\n",
        "---\n",
        "---\n",
        "\n",
        "\n"
      ]
    },
    {
      "cell_type": "markdown",
      "metadata": {
        "id": "UWrhHSHvXXos"
      },
      "source": [
        "### loading the logs \n",
        "---"
      ]
    },
    {
      "cell_type": "code",
      "metadata": {
        "id": "ANIEnGY8GRo4",
        "outputId": "0e63a23c-a386-4516-d110-aafb14fa3789",
        "colab": {
          "base_uri": "https://localhost:8080/",
          "height": 264,
          "referenced_widgets": [
            "e817b455451442478a77be5e1be1ef49",
            "ecce35ecb2484d2abdedf5cc06f091f4",
            "01e39c190d8840539596a3c20c79c940",
            "a0df608263ea45f183a85209a82bc85d",
            "b492671cc9ef48ee9aef6952ee732701",
            "60cff711b682467ba3184afaec82e863",
            "023cc7b894f84b2abc5495d8813aa223",
            "57bedac405814d6bb9385ac69f61e33a",
            "2b9e3f5f0884428199962b3c9bd4875e",
            "67ce6f7aaf5c4714b6b7f204267729f0",
            "c906acb39015428695b2e1599dd0414d",
            "b4c9d6c2c754413ba2289a2af6c1c88a",
            "a3ca9bb0fbc04819b1c7d68ffabeb5c8",
            "806f8063e98c4b6490447bc6f41f38cc",
            "142a0b82cb3942768fcc6eb7d006404f",
            "9f1147b6386d4c5c94cf48d3f4278e6e",
            "1830be9c60e941b2b261e5c48ba7c8a9",
            "b9d1f246c77849708945a00cb3d8e6ac",
            "c99857b89eb84b279e26f299e7a97be0",
            "4496b024a97f429ea284d36f8af43a40",
            "a1dab2de94564a71b2511a24efaa38e2",
            "f06757a266114f42b499066451faddce",
            "8530e2f82a334593a84272a7dae6d8db",
            "4c031f54126d47edbec9e423bbf388ab",
            "fa9099b2e58c48b8aedaad941b6b68b0",
            "122520c458e54620b64dadcdc165e87b",
            "2e85fdec34f04e8a9eeda2796c001565",
            "71cdeb0d71e14584b11033def7ea6ad6",
            "c6113f3a2a6648cc8653cf86502870fc",
            "6b0996065a414c53b6ee133357d3a30f",
            "052ff29f8b554047bfd5d43e283e37de",
            "d6eb30a82f9a4e94a62f11a4a10fe10c",
            "50018412902f4fc391dd2488a4490195",
            "2fa6b38e24f44c9ca47e9f35ad137ca8",
            "0bda795aca194391ad7b075246234d15",
            "d9042ceb806545daa47e07f371cb2fb4",
            "52de01163094433bb33c1702359d02ee",
            "6088d2c874db4949b587ea85e0895d5a",
            "0b3ea012151d49148aa3f4a59e991b69",
            "4ff477887c124c2190529d062bee32de"
          ]
        }
      },
      "source": [
        "sepsis_log = xes_importer.apply(\"/content/drive/My Drive/Colab Notebooks/logs/Sepsis_Cases_Event_Log.xes\")\n",
        "permit_log = xes_importer.apply(\"/content/drive/My Drive/Colab Notebooks/logs/PermitLog.xes\")\n",
        "b12_log = xes_importer.apply(\"/content/drive/My Drive/Colab Notebooks/logs/BPI_Challenge_2012.xes\")\n",
        "b14_log = xes_importer.apply(\"/content/drive/My Drive/Colab Notebooks/logs/BPI_Challenge_2014.xes\")\n",
        "traffic_log = xes_importer.apply(\"/content/drive/My Drive/Colab Notebooks/logs/traffic_fines.xes\")"
      ],
      "execution_count": null,
      "outputs": [
        {
          "output_type": "display_data",
          "data": {
            "application/vnd.jupyter.widget-view+json": {
              "model_id": "e817b455451442478a77be5e1be1ef49",
              "version_minor": 0,
              "version_major": 2
            },
            "text/plain": [
              "HBox(children=(FloatProgress(value=0.0, description='parsing log, completed traces :: ', max=1050.0, style=Pro…"
            ]
          },
          "metadata": {
            "tags": []
          }
        },
        {
          "output_type": "stream",
          "text": [
            "\n"
          ],
          "name": "stdout"
        },
        {
          "output_type": "display_data",
          "data": {
            "application/vnd.jupyter.widget-view+json": {
              "model_id": "2b9e3f5f0884428199962b3c9bd4875e",
              "version_minor": 0,
              "version_major": 2
            },
            "text/plain": [
              "HBox(children=(FloatProgress(value=0.0, description='parsing log, completed traces :: ', max=7065.0, style=Pro…"
            ]
          },
          "metadata": {
            "tags": []
          }
        },
        {
          "output_type": "stream",
          "text": [
            "\n"
          ],
          "name": "stdout"
        },
        {
          "output_type": "display_data",
          "data": {
            "application/vnd.jupyter.widget-view+json": {
              "model_id": "1830be9c60e941b2b261e5c48ba7c8a9",
              "version_minor": 0,
              "version_major": 2
            },
            "text/plain": [
              "HBox(children=(FloatProgress(value=0.0, description='parsing log, completed traces :: ', max=13087.0, style=Pr…"
            ]
          },
          "metadata": {
            "tags": []
          }
        },
        {
          "output_type": "stream",
          "text": [
            "\n"
          ],
          "name": "stdout"
        },
        {
          "output_type": "display_data",
          "data": {
            "application/vnd.jupyter.widget-view+json": {
              "model_id": "fa9099b2e58c48b8aedaad941b6b68b0",
              "version_minor": 0,
              "version_major": 2
            },
            "text/plain": [
              "HBox(children=(FloatProgress(value=0.0, description='parsing log, completed traces :: ', max=41353.0, style=Pr…"
            ]
          },
          "metadata": {
            "tags": []
          }
        },
        {
          "output_type": "stream",
          "text": [
            "\n"
          ],
          "name": "stdout"
        },
        {
          "output_type": "display_data",
          "data": {
            "application/vnd.jupyter.widget-view+json": {
              "model_id": "50018412902f4fc391dd2488a4490195",
              "version_minor": 0,
              "version_major": 2
            },
            "text/plain": [
              "HBox(children=(FloatProgress(value=0.0, description='parsing log, completed traces :: ', max=150370.0, style=P…"
            ]
          },
          "metadata": {
            "tags": []
          }
        },
        {
          "output_type": "stream",
          "text": [
            "\n"
          ],
          "name": "stdout"
        }
      ]
    },
    {
      "cell_type": "markdown",
      "metadata": {
        "id": "B3QNek0-xGC6"
      },
      "source": [
        "### preparing and manipulating log data\n",
        "---"
      ]
    },
    {
      "cell_type": "code",
      "metadata": {
        "id": "kR467rOsbQOD"
      },
      "source": [
        "log = sepsis_log\n",
        "certain_log, uncertain_log = split_log(log)\n",
        "\n",
        "singular_events = get_events(log)                                                             #all single events as a list\n",
        "singular_events = beautify_events(singular_events)\n",
        "# getting the possible events ready, i.e. the elements of the lookup table for encoding\n",
        "uncertain_events_tuples = get_uncertain_sequences(uncertain_log)                                         #all occuring uncertain sequences as tuples\n",
        "uncertain_events = make_list_uncertain_sequences(uncertain_events_tuples)                                      #all occuring sequences in a list, concatenated\n",
        "\n",
        "all_events = singular_events + uncertain_events\n",
        "all_possible_resolutionss = singular_events + make_possible_resolutions(uncertain_events_tuples)  \n",
        "\n",
        "# get all singular events and their amount, and k\n",
        "SIZE_ACTIVITY_UNIVERSE = len(singular_events)\n",
        "K = len(max(uncertain_events_tuples, key=len))\n",
        "\n",
        "#print(\"Length of: Log:\", len(log), \"Certain Log:\", len(certain_log), \"Uncertain Log:\", len(uncertain_log))\n",
        "#print(\"Number of singular events:\", SIZE_ACTIVITY_UNIVERSE, \"Number of possible input events:\", len(all_events))"
      ],
      "execution_count": null,
      "outputs": []
    },
    {
      "cell_type": "code",
      "metadata": {
        "id": "I6QtIaD7HaWG",
        "cellView": "both"
      },
      "source": [
        "#getting the traces in a form such that the event sequences match the lookup table for encoding, i.e. trace = list of (concatenated) event-strings\n",
        "\n",
        "#data structure: a log is a list of dicts(=traces), where the key is the timestamp and it contains all single events happening at that time\n",
        "log_set, certain_log_set, uncertain_log_set = make_log_set(log), make_log_set(certain_log), make_log_set(uncertain_log)\n",
        "\n",
        "#data structure: a log is a list of lists(=traces), where each event is represented as a string, those who had the same timestamps in a trace are concatenated\n",
        "concat_log, concat_certain_log, concat_uncertain_log = concat_trace_sets(log_set), concat_trace_sets(certain_log_set), concat_trace_sets(uncertain_log_set)"
      ],
      "execution_count": null,
      "outputs": []
    },
    {
      "cell_type": "code",
      "metadata": {
        "id": "DXoCE6o_QZic",
        "outputId": "471b7172-dc13-4c72-86c4-c484f909b395",
        "colab": {
          "base_uri": "https://localhost:8080/",
          "height": 34
        }
      },
      "source": [
        "#creating all possible event sets, for output encoding, up to the length of the longest, observed uncertain sequence \n",
        "#here the ordering does matter, i.e. it contains the resolutions abc, acb, bac, bca, cab, cba for an input event set {a,b,c}\n",
        "really_all_possible_resolutions = product_up_to_k(singular_events, 4)\n",
        "print(len(really_all_possible_resolutions))"
      ],
      "execution_count": null,
      "outputs": [
        {
          "output_type": "stream",
          "text": [
            "69904\n"
          ],
          "name": "stdout"
        }
      ]
    },
    {
      "cell_type": "code",
      "metadata": {
        "id": "6gg6HHnxu-70",
        "outputId": "3b988167-84a5-40f0-8380-d6edd0c09f59",
        "colab": {
          "base_uri": "https://localhost:8080/",
          "height": 54
        }
      },
      "source": [
        "print(log_set[0])"
      ],
      "execution_count": null,
      "outputs": [
        {
          "output_type": "stream",
          "text": [
            "{'2014-10-22 11:15:41+02:00': ['ER Registration'], '2014-10-22 11:27:00+02:00': ['CRP', 'LacticAcid', 'Leucocytes'], '2014-10-22 11:33:37+02:00': ['ER Triage'], '2014-10-22 11:34:00+02:00': ['ER Sepsis Triage'], '2014-10-22 14:03:47+02:00': ['IV Antibiotics', 'IV Liquid'], '2014-10-22 14:13:19+02:00': ['Admission NC'], '2014-10-24 09:00:00+02:00': ['CRP', 'Leucocytes'], '2014-10-26 08:00:00+01:00': ['CRP', 'Leucocytes'], '2014-10-28 08:00:00+01:00': ['CRP', 'Leucocytes'], '2014-10-30 08:00:00+01:00': ['CRP', 'Leucocytes'], '2014-10-31 08:00:00+01:00': ['CRP', 'Leucocytes'], '2014-11-02 08:00:00+01:00': ['CRP', 'Leucocytes'], '2014-11-02 15:15:00+01:00': ['Release A']}\n"
          ],
          "name": "stdout"
        }
      ]
    },
    {
      "cell_type": "code",
      "metadata": {
        "id": "cM1LOqp_5P84",
        "outputId": "043d67b4-7e6f-46b9-badc-3e6f2f3e4a4c",
        "colab": {
          "base_uri": "https://localhost:8080/",
          "height": 156
        }
      },
      "source": [
        "res = []\n",
        "i=5\n",
        "for t in log_set[i]:\n",
        "  res += log_set[i][t]\n",
        "  print(log_set[i][t])\n",
        "\n",
        "print(res)"
      ],
      "execution_count": null,
      "outputs": [
        {
          "output_type": "stream",
          "text": [
            "['ER Registration']\n",
            "['ER Triage']\n",
            "['ER Sepsis Triage']\n",
            "['CRP', 'LacticAcid', 'Leucocytes']\n",
            "['IV Antibiotics', 'IV Liquid']\n",
            "['Admission NC']\n",
            "['Release A']\n",
            "['ER Registration', 'ER Triage', 'ER Sepsis Triage', 'CRP', 'LacticAcid', 'Leucocytes', 'IV Antibiotics', 'IV Liquid', 'Admission NC', 'Release A']\n"
          ],
          "name": "stdout"
        }
      ]
    },
    {
      "cell_type": "code",
      "metadata": {
        "id": "YFBW3c4Iesgz"
      },
      "source": [
        "a = FullTraceEquivalenceProbabilisticModel(certain_log)\n",
        "b = NGramProbabilisticModel(log)\n",
        "c = BinaryRelationsProbabilisticModel(log)"
      ],
      "execution_count": null,
      "outputs": []
    },
    {
      "cell_type": "code",
      "metadata": {
        "id": "9UJfofQrwoAB",
        "outputId": "ec2c1a48-e2e3-473d-9df9-ddba0ffce407",
        "colab": {
          "base_uri": "https://localhost:8080/",
          "height": 34
        }
      },
      "source": [
        "concat_certain_log[0]"
      ],
      "execution_count": null,
      "outputs": [
        {
          "output_type": "execute_result",
          "data": {
            "text/plain": [
              "['|ER Registration|', '|ER Triage|', '|ER Sepsis Triage|']"
            ]
          },
          "metadata": {
            "tags": []
          },
          "execution_count": 31
        }
      ]
    },
    {
      "cell_type": "code",
      "metadata": {
        "id": "SS9GQC2D0Ldm",
        "outputId": "b4d2a2e8-c9de-48cf-e5cc-286fcf4add43",
        "colab": {
          "base_uri": "https://localhost:8080/",
          "height": 156
        }
      },
      "source": [
        "a.trace_frequency"
      ],
      "execution_count": null,
      "outputs": [
        {
          "output_type": "execute_result",
          "data": {
            "text/plain": [
              "{'|ER Registration|ER Triage|ER Sepsis Triage|': 35,\n",
              " '|ER Registration|ER Triage|ER Sepsis Triage|Admission NC|Release A|': 2,\n",
              " '|ER Registration|ER Triage|ER Sepsis Triage|CRP|Admission NC|Admission NC|Release A|Return ER|': 1,\n",
              " '|ER Registration|ER Triage|ER Sepsis Triage|Leucocytes|': 1,\n",
              " '|ER Registration|ER Triage|ER Sepsis Triage|Leucocytes|Admission NC|Leucocytes|Release A|': 1,\n",
              " '|ER Registration|ER Triage|ER Sepsis Triage|Leucocytes|Admission NC|Release A|': 2,\n",
              " '|ER Registration|ER Triage|ER Sepsis Triage|Leucocytes|Admission NC|Release A|Return ER|': 1,\n",
              " '|ER Registration|ER Triage|ER Sepsis Triage|Leucocytes|Leucocytes|': 1}"
            ]
          },
          "metadata": {
            "tags": []
          },
          "execution_count": 32
        }
      ]
    },
    {
      "cell_type": "markdown",
      "metadata": {
        "id": "z5bAwsSv4bH6"
      },
      "source": [
        "### basic encoding\n",
        "\n",
        "---"
      ]
    },
    {
      "cell_type": "code",
      "metadata": {
        "id": "0EptC8DRcUlc"
      },
      "source": [
        "# encoding the input log\n",
        "i_encoder = BasicEncoder(all_events, 1)\n",
        "encoded_inputs = i_encoder.one_hot_encode_log(concat_log)\n",
        "\n",
        "# for assuming the correct order is as in the log \n",
        "# make new encoder, since our output has more possibilities\n",
        "set_log_unsorted = make_set_log(log, False)\n",
        "concat_log_unsorted = concat_trace_sets(set_log_unsorted)\n",
        "\n",
        "\n",
        "o_encoder = BasicEncoder(all_possible_resolutionss, 1)      \n",
        "encoded_targets = o_encoder.one_hot_encode_log(concat_log_unsorted) \n"
      ],
      "execution_count": null,
      "outputs": []
    },
    {
      "cell_type": "markdown",
      "metadata": {
        "id": "DSayZIsc4kGM"
      },
      "source": [
        "### advanced encoding\n",
        "\n",
        "---"
      ]
    },
    {
      "cell_type": "code",
      "metadata": {
        "id": "vpDgWLv0Tp7l"
      },
      "source": [
        "# for all occuring event set as inputs for encoding we consider also all subsets of these sets and mark them \n",
        "# i.e. getting the subsets for all occuring uncertain event sets\n",
        "\n",
        "def all_subsets(event_set) -> list:\n",
        "    length = len([x for x in event_set.split('|')])-2\n",
        "    if length == 1:\n",
        "        return [event_set]\n",
        "    else:\n",
        "        singles = ['|' + e + '|' for e in event_set[1:-1].split('|')]\n",
        "        subsets = []\n",
        "        for i in range(1,len(singles)+1):\n",
        "            combis = itertools_tuples_to_list(list(combinations(singles, i)), i)\n",
        "            for combi in combis:\n",
        "                if combi not in subsets:\n",
        "                    subsets.append(combi)\n",
        "    subsets.sort(key=len)\n",
        "    return subsets\n",
        "\n",
        "all_events_subsets = []\n",
        "for event_set in all_events:\n",
        "  all_events_subsets += [subset for subset in all_subsets(event_set) if subset not in compare]\n",
        "\n",
        "#TODO make subsets dict"
      ],
      "execution_count": null,
      "outputs": []
    },
    {
      "cell_type": "code",
      "metadata": {
        "id": "VthYhvShdf_5"
      },
      "source": [
        "#second encoding\n",
        "i_sub_encoder = SubEncoder(all_events_combinations, 1, 'i')\n",
        "sub_encoded_inputs = i_sub_encoder.sub_encode_log(concat_log)"
      ],
      "execution_count": null,
      "outputs": []
    },
    {
      "cell_type": "code",
      "metadata": {
        "id": "3uBD5baDb6mE",
        "outputId": "3c08f59f-eeed-4410-adc4-e8fae3cf04fc",
        "colab": {
          "base_uri": "https://localhost:8080/",
          "height": 34
        }
      },
      "source": [
        "# for all possible resoultions of the occuring event sets for outputs we consider all subsequences of these possible resolutions and mark them\n",
        "# i.e. getting the subsequences for all possible resolutions of all occuring uncertain event sets\n",
        "\n",
        "def all_subsequences(resolution: str) -> list:\n",
        "    length = len([x for x in resolution.split('|')])-2\n",
        "    if length == 1:\n",
        "        return [resolution]\n",
        "    else:\n",
        "        subsequences = [resolution] + ['|' + e + '|' for e in resolution[1:-1].split('|')]\n",
        "        for i in range(2,length):\n",
        "            subsequences.append('|'+resolution.split('|',i)[i])\n",
        "            subsequences.append(resolution.rsplit('|',i)[0]+'|') \n",
        "        return subsequences\n",
        "\n",
        "all_resolutions_subsequences = []\n",
        "for possible_resolution in all_possible_resolutionss:\n",
        "  all_resolutions_subsequences += [subsequence for subsequence in all_subsequences(possible_resolution) if subsequence not in compare]\n",
        "#TODO: make subsequences dict"
      ],
      "execution_count": null,
      "outputs": [
        {
          "output_type": "stream",
          "text": [
            "136\n"
          ],
          "name": "stdout"
        }
      ]
    },
    {
      "cell_type": "code",
      "metadata": {
        "id": "pg3ZCdCzPpAz"
      },
      "source": [
        "o_sub_encoder = SubEncoder(all_possible_resolutionss_combis, 1, 'o')\n",
        "sub_encoded_targets = o_sub_encoder.sub_encode_log(concat_log)"
      ],
      "execution_count": null,
      "outputs": []
    },
    {
      "cell_type": "markdown",
      "metadata": {
        "id": "ZoWxRlVrvGMr"
      },
      "source": [
        "### feedforward ANN\n",
        "---"
      ]
    },
    {
      "cell_type": "code",
      "metadata": {
        "id": "qVKYruJB0kPK"
      },
      "source": [
        "encoded_ievents = list()\n",
        "for trace in encoded_inputs:\n",
        "  for event in trace:\n",
        "    encoded_ievents.append(event)\n",
        "\n",
        "encoded_tevents = list()\n",
        "for trace in encoded_targets:\n",
        "  for event in trace:\n",
        "    encoded_tevents.append(event)"
      ],
      "execution_count": null,
      "outputs": []
    },
    {
      "cell_type": "code",
      "metadata": {
        "id": "NBmeXCXIHmPU"
      },
      "source": [
        "X_train_full, X_test, y_train_full, y_test = split_train_test(encoded_ievents, encoded_tevents)"
      ],
      "execution_count": null,
      "outputs": []
    },
    {
      "cell_type": "code",
      "metadata": {
        "id": "svDX-gYPIXjO"
      },
      "source": [
        "split_index2 = int(len(X_train_full)/100*10)          #make valid data 10% and train data the rest\n",
        "X_valid, X_train = X_train_full[:900], X_train_full[900:]\n",
        "y_valid, y_train = y_train_full[:900], y_train_full[900:]"
      ],
      "execution_count": null,
      "outputs": []
    },
    {
      "cell_type": "code",
      "metadata": {
        "id": "piu4ehyPVDWe",
        "outputId": "d758479e-e89b-4383-d874-645f91b2382b",
        "colab": {
          "base_uri": "https://localhost:8080/",
          "height": 34
        }
      },
      "source": [
        "type(X_train[0])"
      ],
      "execution_count": null,
      "outputs": [
        {
          "output_type": "execute_result",
          "data": {
            "text/plain": [
              "tensorflow.python.framework.ops.EagerTensor"
            ]
          },
          "metadata": {
            "tags": []
          },
          "execution_count": 98
        }
      ]
    },
    {
      "cell_type": "code",
      "metadata": {
        "id": "DVsWUl7485wS",
        "outputId": "77bd3d4b-9ab3-4d7a-ecaa-59fa041206b8",
        "colab": {
          "base_uri": "https://localhost:8080/",
          "height": 52
        }
      },
      "source": [
        "tX_valid, tX_train = tf.convert_to_tensor(X_valid), tf.convert_to_tensor(X_train)\n",
        "ty_valid, ty_train = tf.convert_to_tensor(y_valid), tf.convert_to_tensor(y_train)\n",
        "print(tX_train.shape)\n",
        "print(ty_train.shape)"
      ],
      "execution_count": null,
      "outputs": [
        {
          "output_type": "stream",
          "text": [
            "(193648, 34)\n",
            "(193648, 135)\n"
          ],
          "name": "stdout"
        }
      ]
    },
    {
      "cell_type": "code",
      "metadata": {
        "id": "UDTkChjLVRzu",
        "outputId": "967dc350-38ad-44fd-b184-59e30829729c",
        "colab": {
          "base_uri": "https://localhost:8080/",
          "height": 34
        }
      },
      "source": [
        "type(tX_train[0])"
      ],
      "execution_count": null,
      "outputs": [
        {
          "output_type": "execute_result",
          "data": {
            "text/plain": [
              "tensorflow.python.framework.ops.EagerTensor"
            ]
          },
          "metadata": {
            "tags": []
          },
          "execution_count": 102
        }
      ]
    },
    {
      "cell_type": "code",
      "metadata": {
        "id": "n7k6HLGWgBE9"
      },
      "source": [
        "#setting up feedforward-ANN\n",
        "model = tf.keras.models.Sequential([\n",
        "    keras.layers.Input(shape=(91,)),\n",
        "    keras.layers.Dense(300, activation=\"relu\"),\n",
        "    keras.layers.Dense(300, activation=\"relu\"),\n",
        "    keras.layers.Dense(200, activation=\"relu\"),\n",
        "    keras.layers.Dense(100, activation=\"relu\"),\n",
        "    keras.layers.Dense(115, activation=\"softmax\"),\n",
        "])\n",
        "\n"
      ],
      "execution_count": null,
      "outputs": []
    },
    {
      "cell_type": "code",
      "metadata": {
        "id": "50yeis8n4ige"
      },
      "source": [
        "model.compile(\n",
        "    loss='categorical_crossentropy',\n",
        "    optimizer='adam',\n",
        "    metrics=['accuracy']\n",
        ")"
      ],
      "execution_count": null,
      "outputs": []
    },
    {
      "cell_type": "code",
      "metadata": {
        "id": "TdrAjWXs5T6D",
        "outputId": "a1831d46-00a8-4c3f-811a-902dea45cbfc",
        "colab": {
          "base_uri": "https://localhost:8080/",
          "height": 330
        }
      },
      "source": [
        "model.summary()"
      ],
      "execution_count": null,
      "outputs": [
        {
          "output_type": "stream",
          "text": [
            "Model: \"sequential_2\"\n",
            "_________________________________________________________________\n",
            "Layer (type)                 Output Shape              Param #   \n",
            "=================================================================\n",
            "dense_10 (Dense)             (None, 300)               27600     \n",
            "_________________________________________________________________\n",
            "dense_11 (Dense)             (None, 300)               90300     \n",
            "_________________________________________________________________\n",
            "dense_12 (Dense)             (None, 200)               60200     \n",
            "_________________________________________________________________\n",
            "dense_13 (Dense)             (None, 100)               20100     \n",
            "_________________________________________________________________\n",
            "dense_14 (Dense)             (None, 115)               11615     \n",
            "=================================================================\n",
            "Total params: 209,815\n",
            "Trainable params: 209,815\n",
            "Non-trainable params: 0\n",
            "_________________________________________________________________\n"
          ],
          "name": "stdout"
        }
      ]
    },
    {
      "cell_type": "code",
      "metadata": {
        "id": "GLB3mR2O46uF",
        "outputId": "b6514b3e-a80b-428c-a39a-be6e38b368b9",
        "colab": {
          "base_uri": "https://localhost:8080/",
          "height": 712
        }
      },
      "source": [
        "history = model.fit(tX_train, ty_train, epochs=20,\n",
        "                    validation_data=(tX_valid, ty_valid))"
      ],
      "execution_count": null,
      "outputs": [
        {
          "output_type": "stream",
          "text": [
            "Epoch 1/20\n",
            "2109/2109 [==============================] - 6s 3ms/step - loss: 0.0843 - accuracy: 0.9892 - val_loss: 0.0125 - val_accuracy: 0.9978\n",
            "Epoch 2/20\n",
            "2109/2109 [==============================] - 6s 3ms/step - loss: 0.0034 - accuracy: 0.9993 - val_loss: 0.0140 - val_accuracy: 0.9978\n",
            "Epoch 3/20\n",
            "2109/2109 [==============================] - 6s 3ms/step - loss: 0.0033 - accuracy: 0.9993 - val_loss: 0.0109 - val_accuracy: 0.9989\n",
            "Epoch 4/20\n",
            "2109/2109 [==============================] - 6s 3ms/step - loss: 0.0031 - accuracy: 0.9993 - val_loss: 0.0108 - val_accuracy: 0.9978\n",
            "Epoch 5/20\n",
            "2109/2109 [==============================] - 6s 3ms/step - loss: 0.0013 - accuracy: 0.9997 - val_loss: 0.0226 - val_accuracy: 0.9956\n",
            "Epoch 6/20\n",
            "2109/2109 [==============================] - 6s 3ms/step - loss: 0.0019 - accuracy: 0.9995 - val_loss: 0.0097 - val_accuracy: 0.9989\n",
            "Epoch 7/20\n",
            "2109/2109 [==============================] - 6s 3ms/step - loss: 0.0025 - accuracy: 0.9994 - val_loss: 0.0117 - val_accuracy: 0.9989\n",
            "Epoch 8/20\n",
            "2109/2109 [==============================] - 6s 3ms/step - loss: 0.0012 - accuracy: 0.9997 - val_loss: 0.0155 - val_accuracy: 0.9989\n",
            "Epoch 9/20\n",
            "2109/2109 [==============================] - 6s 3ms/step - loss: 0.0010 - accuracy: 0.9997 - val_loss: 0.0280 - val_accuracy: 0.9978\n",
            "Epoch 10/20\n",
            "2109/2109 [==============================] - 6s 3ms/step - loss: 7.8774e-04 - accuracy: 0.9998 - val_loss: 0.0106 - val_accuracy: 0.9989\n",
            "Epoch 11/20\n",
            "2109/2109 [==============================] - 6s 3ms/step - loss: 0.0017 - accuracy: 0.9996 - val_loss: 0.0099 - val_accuracy: 0.9989\n",
            "Epoch 12/20\n",
            "2109/2109 [==============================] - 6s 3ms/step - loss: 6.2571e-04 - accuracy: 0.9998 - val_loss: 0.0129 - val_accuracy: 0.9989\n",
            "Epoch 13/20\n",
            "2109/2109 [==============================] - 6s 3ms/step - loss: 9.9739e-04 - accuracy: 0.9997 - val_loss: 0.0141 - val_accuracy: 0.9989\n",
            "Epoch 14/20\n",
            "2109/2109 [==============================] - 6s 3ms/step - loss: 3.8047e-04 - accuracy: 0.9998 - val_loss: 0.0107 - val_accuracy: 0.9989\n",
            "Epoch 15/20\n",
            "2109/2109 [==============================] - 6s 3ms/step - loss: 0.0010 - accuracy: 0.9998 - val_loss: 0.0173 - val_accuracy: 0.9989\n",
            "Epoch 16/20\n",
            "2109/2109 [==============================] - 6s 3ms/step - loss: 7.5403e-04 - accuracy: 0.9998 - val_loss: 0.0112 - val_accuracy: 0.9989\n",
            "Epoch 17/20\n",
            "2109/2109 [==============================] - 6s 3ms/step - loss: 2.9858e-04 - accuracy: 0.9999 - val_loss: 0.0138 - val_accuracy: 0.9989\n",
            "Epoch 18/20\n",
            "2109/2109 [==============================] - 6s 3ms/step - loss: 2.1419e-04 - accuracy: 0.9999 - val_loss: 0.0181 - val_accuracy: 0.9989\n",
            "Epoch 19/20\n",
            "2109/2109 [==============================] - 6s 3ms/step - loss: 2.9882e-04 - accuracy: 0.9999 - val_loss: 0.0155 - val_accuracy: 0.9989\n",
            "Epoch 20/20\n",
            "2109/2109 [==============================] - 6s 3ms/step - loss: 2.8131e-04 - accuracy: 0.9999 - val_loss: 0.0127 - val_accuracy: 0.9989\n"
          ],
          "name": "stdout"
        }
      ]
    },
    {
      "cell_type": "code",
      "metadata": {
        "id": "Ux2Gca3FH2kZ",
        "outputId": "ed99a073-27fb-44b3-d457-bf2f310627d9",
        "colab": {
          "base_uri": "https://localhost:8080/",
          "height": 486
        }
      },
      "source": [
        "pd.DataFrame(history.history).plot(figsize=(12,8))\n",
        "plt.grid(True)\n",
        "plt.gca().set_ylim(0,1)\n",
        "plt.show()"
      ],
      "execution_count": null,
      "outputs": [
        {
          "output_type": "display_data",
          "data": {
            "image/png": "[encoded data removed]",
            "text/plain": [
              "<Figure size 864x576 with 1 Axes>"
            ]
          },
          "metadata": {
            "tags": [],
            "needs_background": "light"
          }
        }
      ]
    }
  ]
}